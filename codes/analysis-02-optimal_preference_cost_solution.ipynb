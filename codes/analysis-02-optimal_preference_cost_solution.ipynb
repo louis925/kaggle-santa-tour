{
 "cells": [
  {
   "cell_type": "code",
   "execution_count": 1,
   "metadata": {},
   "outputs": [],
   "source": [
    "import numpy as np\n",
    "import pandas as pd\n",
    "import matplotlib.pyplot as plt\n",
    "\n",
    "from util_io import (\n",
    "    init, finalize, dump_conf, assigned_day_to_family_on_day, assigned_day_to_occupancy\n",
    ")\n",
    "from util_cost import (\n",
    "    cal_total, n_people, family_id_choice_to_pref_cost, cal_total_preference, cal_total_accounting,\n",
    "    nd_ndp1_to_account_penality, fixed_family_cost, fixed_person_cost\n",
    ")\n",
    "from util_cost import choices as family_pref\n",
    "from util_check import deep_check, check_valid_all"
   ]
  },
  {
   "cell_type": "code",
   "execution_count": 2,
   "metadata": {},
   "outputs": [],
   "source": [
    "# constants #\n",
    "N_families = 5000\n",
    "N_days = 100\n",
    "N_min_people = 125\n",
    "N_max_people = 300\n",
    "# constants #\n",
    "\n",
    "# params #\n",
    "#path_init_conf =     '../output/m08-improved-test.csv'\n",
    "#path_init_conf =     '../input/another_pytorch_implementation.csv'\n",
    "#path_dump_improved = '../output/m14-improved-v2.csv' # output solution\n",
    "\n",
    "num_cpu_cores = 6\n",
    "#time_limit = -1 # unlimited\n",
    "time_limit = 3*60*60*1000  # in ms\n",
    "\n",
    "# occupancy_diff = 2  # +- the occupancy of input solution for each day\n",
    "max_family_rank = 3  # maximum number of rank of the preference days for each family\n",
    "# use_hint = True      # use current input as hint\n",
    "# occupancy_count_as_variables = False  # use occupancy_counts as variable\n",
    "# min_choice_0_families = 3000   # minimum number of families that are at their choice 0\n",
    "target_pref_cost = 62868"
   ]
  },
  {
   "cell_type": "code",
   "execution_count": 3,
   "metadata": {},
   "outputs": [
    {
     "data": {
      "text/plain": [
       "(8, 2)"
      ]
     },
     "execution_count": 3,
     "metadata": {},
     "output_type": "execute_result"
    }
   ],
   "source": [
    "max_family_size = int(max(n_people))\n",
    "min_family_size = int(min(n_people))\n",
    "max_family_size, min_family_size"
   ]
  },
  {
   "cell_type": "code",
   "execution_count": 4,
   "metadata": {},
   "outputs": [],
   "source": [
    "possible_family_size = range(min_family_size, max_family_size+1)"
   ]
  },
  {
   "cell_type": "code",
   "execution_count": 5,
   "metadata": {},
   "outputs": [],
   "source": [
    "possible_family_rank = range(max_family_rank)"
   ]
  },
  {
   "cell_type": "code",
   "execution_count": 6,
   "metadata": {},
   "outputs": [],
   "source": [
    "n_family_size = {s: int((n_people==s).sum()) for s in possible_family_size}"
   ]
  },
  {
   "cell_type": "code",
   "execution_count": 7,
   "metadata": {},
   "outputs": [
    {
     "data": {
      "text/plain": [
       "{2: 717, 3: 981, 4: 1451, 5: 899, 6: 494, 7: 301, 8: 157}"
      ]
     },
     "execution_count": 7,
     "metadata": {},
     "output_type": "execute_result"
    }
   ],
   "source": [
    "n_family_size"
   ]
  },
  {
   "cell_type": "code",
   "execution_count": 8,
   "metadata": {},
   "outputs": [
    {
     "data": {
      "text/plain": [
       "21003"
      ]
     },
     "execution_count": 8,
     "metadata": {},
     "output_type": "execute_result"
    }
   ],
   "source": [
    "total_people = int(n_people.sum())\n",
    "total_people"
   ]
  },
  {
   "cell_type": "markdown",
   "metadata": {},
   "source": [
    "## Ortools - CBC MIP solver"
   ]
  },
  {
   "cell_type": "code",
   "execution_count": 9,
   "metadata": {},
   "outputs": [],
   "source": [
    "from ortools.linear_solver import pywraplp"
   ]
  },
  {
   "cell_type": "code",
   "execution_count": 10,
   "metadata": {},
   "outputs": [],
   "source": [
    "solver = pywraplp.Solver('', pywraplp.Solver.CBC_MIXED_INTEGER_PROGRAMMING)"
   ]
  },
  {
   "cell_type": "code",
   "execution_count": 11,
   "metadata": {},
   "outputs": [
    {
     "name": "stdout",
     "output_type": "stream",
     "text": [
      "Set num threads: True\n",
      "Set time limit: None\n"
     ]
    }
   ],
   "source": [
    "if num_cpu_cores > 0:\n",
    "    print('Set num threads:', solver.SetNumThreads(num_cpu_cores))\n",
    "if time_limit > 0:\n",
    "    print('Set time limit:', solver.SetTimeLimit(time_limit))"
   ]
  },
  {
   "cell_type": "code",
   "execution_count": 12,
   "metadata": {},
   "outputs": [],
   "source": [
    "n_familis_size_at_rank = {\n",
    "    s: [solver.IntVar(0, n_family_size[s], 'f_%i_%i' % (s, rank))\n",
    "        for rank in possible_family_rank]\n",
    "    for s in possible_family_size \n",
    "}"
   ]
  },
  {
   "cell_type": "code",
   "execution_count": 13,
   "metadata": {},
   "outputs": [],
   "source": [
    "sum_family_cost = solver.Sum([\n",
    "    solver.Sum([\n",
    "        n * int(fixed_family_cost[rank]) for rank, n in enumerate(n_familis_at_rank)\n",
    "    ]) for n_familis_at_rank in n_familis_size_at_rank.values()\n",
    "])"
   ]
  },
  {
   "cell_type": "code",
   "execution_count": 14,
   "metadata": {
    "scrolled": true
   },
   "outputs": [],
   "source": [
    "#sum_family_cost.GetCoeffs()"
   ]
  },
  {
   "cell_type": "code",
   "execution_count": 15,
   "metadata": {},
   "outputs": [],
   "source": [
    "sum_people_cost = solver.Sum([\n",
    "    solver.Sum([\n",
    "        n * int(fixed_person_cost[rank] * size) for rank, n in enumerate(n_familis_at_rank)\n",
    "    ]) for size, n_familis_at_rank in n_familis_size_at_rank.items()\n",
    "])"
   ]
  },
  {
   "cell_type": "code",
   "execution_count": 16,
   "metadata": {
    "scrolled": true
   },
   "outputs": [],
   "source": [
    "#sum_people_cost.GetCoeffs()"
   ]
  },
  {
   "cell_type": "code",
   "execution_count": 17,
   "metadata": {},
   "outputs": [],
   "source": [
    "solver.Add(sum_family_cost + sum_people_cost == target_pref_cost);"
   ]
  },
  {
   "cell_type": "code",
   "execution_count": 18,
   "metadata": {},
   "outputs": [],
   "source": [
    "for size, n_families in n_family_size.items():\n",
    "    solver.Add(solver.Sum(n_familis_size_at_rank[size]) == n_families)"
   ]
  },
  {
   "cell_type": "code",
   "execution_count": 19,
   "metadata": {},
   "outputs": [],
   "source": [
    "# for rank in range(max_family_rank):\n",
    "#     solver.Add(n_familis_at_rank[rank] * max_family_size >= n_people_at_rank[rank])\n",
    "#     solver.Add(n_familis_at_rank[rank] * min_family_size <= n_people_at_rank[rank])"
   ]
  },
  {
   "cell_type": "code",
   "execution_count": 20,
   "metadata": {},
   "outputs": [],
   "source": [
    "solver.Minimize(sum_family_cost + sum_people_cost)"
   ]
  },
  {
   "cell_type": "code",
   "execution_count": 21,
   "metadata": {
    "scrolled": true
   },
   "outputs": [
    {
     "data": {
      "text/plain": [
       "21"
      ]
     },
     "execution_count": 21,
     "metadata": {},
     "output_type": "execute_result"
    }
   ],
   "source": [
    "solver.NumVariables()"
   ]
  },
  {
   "cell_type": "code",
   "execution_count": 22,
   "metadata": {},
   "outputs": [
    {
     "name": "stdout",
     "output_type": "stream",
     "text": [
      "Result:  OPTIMAL\n",
      "Total cost =  62868.0\n",
      "Time =  96  milliseconds\n",
      "CPU times: user 24.6 ms, sys: 3.93 ms, total: 28.6 ms\n",
      "Wall time: 28.2 ms\n"
     ]
    }
   ],
   "source": [
    "%%time\n",
    "# Solve\n",
    "sol = solver.Solve()\n",
    "\n",
    "resdict = {0:'OPTIMAL', 1:'FEASIBLE', 2:'INFEASIBLE', 3:'UNBOUNDED', \n",
    "           4:'ABNORMAL', 5:'MODEL_INVALID', 6:'NOT_SOLVED'}\n",
    "print('Result: ', resdict[sol])\n",
    "print('Total cost = ', solver.Objective().Value())\n",
    "print(\"Time = \", solver.WallTime(), \" milliseconds\")"
   ]
  },
  {
   "cell_type": "code",
   "execution_count": 23,
   "metadata": {},
   "outputs": [
    {
     "data": {
      "text/plain": [
       "True"
      ]
     },
     "execution_count": 23,
     "metadata": {},
     "output_type": "execute_result"
    }
   ],
   "source": [
    "solver.VerifySolution(0.0001, False)"
   ]
  },
  {
   "cell_type": "code",
   "execution_count": 24,
   "metadata": {},
   "outputs": [],
   "source": [
    "n_familis_size_at_rank_sol = {\n",
    "    s: [n_familis_size_at_rank[s][rank].solution_value()\n",
    "        for rank in possible_family_rank]\n",
    "    for s in possible_family_size \n",
    "}"
   ]
  },
  {
   "cell_type": "code",
   "execution_count": 25,
   "metadata": {},
   "outputs": [
    {
     "data": {
      "text/plain": [
       "{2: [717.0, 0.0, 0.0],\n",
       " 3: [981.0, 0.0, 0.0],\n",
       " 4: [1451.0, 0.0, 0.0],\n",
       " 5: [899.0, 0.0, 0.0],\n",
       " 6: [78.0, 0.0, 416.0],\n",
       " 7: [292.0, 9.0, 0.0],\n",
       " 8: [0.0, 0.0, 157.0]}"
      ]
     },
     "execution_count": 25,
     "metadata": {},
     "output_type": "execute_result"
    }
   ],
   "source": [
    "n_familis_size_at_rank_sol"
   ]
  },
  {
   "cell_type": "code",
   "execution_count": 26,
   "metadata": {},
   "outputs": [
    {
     "name": "stdout",
     "output_type": "stream",
     "text": [
      "29100.0 33768.0 62868.0 62868\n"
     ]
    }
   ],
   "source": [
    "family_cost_sol = sum([\n",
    "    n_familis_size_at_rank_sol[size][rank] * fixed_family_cost[rank]\n",
    "    for size in possible_family_size for rank in possible_family_rank\n",
    "])\n",
    "people_cost_sol = sum([\n",
    "    n_familis_size_at_rank_sol[size][rank] * fixed_person_cost[rank] * size\n",
    "    for size in possible_family_size for rank in possible_family_rank\n",
    "])\n",
    "print(family_cost_sol, people_cost_sol, family_cost_sol+people_cost_sol, target_pref_cost)"
   ]
  },
  {
   "cell_type": "code",
   "execution_count": null,
   "metadata": {},
   "outputs": [],
   "source": []
  }
 ],
 "metadata": {
  "kernelspec": {
   "display_name": "Python 3",
   "language": "python",
   "name": "python3"
  },
  "language_info": {
   "codemirror_mode": {
    "name": "ipython",
    "version": 3
   },
   "file_extension": ".py",
   "mimetype": "text/x-python",
   "name": "python",
   "nbconvert_exporter": "python",
   "pygments_lexer": "ipython3",
   "version": "3.6.6"
  },
  "toc": {
   "base_numbering": 1,
   "nav_menu": {},
   "number_sections": true,
   "sideBar": true,
   "skip_h1_title": true,
   "title_cell": "Table of Contents",
   "title_sidebar": "Contents",
   "toc_cell": false,
   "toc_position": {
    "height": "calc(100% - 180px)",
    "left": "10px",
    "top": "150px",
    "width": "165px"
   },
   "toc_section_display": true,
   "toc_window_display": true
  }
 },
 "nbformat": 4,
 "nbformat_minor": 2
}
