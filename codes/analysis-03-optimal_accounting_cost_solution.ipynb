{
 "cells": [
  {
   "cell_type": "code",
   "execution_count": 1,
   "metadata": {},
   "outputs": [],
   "source": [
    "import numpy as np\n",
    "import pandas as pd\n",
    "import matplotlib.pyplot as plt\n",
    "\n",
    "from util_io import (\n",
    "    init, finalize, dump_conf, assigned_day_to_family_on_day, assigned_day_to_occupancy\n",
    ")\n",
    "from util_cost import (\n",
    "    cal_total, n_people, family_id_choice_to_pref_cost, cal_total_preference, cal_total_accounting,\n",
    "    nd_ndp1_to_account_penality, fixed_family_cost, fixed_person_cost\n",
    ")\n",
    "from util_cost import choices as family_pref\n",
    "from util_check import deep_check, check_valid_all"
   ]
  },
  {
   "cell_type": "code",
   "execution_count": 2,
   "metadata": {},
   "outputs": [],
   "source": [
    "# constants #\n",
    "N_families = 5000\n",
    "N_days = 100\n",
    "N_min_people = 125\n",
    "N_max_people = 300\n",
    "# constants #\n",
    "\n",
    "# params #\n",
    "#path_init_conf =     '../output/m08-improved-test.csv'\n",
    "#path_init_conf =     '../input/another_pytorch_implementation.csv'\n",
    "#path_dump_improved = '../output/m14-improved-v2.csv' # output solution\n",
    "\n",
    "num_cpu_cores = 6\n",
    "#time_limit = -1 # unlimited\n",
    "time_limit = 3*60*60*1000  # in ms\n",
    "\n",
    "# occupancy_diff = 2  # +- the occupancy of input solution for each day\n",
    "max_family_rank = 3  # maximum number of rank of the preference days for each family\n",
    "# use_hint = True      # use current input as hint\n",
    "# occupancy_count_as_variables = False  # use occupancy_counts as variable\n",
    "# min_choice_0_families = 3000   # minimum number of families that are at their choice 0\n",
    "# target_pref_cost = 62868\n",
    "target_accounting_cost = 6020.043432\n",
    "target_accounting_cost_error = 0.0001"
   ]
  },
  {
   "cell_type": "markdown",
   "metadata": {},
   "source": [
    "## Ortools - CBC MIP solver"
   ]
  },
  {
   "cell_type": "code",
   "execution_count": 3,
   "metadata": {},
   "outputs": [],
   "source": [
    "from ortools.linear_solver import pywraplp"
   ]
  },
  {
   "cell_type": "code",
   "execution_count": 4,
   "metadata": {},
   "outputs": [],
   "source": [
    "solver = pywraplp.Solver('', pywraplp.Solver.CBC_MIXED_INTEGER_PROGRAMMING)"
   ]
  },
  {
   "cell_type": "code",
   "execution_count": 5,
   "metadata": {},
   "outputs": [
    {
     "name": "stdout",
     "output_type": "stream",
     "text": [
      "Set num threads: True\n",
      "Set time limit: None\n"
     ]
    }
   ],
   "source": [
    "if num_cpu_cores > 0:\n",
    "    print('Set num threads:', solver.SetNumThreads(num_cpu_cores))\n",
    "if time_limit > 0:\n",
    "    print('Set time limit:', solver.SetTimeLimit(time_limit))"
   ]
  },
  {
   "cell_type": "code",
   "execution_count": 6,
   "metadata": {},
   "outputs": [],
   "source": [
    "allowed_occupancy = range(N_min_people, N_max_people+1)"
   ]
  },
  {
   "cell_type": "code",
   "execution_count": 7,
   "metadata": {},
   "outputs": [
    {
     "name": "stdout",
     "output_type": "stream",
     "text": [
      "21003\n"
     ]
    }
   ],
   "source": [
    "total_people = n_people.sum()\n",
    "print(total_people)"
   ]
  },
  {
   "cell_type": "code",
   "execution_count": 8,
   "metadata": {},
   "outputs": [],
   "source": [
    "# Occupancy pairs counts [N_d, N_d+1]: n of days at that pair\n",
    "occupancy_pairs_counts = {\n",
    "    (o, o_next): solver.IntVar(0, N_days, 'o[%i,%i]' % (o, o_next))\n",
    "    for o in allowed_occupancy for o_next in allowed_occupancy\n",
    "}"
   ]
  },
  {
   "cell_type": "code",
   "execution_count": 9,
   "metadata": {},
   "outputs": [],
   "source": [
    "accounting_cost = solver.Sum([\n",
    "    occupancy_pairs_counts[o, o_next] * nd_ndp1_to_account_penality[o, o_next]\n",
    "    for o in allowed_occupancy for o_next in allowed_occupancy\n",
    "])"
   ]
  },
  {
   "cell_type": "code",
   "execution_count": 10,
   "metadata": {},
   "outputs": [],
   "source": [
    "#accounting_cost.GetCoeffs()"
   ]
  },
  {
   "cell_type": "code",
   "execution_count": 11,
   "metadata": {},
   "outputs": [
    {
     "data": {
      "text/plain": [
       "<ortools.linear_solver.pywraplp.Constraint; proxy of <Swig Object of type 'operations_research::MPConstraint *' at 0x11dea9900> >"
      ]
     },
     "execution_count": 11,
     "metadata": {},
     "output_type": "execute_result"
    }
   ],
   "source": [
    "# at least 1 day with o == o_next\n",
    "solver.Add(solver.Sum([occupancy_pairs_counts[o, o] for o in allowed_occupancy]) >= 1)"
   ]
  },
  {
   "cell_type": "code",
   "execution_count": 12,
   "metadata": {
    "scrolled": true
   },
   "outputs": [
    {
     "data": {
      "text/plain": [
       "<ortools.linear_solver.pywraplp.Constraint; proxy of <Swig Object of type 'operations_research::MPConstraint *' at 0x11dea9a80> >"
      ]
     },
     "execution_count": 12,
     "metadata": {},
     "output_type": "execute_result"
    }
   ],
   "source": [
    "# first day is N_max_people = 300\n",
    "solver.Add(solver.Sum([occupancy_pairs_counts[N_max_people, o] for o in allowed_occupancy]) >= 1)"
   ]
  },
  {
   "cell_type": "code",
   "execution_count": 13,
   "metadata": {},
   "outputs": [],
   "source": [
    "# occupancy counts from outgoing\n",
    "occupancy_outgoing_counts = {\n",
    "    # outgoing of the o\n",
    "    o: solver.Sum([occupancy_pairs_counts[o, o_other] for o_other in allowed_occupancy])    \n",
    "    for o in allowed_occupancy\n",
    "}\n",
    "# occupancy counts from incoming\n",
    "occupancy_incoming_counts = {\n",
    "    # incoming of the o\n",
    "    o: solver.Sum([occupancy_pairs_counts[o_other, o] for o_other in allowed_occupancy])\n",
    "    - (1 if o == N_min_people else 0) + (1 if o == N_max_people else 0)\n",
    "    for o in allowed_occupancy\n",
    "}"
   ]
  },
  {
   "cell_type": "code",
   "execution_count": 14,
   "metadata": {},
   "outputs": [],
   "source": [
    "# o and o_next consistent (assume first day is 300 last day is 125)\n",
    "for o in allowed_occupancy:\n",
    "    solver.Add(\n",
    "        occupancy_outgoing_counts[o] == occupancy_incoming_counts[o]\n",
    "    )"
   ]
  },
  {
   "cell_type": "code",
   "execution_count": 15,
   "metadata": {},
   "outputs": [
    {
     "data": {
      "text/plain": [
       "<ortools.linear_solver.pywraplp.Constraint; proxy of <Swig Object of type 'operations_research::MPConstraint *' at 0x11c0a1bd0> >"
      ]
     },
     "execution_count": 15,
     "metadata": {},
     "output_type": "execute_result"
    }
   ],
   "source": [
    "# sum occupancy == total_people\n",
    "solver.Add(\n",
    "    solver.Sum([occupancy_outgoing_counts[o] * o for o in allowed_occupancy]) == total_people\n",
    ")"
   ]
  },
  {
   "cell_type": "code",
   "execution_count": 16,
   "metadata": {
    "scrolled": true
   },
   "outputs": [
    {
     "data": {
      "text/plain": [
       "<ortools.linear_solver.pywraplp.Constraint; proxy of <Swig Object of type 'operations_research::MPConstraint *' at 0x11b0bfa80> >"
      ]
     },
     "execution_count": 16,
     "metadata": {},
     "output_type": "execute_result"
    }
   ],
   "source": [
    "# constraint targe accounting cost\n",
    "solver.Add(accounting_cost <= target_accounting_cost + target_accounting_cost_error)\n",
    "solver.Add(accounting_cost >= target_accounting_cost - target_accounting_cost_error)"
   ]
  },
  {
   "cell_type": "code",
   "execution_count": 17,
   "metadata": {},
   "outputs": [],
   "source": [
    "solver.Minimize(accounting_cost)"
   ]
  },
  {
   "cell_type": "code",
   "execution_count": 18,
   "metadata": {
    "scrolled": true
   },
   "outputs": [
    {
     "data": {
      "text/plain": [
       "30976"
      ]
     },
     "execution_count": 18,
     "metadata": {},
     "output_type": "execute_result"
    }
   ],
   "source": [
    "solver.NumVariables()"
   ]
  },
  {
   "cell_type": "code",
   "execution_count": 19,
   "metadata": {},
   "outputs": [
    {
     "data": {
      "text/plain": [
       "181"
      ]
     },
     "execution_count": 19,
     "metadata": {},
     "output_type": "execute_result"
    }
   ],
   "source": [
    "solver.NumConstraints()"
   ]
  },
  {
   "cell_type": "markdown",
   "metadata": {},
   "source": [
    "### Solve"
   ]
  },
  {
   "cell_type": "code",
   "execution_count": 20,
   "metadata": {},
   "outputs": [
    {
     "name": "stdout",
     "output_type": "stream",
     "text": [
      "Result:  NOT_SOLVED\n",
      "Total cost =  0.0\n",
      "Time =  1977817  milliseconds\n",
      "CPU times: user 3h 3s, sys: 5min 57s, total: 3h 6min\n",
      "Wall time: 32min 56s\n"
     ]
    }
   ],
   "source": [
    "%%time\n",
    "# Solve\n",
    "sol = solver.Solve()\n",
    "\n",
    "resdict = {0:'OPTIMAL', 1:'FEASIBLE', 2:'INFEASIBLE', 3:'UNBOUNDED', \n",
    "           4:'ABNORMAL', 5:'MODEL_INVALID', 6:'NOT_SOLVED'}\n",
    "print('Result: ', resdict[sol])\n",
    "print('Total cost = ', solver.Objective().Value())\n",
    "print(\"Time = \", solver.WallTime(), \" milliseconds\")"
   ]
  },
  {
   "cell_type": "code",
   "execution_count": null,
   "metadata": {},
   "outputs": [],
   "source": [
    "solver.VerifySolution(0.00001, False)"
   ]
  },
  {
   "cell_type": "code",
   "execution_count": null,
   "metadata": {},
   "outputs": [],
   "source": [
    "occupancy_pairs_counts_sol = {\n",
    "    (o, o_next): occupancy_pairs_counts[o, o_next].solution_value()\n",
    "    for o in allowed_occupancy for o_next in allowed_occupancy\n",
    "}"
   ]
  },
  {
   "cell_type": "code",
   "execution_count": null,
   "metadata": {},
   "outputs": [],
   "source": [
    "result_cost = sum([\n",
    "    occupancy_pairs_counts_sol[o, o_next] * nd_ndp1_to_account_penality[o, o_next]\n",
    "    for o in allowed_occupancy for o_next in allowed_occupancy\n",
    "])\n",
    "is_in_range = abs(result_cost - target_accounting_cost) <= target_accounting_cost_error\n",
    "print(result_cost, target_accounting_cost, '+-', target_accounting_cost_error)\n",
    "print('Is in range:', is_in_range)"
   ]
  },
  {
   "cell_type": "code",
   "execution_count": null,
   "metadata": {},
   "outputs": [],
   "source": [
    "occupancy_pairs_counts_sol_arr = np.array([\n",
    "    [occupancy_pairs_counts_sol[o, o_next] for o_next in allowed_occupancy] for o in allowed_occupancy\n",
    "])"
   ]
  },
  {
   "cell_type": "code",
   "execution_count": null,
   "metadata": {},
   "outputs": [],
   "source": [
    "plt.imshow(occupancy_pairs_counts_sol_arr, cmap='hot', interpolation='nearest')"
   ]
  },
  {
   "cell_type": "code",
   "execution_count": null,
   "metadata": {
    "scrolled": true
   },
   "outputs": [],
   "source": [
    "print({i: v for i, v in occupancy_pairs_counts_sol.items() if v > 0})"
   ]
  },
  {
   "cell_type": "code",
   "execution_count": null,
   "metadata": {},
   "outputs": [],
   "source": [
    "out_going_occupancy_day_counts_sol = pd.Series({\n",
    "    o: sum([occupancy_pairs_counts_sol[o, o_next] for o_next in allowed_occupancy])\n",
    "    for o in allowed_occupancy\n",
    "})\n",
    "in_coming_occupancy_day_counts_sol = pd.Series({\n",
    "    o_next: sum([occupancy_pairs_counts_sol[o, o_next] for o in allowed_occupancy])\n",
    "    for o_next in allowed_occupancy\n",
    "})"
   ]
  },
  {
   "cell_type": "code",
   "execution_count": null,
   "metadata": {},
   "outputs": [],
   "source": [
    "plt.figure(figsize=(12, 4))\n",
    "plt.plot(in_coming_occupancy_day_counts_sol, alpha=0.7, label='in coming')\n",
    "plt.plot(out_going_occupancy_day_counts_sol, alpha=0.7, label='out going')\n",
    "plt.legend(); plt.grid(); plt.show()"
   ]
  },
  {
   "cell_type": "code",
   "execution_count": null,
   "metadata": {},
   "outputs": [],
   "source": [
    "plt.figure(figsize=(12, 2))\n",
    "plt.plot(in_coming_occupancy_day_counts_sol - out_going_occupancy_day_counts_sol)\n",
    "plt.grid(); plt.show()"
   ]
  }
 ],
 "metadata": {
  "kernelspec": {
   "display_name": "Python 3",
   "language": "python",
   "name": "python3"
  },
  "language_info": {
   "codemirror_mode": {
    "name": "ipython",
    "version": 3
   },
   "file_extension": ".py",
   "mimetype": "text/x-python",
   "name": "python",
   "nbconvert_exporter": "python",
   "pygments_lexer": "ipython3",
   "version": "3.6.6"
  },
  "toc": {
   "base_numbering": 1,
   "nav_menu": {},
   "number_sections": true,
   "sideBar": true,
   "skip_h1_title": true,
   "title_cell": "Table of Contents",
   "title_sidebar": "Contents",
   "toc_cell": false,
   "toc_position": {
    "height": "calc(100% - 180px)",
    "left": "10px",
    "top": "150px",
    "width": "165px"
   },
   "toc_section_display": true,
   "toc_window_display": true
  }
 },
 "nbformat": 4,
 "nbformat_minor": 2
}
