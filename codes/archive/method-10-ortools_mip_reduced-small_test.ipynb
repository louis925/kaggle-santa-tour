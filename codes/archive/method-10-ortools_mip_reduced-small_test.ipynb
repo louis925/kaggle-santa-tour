{
 "cells": [
  {
   "cell_type": "code",
   "execution_count": 1,
   "metadata": {},
   "outputs": [],
   "source": [
    "import numpy as np\n",
    "import pandas as pd\n",
    "\n",
    "from util_io import init, finalize, dump_conf\n",
    "from util_cost import cal_total, n_people, family_id_choice_to_pref_cost\n",
    "from util_cost import choices as family_pref\n",
    "from util_check import deep_check"
   ]
  },
  {
   "cell_type": "code",
   "execution_count": 2,
   "metadata": {},
   "outputs": [],
   "source": [
    "# constants #\n",
    "N_families = 3000\n",
    "N_days = 100\n",
    "N_min_people = 121\n",
    "N_max_people = 300\n",
    "# constants #\n",
    "\n",
    "# params #\n",
    "path_init_conf =     '../output/m08-improved.csv'\n",
    "path_dump_improved = '../output/m10-improved.csv' # lowest cost"
   ]
  },
  {
   "cell_type": "code",
   "execution_count": 3,
   "metadata": {},
   "outputs": [
    {
     "name": "stdout",
     "output_type": "stream",
     "text": [
      "Read initial configs...\n",
      "Read config completed.\n",
      "Init config cost: 73610.22770050484\n"
     ]
    }
   ],
   "source": [
    "assigned_day, family_on_day, occupancy = init(path_conf=path_init_conf)\n",
    "etotal_low = cal_total(assigned_day, occupancy)\n",
    "print('Init config cost:', etotal_low)"
   ]
  },
  {
   "cell_type": "code",
   "execution_count": 4,
   "metadata": {},
   "outputs": [
    {
     "data": {
      "text/plain": [
       "5000"
      ]
     },
     "execution_count": 4,
     "metadata": {},
     "output_type": "execute_result"
    }
   ],
   "source": [
    "len(assigned_day)"
   ]
  },
  {
   "cell_type": "markdown",
   "metadata": {},
   "source": [
    "## Ortools MIP"
   ]
  },
  {
   "cell_type": "code",
   "execution_count": 5,
   "metadata": {},
   "outputs": [],
   "source": [
    "from ortools.linear_solver import pywraplp"
   ]
  },
  {
   "cell_type": "code",
   "execution_count": 6,
   "metadata": {},
   "outputs": [],
   "source": [
    "solver = pywraplp.Solver('', pywraplp.Solver.CBC_MIXED_INTEGER_PROGRAMMING)\n",
    "# solver = pywraplp.Solver('', pywraplp.Solver.CPLEX_MIXED_INTEGER_PROGRAMMING)"
   ]
  },
  {
   "cell_type": "code",
   "execution_count": 7,
   "metadata": {},
   "outputs": [],
   "source": [
    "#solver.SetSolverSpecificParametersAsString('threads')"
   ]
  },
  {
   "cell_type": "code",
   "execution_count": 8,
   "metadata": {},
   "outputs": [
    {
     "data": {
      "text/plain": [
       "True"
      ]
     },
     "execution_count": 8,
     "metadata": {},
     "output_type": "execute_result"
    }
   ],
   "source": [
    "solver.SetNumThreads(8)"
   ]
  },
  {
   "cell_type": "code",
   "execution_count": 9,
   "metadata": {},
   "outputs": [],
   "source": [
    "families = range(N_families)\n",
    "days = range(1, N_days + 1)"
   ]
  },
  {
   "cell_type": "code",
   "execution_count": 10,
   "metadata": {},
   "outputs": [
    {
     "data": {
      "text/plain": [
       "11"
      ]
     },
     "execution_count": 10,
     "metadata": {},
     "output_type": "execute_result"
    }
   ],
   "source": [
    "# Possible choice for the family\n",
    "# last choice is any day that is not on the family's preferred days\n",
    "N_choices = family_id_choice_to_pref_cost.shape[1]\n",
    "N_choices"
   ]
  },
  {
   "cell_type": "code",
   "execution_count": 11,
   "metadata": {},
   "outputs": [
    {
     "data": {
      "text/plain": [
       "12602"
      ]
     },
     "execution_count": 11,
     "metadata": {},
     "output_type": "execute_result"
    }
   ],
   "source": [
    "n_people = n_people[:N_families]\n",
    "n_people.sum()"
   ]
  },
  {
   "cell_type": "code",
   "execution_count": 12,
   "metadata": {},
   "outputs": [],
   "source": [
    "family_id_choice_to_pref_cost = family_id_choice_to_pref_cost[:N_families]"
   ]
  },
  {
   "cell_type": "code",
   "execution_count": 13,
   "metadata": {},
   "outputs": [
    {
     "data": {
      "text/plain": [
       "(3000, 11)"
      ]
     },
     "execution_count": 13,
     "metadata": {},
     "output_type": "execute_result"
    }
   ],
   "source": [
    "family_id_choice_to_pref_cost.shape"
   ]
  },
  {
   "cell_type": "code",
   "execution_count": 14,
   "metadata": {
    "scrolled": true
   },
   "outputs": [
    {
     "data": {
      "text/plain": [
       "array([[   0,   50,   86, ...,  544, 1440, 2236],\n",
       "       [   0,   50,   86, ...,  544, 1440, 2236],\n",
       "       [   0,   50,   77, ...,  508, 1205, 1802],\n",
       "       ...,\n",
       "       [   0,   50,   95, ...,  580, 1675, 2670],\n",
       "       [   0,   50,  104, ...,  616, 1910, 3104],\n",
       "       [   0,   50,   95, ...,  580, 1675, 2670]])"
      ]
     },
     "execution_count": 14,
     "metadata": {},
     "output_type": "execute_result"
    }
   ],
   "source": [
    "family_id_choice_to_pref_cost"
   ]
  },
  {
   "cell_type": "code",
   "execution_count": 15,
   "metadata": {},
   "outputs": [],
   "source": [
    "family_pref = family_pref[:N_families]"
   ]
  },
  {
   "cell_type": "markdown",
   "metadata": {},
   "source": [
    "## Variables"
   ]
  },
  {
   "cell_type": "code",
   "execution_count": 16,
   "metadata": {},
   "outputs": [],
   "source": [
    "# Variables\n",
    "# assignment matrix[family, pref_rank]\n",
    "assignment_matrix = {}\n",
    "for family in families:\n",
    "    for c in range(N_choices):\n",
    "        assignment_matrix[family, c] = solver.BoolVar('x[%i,%i]' % (family, c))"
   ]
  },
  {
   "cell_type": "code",
   "execution_count": 17,
   "metadata": {},
   "outputs": [
    {
     "data": {
      "text/plain": [
       "33000"
      ]
     },
     "execution_count": 17,
     "metadata": {},
     "output_type": "execute_result"
    }
   ],
   "source": [
    "len(assignment_matrix)"
   ]
  },
  {
   "cell_type": "code",
   "execution_count": 18,
   "metadata": {},
   "outputs": [],
   "source": [
    "possible_family_sizes = np.unique(n_people)"
   ]
  },
  {
   "cell_type": "code",
   "execution_count": 19,
   "metadata": {},
   "outputs": [],
   "source": [
    "# unpreferred_day_counts[day, size]\n",
    "unpreferred_day_counts = {}\n",
    "for day in days:\n",
    "    for size in possible_family_sizes:\n",
    "        ub = int(N_max_people / size)\n",
    "        # ub = solver.infinity()\n",
    "        unpreferred_day_counts[day, size] = solver.IntVar(0, ub, 'd[%i,%i]' % (day, size))"
   ]
  },
  {
   "cell_type": "code",
   "execution_count": 20,
   "metadata": {
    "scrolled": true
   },
   "outputs": [
    {
     "data": {
      "text/plain": [
       "700"
      ]
     },
     "execution_count": 20,
     "metadata": {},
     "output_type": "execute_result"
    }
   ],
   "source": [
    "len(unpreferred_day_counts)"
   ]
  },
  {
   "cell_type": "markdown",
   "metadata": {},
   "source": [
    "## Constraints"
   ]
  },
  {
   "cell_type": "markdown",
   "metadata": {},
   "source": [
    "### constraint 1: each family only take one day (choice)"
   ]
  },
  {
   "cell_type": "code",
   "execution_count": 21,
   "metadata": {},
   "outputs": [],
   "source": [
    "# Constraints\n",
    "# constraint 1: each family only take one day (choice)\n",
    "for family in families:\n",
    "    solver.Add(solver.Sum([assignment_matrix[family, c]\n",
    "                           for c in range(N_choices)]) == 1)"
   ]
  },
  {
   "cell_type": "markdown",
   "metadata": {},
   "source": [
    "### constraint 2: each day can only have 125-300 people"
   ]
  },
  {
   "cell_type": "code",
   "execution_count": 22,
   "metadata": {},
   "outputs": [],
   "source": [
    "# constraint 2: each day can only have 125-300 people"
   ]
  },
  {
   "cell_type": "code",
   "execution_count": 23,
   "metadata": {},
   "outputs": [
    {
     "data": {
      "text/plain": [
       "10"
      ]
     },
     "execution_count": 23,
     "metadata": {},
     "output_type": "execute_result"
    }
   ],
   "source": [
    "N_family_pref = N_choices - 1\n",
    "N_family_pref"
   ]
  },
  {
   "cell_type": "code",
   "execution_count": 24,
   "metadata": {},
   "outputs": [],
   "source": [
    "# family_pref = np.array([np.random.choice(N_days, size=(N_family_pref, ), replace=False) + 1 \n",
    "#                         for _ in range(N_families)]) # reduce problem for testing"
   ]
  },
  {
   "cell_type": "code",
   "execution_count": 25,
   "metadata": {
    "scrolled": true
   },
   "outputs": [
    {
     "data": {
      "text/plain": [
       "array([[ 52,  38,  12, ...,  76,  10,  28],\n",
       "       [ 26,   4,  82, ...,   6,  66,  61],\n",
       "       [100,  54,  25, ...,  89,  80,  33],\n",
       "       ...,\n",
       "       [  1,  34,  75, ...,  29,  16,  33],\n",
       "       [ 42,  88,   1, ...,  69,   9,   5],\n",
       "       [ 98,  40,  75, ...,  88,  24,  96]])"
      ]
     },
     "execution_count": 25,
     "metadata": {},
     "output_type": "execute_result"
    }
   ],
   "source": [
    "family_pref"
   ]
  },
  {
   "cell_type": "code",
   "execution_count": 26,
   "metadata": {},
   "outputs": [
    {
     "data": {
      "text/plain": [
       "(3000, 10)"
      ]
     },
     "execution_count": 26,
     "metadata": {},
     "output_type": "execute_result"
    }
   ],
   "source": [
    "family_pref.shape"
   ]
  },
  {
   "cell_type": "code",
   "execution_count": 27,
   "metadata": {},
   "outputs": [],
   "source": [
    "# day to dictionary of families who choice this day with value as preference rank\n",
    "days_family_prefered = [{} for day in range(N_days+1)]  # day = 0 should not be used"
   ]
  },
  {
   "cell_type": "code",
   "execution_count": 28,
   "metadata": {},
   "outputs": [],
   "source": [
    "for family, pref in enumerate(family_pref):\n",
    "    for pref_rank, day in enumerate(pref):\n",
    "        days_family_prefered[day][family] = pref_rank"
   ]
  },
  {
   "cell_type": "code",
   "execution_count": 29,
   "metadata": {},
   "outputs": [],
   "source": [
    "for day in days:\n",
    "    # find those family who like this day\n",
    "    family_prefered = days_family_prefered[day]\n",
    "    solver.Add(\n",
    "        solver.Sum(\n",
    "            [assignment_matrix[family, pref_rank] * n_people[family] \n",
    "             for family, pref_rank in family_prefered.items()]\n",
    "        )\n",
    "        + solver.Sum(\n",
    "            [unpreferred_day_counts[day, s] * s for s in possible_family_sizes]\n",
    "        )\n",
    "        <= N_max_people,\n",
    "        'day_upper_bound[%i]' % day\n",
    "    )\n",
    "    solver.Add(\n",
    "        solver.Sum(\n",
    "            [assignment_matrix[family, pref_rank] * n_people[family] \n",
    "             for family, pref_rank in family_prefered.items()]\n",
    "        )\n",
    "        + solver.Sum(\n",
    "            [unpreferred_day_counts[day, s] * s for s in possible_family_sizes]\n",
    "        )        \n",
    "        >= N_min_people,\n",
    "        'day_lower_bound[%i]' % day\n",
    "    )"
   ]
  },
  {
   "cell_type": "markdown",
   "metadata": {},
   "source": [
    "### constraint 3: unpreferred day family count conservation for each family size"
   ]
  },
  {
   "cell_type": "code",
   "execution_count": 30,
   "metadata": {},
   "outputs": [],
   "source": [
    "# constraint 3: unpreferred day family count conservation for each family size"
   ]
  },
  {
   "cell_type": "code",
   "execution_count": 31,
   "metadata": {},
   "outputs": [],
   "source": [
    "family_size_to_family_ids = {\n",
    "    size: np.where(n_people == size)[0] for size in possible_family_sizes\n",
    "}"
   ]
  },
  {
   "cell_type": "code",
   "execution_count": 32,
   "metadata": {},
   "outputs": [],
   "source": [
    "for size in possible_family_sizes:\n",
    "    solver.Add(\n",
    "        solver.Sum([assignment_matrix[family, N_choices - 1]\n",
    "                    for family in family_size_to_family_ids[size]])\n",
    "        == solver.Sum([unpreferred_day_counts[day, size] for day in days]),\n",
    "        'unpreferred_day_counts[%i]' % size\n",
    "    )"
   ]
  },
  {
   "cell_type": "markdown",
   "metadata": {},
   "source": [
    "## Objective"
   ]
  },
  {
   "cell_type": "code",
   "execution_count": 33,
   "metadata": {},
   "outputs": [],
   "source": [
    "# Objective - Preference cost only as approximation\n",
    "solver.Minimize(\n",
    "    solver.Sum([\n",
    "        assignment_matrix[family, c] * family_id_choice_to_pref_cost[family, c]\n",
    "        for family in families for c in range(N_choices)\n",
    "    ])\n",
    ")"
   ]
  },
  {
   "cell_type": "markdown",
   "metadata": {},
   "source": [
    "xx = solver.constraints()[0]\n",
    "\n",
    "[xx.GetCoefficient(assignment_matrix[1, c]) for c in range(N_choices)]\n",
    "\n",
    "xx.name()"
   ]
  },
  {
   "cell_type": "markdown",
   "metadata": {},
   "source": [
    "## Solve"
   ]
  },
  {
   "cell_type": "code",
   "execution_count": 34,
   "metadata": {},
   "outputs": [
    {
     "data": {
      "text/plain": [
       "33700"
      ]
     },
     "execution_count": 34,
     "metadata": {},
     "output_type": "execute_result"
    }
   ],
   "source": [
    "len(solver.variables())"
   ]
  },
  {
   "cell_type": "code",
   "execution_count": 39,
   "metadata": {},
   "outputs": [
    {
     "name": "stdout",
     "output_type": "stream",
     "text": [
      "status:  OPTIMAL\n",
      "Total cost =  73177.0\n",
      "Time =  52704  milliseconds\n",
      "CPU times: user 52.3 s, sys: 3.62 s, total: 55.9 s\n",
      "Wall time: 19.9 s\n"
     ]
    }
   ],
   "source": [
    "%%time\n",
    "# Solve\n",
    "sol = solver.Solve()\n",
    "\n",
    "resdict = {0:'OPTIMAL', 1:'FEASIBLE', 2:'INFEASIBLE', 3:'UNBOUNDED', \n",
    "           4:'ABNORMAL', 5:'MODEL_INVALID', 6:'NOT_SOLVED'}\n",
    "print('status: ', resdict[sol])\n",
    "print('Total cost = ', solver.Objective().Value())\n",
    "print(\"Time = \", solver.WallTime(), \" milliseconds\")"
   ]
  },
  {
   "cell_type": "code",
   "execution_count": 36,
   "metadata": {},
   "outputs": [],
   "source": [
    "# 3000, min=121\n",
    "# 12: 20.1, 22.1\n",
    "# 8: 21 19.9\n",
    "# 6: 18.6 19.5\n",
    "# 4: 23 21.5\n",
    "\n",
    "# 2000, min=80\n",
    "# 12: 13060  milliseconds\n",
    "# 8: 12339  milliseconds\n",
    "# 7: 12338  milliseconds\n",
    "# 6: 11656  milliseconds\n",
    "# 5: 12287  milliseconds\n",
    "# 4: 12035  milliseconds"
   ]
  },
  {
   "cell_type": "markdown",
   "metadata": {},
   "source": [
    "## Debug"
   ]
  },
  {
   "cell_type": "code",
   "execution_count": 37,
   "metadata": {},
   "outputs": [],
   "source": [
    "# [\n",
    "#     [assignment_matrix[family, c].solution_value() for c in range(N_choices)]\n",
    "#     for family in range(10)\n",
    "# ]        "
   ]
  },
  {
   "cell_type": "code",
   "execution_count": 38,
   "metadata": {},
   "outputs": [],
   "source": [
    "# [\n",
    "#     [unpreferred_day_counts[day, size].solution_value() for size in possible_family_sizes]\n",
    "#     for day in range(1, 10)\n",
    "# ]        "
   ]
  },
  {
   "cell_type": "code",
   "execution_count": null,
   "metadata": {},
   "outputs": [],
   "source": []
  }
 ],
 "metadata": {
  "kernelspec": {
   "display_name": "Python 3",
   "language": "python",
   "name": "python3"
  },
  "language_info": {
   "codemirror_mode": {
    "name": "ipython",
    "version": 3
   },
   "file_extension": ".py",
   "mimetype": "text/x-python",
   "name": "python",
   "nbconvert_exporter": "python",
   "pygments_lexer": "ipython3",
   "version": "3.6.6"
  },
  "toc": {
   "base_numbering": 1,
   "nav_menu": {},
   "number_sections": true,
   "sideBar": true,
   "skip_h1_title": true,
   "title_cell": "Table of Contents",
   "title_sidebar": "Contents",
   "toc_cell": false,
   "toc_position": {
    "height": "calc(100% - 180px)",
    "left": "10px",
    "top": "150px",
    "width": "165px"
   },
   "toc_section_display": true,
   "toc_window_display": true
  }
 },
 "nbformat": 4,
 "nbformat_minor": 2
}
