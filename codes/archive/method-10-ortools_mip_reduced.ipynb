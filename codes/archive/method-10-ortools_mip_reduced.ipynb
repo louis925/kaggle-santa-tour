{
 "cells": [
  {
   "cell_type": "code",
   "execution_count": 1,
   "metadata": {},
   "outputs": [],
   "source": [
    "import numpy as np\n",
    "import pandas as pd\n",
    "\n",
    "from util_io import init, finalize, dump_conf\n",
    "from util_cost import cal_total, n_people, family_id_choice_to_pref_cost\n",
    "from util_cost import choices as family_pref\n",
    "from util_check import deep_check"
   ]
  },
  {
   "cell_type": "code",
   "execution_count": 2,
   "metadata": {},
   "outputs": [],
   "source": [
    "# constants #\n",
    "N_families = 5000\n",
    "N_days = 100\n",
    "# constants #\n",
    "\n",
    "# params #\n",
    "path_init_conf =     '../output/m08-improved.csv'\n",
    "path_dump_improved = '../output/m10-improved.csv' # lowest cost"
   ]
  },
  {
   "cell_type": "code",
   "execution_count": 3,
   "metadata": {},
   "outputs": [
    {
     "name": "stdout",
     "output_type": "stream",
     "text": [
      "Read initial configs...\n",
      "Read config completed.\n",
      "Init config cost: 73620.36100267638\n"
     ]
    }
   ],
   "source": [
    "assigned_day, family_on_day, occupancy = init(path_conf=path_init_conf)\n",
    "etotal_low = cal_total(assigned_day, occupancy)\n",
    "print('Init config cost:', etotal_low)"
   ]
  },
  {
   "cell_type": "code",
   "execution_count": 4,
   "metadata": {},
   "outputs": [
    {
     "data": {
      "text/plain": [
       "5000"
      ]
     },
     "execution_count": 4,
     "metadata": {},
     "output_type": "execute_result"
    }
   ],
   "source": [
    "len(assigned_day)"
   ]
  },
  {
   "cell_type": "markdown",
   "metadata": {},
   "source": [
    "## Ortools MIP"
   ]
  },
  {
   "cell_type": "code",
   "execution_count": 5,
   "metadata": {},
   "outputs": [],
   "source": [
    "from ortools.linear_solver import pywraplp"
   ]
  },
  {
   "cell_type": "code",
   "execution_count": 6,
   "metadata": {},
   "outputs": [
    {
     "ename": "AttributeError",
     "evalue": "type object 'Solver' has no attribute 'CPLEX_MIXED_INTEGER_PROGRAMMING'",
     "output_type": "error",
     "traceback": [
      "\u001b[1;31m---------------------------------------------------------------------------\u001b[0m",
      "\u001b[1;31mAttributeError\u001b[0m                            Traceback (most recent call last)",
      "\u001b[1;32m<ipython-input-6-c3dd568ce452>\u001b[0m in \u001b[0;36m<module>\u001b[1;34m\u001b[0m\n\u001b[0;32m      1\u001b[0m \u001b[1;31m# solver = pywraplp.Solver('', pywraplp.Solver.CBC_MIXED_INTEGER_PROGRAMMING)\u001b[0m\u001b[1;33m\u001b[0m\u001b[1;33m\u001b[0m\u001b[1;33m\u001b[0m\u001b[0m\n\u001b[1;32m----> 2\u001b[1;33m \u001b[0msolver\u001b[0m \u001b[1;33m=\u001b[0m \u001b[0mpywraplp\u001b[0m\u001b[1;33m.\u001b[0m\u001b[0mSolver\u001b[0m\u001b[1;33m(\u001b[0m\u001b[1;34m''\u001b[0m\u001b[1;33m,\u001b[0m \u001b[0mpywraplp\u001b[0m\u001b[1;33m.\u001b[0m\u001b[0mSolver\u001b[0m\u001b[1;33m.\u001b[0m\u001b[0mCPLEX_MIXED_INTEGER_PROGRAMMING\u001b[0m\u001b[1;33m)\u001b[0m\u001b[1;33m\u001b[0m\u001b[1;33m\u001b[0m\u001b[0m\n\u001b[0m",
      "\u001b[1;31mAttributeError\u001b[0m: type object 'Solver' has no attribute 'CPLEX_MIXED_INTEGER_PROGRAMMING'"
     ]
    }
   ],
   "source": [
    "# solver = pywraplp.Solver('', pywraplp.Solver.CBC_MIXED_INTEGER_PROGRAMMING)\n",
    "solver = pywraplp.Solver('', pywraplp.Solver.CPLEX_MIXED_INTEGER_PROGRAMMING)"
   ]
  },
  {
   "cell_type": "code",
   "execution_count": 1,
   "metadata": {},
   "outputs": [],
   "source": [
    "#solver.SetSolverSpecificParametersAsString('threads')"
   ]
  },
  {
   "cell_type": "code",
   "execution_count": 13,
   "metadata": {},
   "outputs": [
    {
     "data": {
      "text/plain": [
       "True"
      ]
     },
     "execution_count": 13,
     "metadata": {},
     "output_type": "execute_result"
    }
   ],
   "source": [
    "solver.SetNumThreads(24)"
   ]
  },
  {
   "cell_type": "code",
   "execution_count": 8,
   "metadata": {},
   "outputs": [],
   "source": [
    "families = range(N_families)\n",
    "days = range(1, N_days + 1)"
   ]
  },
  {
   "cell_type": "code",
   "execution_count": 9,
   "metadata": {},
   "outputs": [
    {
     "data": {
      "text/plain": [
       "11"
      ]
     },
     "execution_count": 9,
     "metadata": {},
     "output_type": "execute_result"
    }
   ],
   "source": [
    "# Possible choice for the family\n",
    "# last choice is any day that is not on the family's preferred days\n",
    "N_choices = family_id_choice_to_pref_cost.shape[1]\n",
    "N_choices"
   ]
  },
  {
   "cell_type": "code",
   "execution_count": 10,
   "metadata": {},
   "outputs": [
    {
     "data": {
      "text/plain": [
       "array([[   0,   50,   86, ...,  544, 1440, 2236],\n",
       "       [   0,   50,   86, ...,  544, 1440, 2236],\n",
       "       [   0,   50,   77, ...,  508, 1205, 1802],\n",
       "       ...,\n",
       "       [   0,   50,  104, ...,  616, 1910, 3104],\n",
       "       [   0,   50,   95, ...,  580, 1675, 2670],\n",
       "       [   0,   50,   86, ...,  544, 1440, 2236]], dtype=int64)"
      ]
     },
     "execution_count": 10,
     "metadata": {},
     "output_type": "execute_result"
    }
   ],
   "source": [
    "family_id_choice_to_pref_cost"
   ]
  },
  {
   "cell_type": "markdown",
   "metadata": {},
   "source": [
    "## Variables"
   ]
  },
  {
   "cell_type": "code",
   "execution_count": 11,
   "metadata": {},
   "outputs": [],
   "source": [
    "# Variables\n",
    "# assignment matrix[family, pref_rank]\n",
    "assignment_matrix = {}\n",
    "for family in families:\n",
    "    for c in range(N_choices):\n",
    "        assignment_matrix[family, c] = solver.BoolVar('x[%i,%i]' % (family, c))"
   ]
  },
  {
   "cell_type": "code",
   "execution_count": 12,
   "metadata": {},
   "outputs": [
    {
     "data": {
      "text/plain": [
       "55000"
      ]
     },
     "execution_count": 12,
     "metadata": {},
     "output_type": "execute_result"
    }
   ],
   "source": [
    "len(assignment_matrix)"
   ]
  },
  {
   "cell_type": "code",
   "execution_count": 13,
   "metadata": {},
   "outputs": [],
   "source": [
    "possible_family_sizes = np.unique(n_people)"
   ]
  },
  {
   "cell_type": "code",
   "execution_count": 14,
   "metadata": {},
   "outputs": [],
   "source": [
    "N_min_people = 125\n",
    "N_max_people = 300"
   ]
  },
  {
   "cell_type": "code",
   "execution_count": 15,
   "metadata": {},
   "outputs": [],
   "source": [
    "# unpreferred_day_counts[day, size]\n",
    "unpreferred_day_counts = {}\n",
    "for day in days:\n",
    "    for size in possible_family_sizes:\n",
    "        ub = int(N_max_people / size)\n",
    "        # ub = solver.infinity()\n",
    "        unpreferred_day_counts[day, size] = solver.IntVar(0, ub, 'd[%i,%i]' % (day, size))"
   ]
  },
  {
   "cell_type": "code",
   "execution_count": 16,
   "metadata": {
    "scrolled": true
   },
   "outputs": [
    {
     "data": {
      "text/plain": [
       "700"
      ]
     },
     "execution_count": 16,
     "metadata": {},
     "output_type": "execute_result"
    }
   ],
   "source": [
    "len(unpreferred_day_counts)"
   ]
  },
  {
   "cell_type": "markdown",
   "metadata": {},
   "source": [
    "## Constraints"
   ]
  },
  {
   "cell_type": "markdown",
   "metadata": {},
   "source": [
    "### constraint 1: each family only take one day (choice)"
   ]
  },
  {
   "cell_type": "code",
   "execution_count": 17,
   "metadata": {},
   "outputs": [],
   "source": [
    "# Constraints\n",
    "# constraint 1: each family only take one day (choice)\n",
    "for family in families:\n",
    "    solver.Add(solver.Sum([assignment_matrix[family, c]\n",
    "                           for c in range(N_choices)]) == 1)"
   ]
  },
  {
   "cell_type": "markdown",
   "metadata": {},
   "source": [
    "### constraint 2: each day can only have 125-300 people"
   ]
  },
  {
   "cell_type": "code",
   "execution_count": 18,
   "metadata": {},
   "outputs": [],
   "source": [
    "# constraint 2: each day can only have 125-300 people"
   ]
  },
  {
   "cell_type": "code",
   "execution_count": 19,
   "metadata": {},
   "outputs": [
    {
     "data": {
      "text/plain": [
       "array([[ 52,  38,  12, ...,  76,  10,  28],\n",
       "       [ 26,   4,  82, ...,   6,  66,  61],\n",
       "       [100,  54,  25, ...,  89,  80,  33],\n",
       "       ...,\n",
       "       [ 32,  66,  54, ...,  81,   3,   7],\n",
       "       [ 67,  92,   4, ...,  12,  26,  70],\n",
       "       [ 13,  11,  25, ...,  39,  18,  47]], dtype=int64)"
      ]
     },
     "execution_count": 19,
     "metadata": {},
     "output_type": "execute_result"
    }
   ],
   "source": [
    "family_pref"
   ]
  },
  {
   "cell_type": "code",
   "execution_count": 20,
   "metadata": {},
   "outputs": [
    {
     "data": {
      "text/plain": [
       "10"
      ]
     },
     "execution_count": 20,
     "metadata": {},
     "output_type": "execute_result"
    }
   ],
   "source": [
    "N_family_pref = N_choices - 1\n",
    "N_family_pref"
   ]
  },
  {
   "cell_type": "code",
   "execution_count": 21,
   "metadata": {},
   "outputs": [],
   "source": [
    "# day to dictionary of families who choice this day with value as preference rank\n",
    "days_family_prefered = [{} for day in range(N_days+1)]  # day = 0 should not be used"
   ]
  },
  {
   "cell_type": "code",
   "execution_count": 22,
   "metadata": {},
   "outputs": [],
   "source": [
    "for family, pref in enumerate(family_pref):\n",
    "    for pref_rank, day in enumerate(pref):\n",
    "        days_family_prefered[day][family] = pref_rank"
   ]
  },
  {
   "cell_type": "code",
   "execution_count": 23,
   "metadata": {},
   "outputs": [],
   "source": [
    "for day in days:\n",
    "    # find those family who like this day\n",
    "    family_prefered = days_family_prefered[day]\n",
    "    solver.Add(\n",
    "        solver.Sum(\n",
    "            [assignment_matrix[family, pref_rank] * n_people[family] \n",
    "             for family, pref_rank in family_prefered.items()]\n",
    "        )\n",
    "        + solver.Sum(\n",
    "            [unpreferred_day_counts[day, s] * s for s in possible_family_sizes]\n",
    "        )\n",
    "        <= 300,\n",
    "        'day_upper_bound[%i]' % day\n",
    "    )\n",
    "    solver.Add(\n",
    "        solver.Sum(\n",
    "            [assignment_matrix[family, pref_rank] * n_people[family] \n",
    "             for family, pref_rank in family_prefered.items()]\n",
    "        )\n",
    "        + solver.Sum(\n",
    "            [unpreferred_day_counts[day, s] * s for s in possible_family_sizes]\n",
    "        )        \n",
    "        >= 125,\n",
    "        'day_lower_bound[%i]' % day\n",
    "    )"
   ]
  },
  {
   "cell_type": "markdown",
   "metadata": {},
   "source": [
    "### constraint 3: unpreferred day family count conservation for each family size"
   ]
  },
  {
   "cell_type": "code",
   "execution_count": 24,
   "metadata": {},
   "outputs": [],
   "source": [
    "# constraint 3: unpreferred day family count conservation for each family size"
   ]
  },
  {
   "cell_type": "code",
   "execution_count": 25,
   "metadata": {},
   "outputs": [],
   "source": [
    "family_size_to_family_ids = {\n",
    "    size: np.where(n_people == size)[0] for size in possible_family_sizes\n",
    "}"
   ]
  },
  {
   "cell_type": "code",
   "execution_count": 26,
   "metadata": {},
   "outputs": [],
   "source": [
    "for size in possible_family_sizes:\n",
    "    solver.Add(\n",
    "        solver.Sum([assignment_matrix[family, N_choices - 1]\n",
    "                    for family in family_size_to_family_ids[size]])\n",
    "        == solver.Sum([unpreferred_day_counts[day, size] for day in days]),\n",
    "        'unpreferred_day_counts[%i]' % size\n",
    "    )"
   ]
  },
  {
   "cell_type": "markdown",
   "metadata": {},
   "source": [
    "## Objective"
   ]
  },
  {
   "cell_type": "code",
   "execution_count": 27,
   "metadata": {},
   "outputs": [],
   "source": [
    "# Objective - Preference cost only as approximation\n",
    "solver.Minimize(\n",
    "    solver.Sum([\n",
    "        assignment_matrix[family, c] * family_id_choice_to_pref_cost[family, c]\n",
    "        for family in families for c in range(N_choices)\n",
    "    ])\n",
    ")"
   ]
  },
  {
   "cell_type": "markdown",
   "metadata": {},
   "source": [
    "xx = solver.constraints()[0]\n",
    "\n",
    "[xx.GetCoefficient(assignment_matrix[1, c]) for c in range(N_choices)]\n",
    "\n",
    "xx.name()"
   ]
  },
  {
   "cell_type": "markdown",
   "metadata": {},
   "source": [
    "## Solve"
   ]
  },
  {
   "cell_type": "code",
   "execution_count": 28,
   "metadata": {},
   "outputs": [
    {
     "data": {
      "text/plain": [
       "55700"
      ]
     },
     "execution_count": 28,
     "metadata": {},
     "output_type": "execute_result"
    }
   ],
   "source": [
    "len(solver.variables())"
   ]
  },
  {
   "cell_type": "code",
   "execution_count": null,
   "metadata": {},
   "outputs": [],
   "source": [
    "%%time\n",
    "# Solve\n",
    "sol = solver.Solve()\n",
    "\n",
    "print('Total cost = ', solver.Objective().Value())"
   ]
  },
  {
   "cell_type": "code",
   "execution_count": null,
   "metadata": {},
   "outputs": [],
   "source": [
    "print(\"Time = \", solver.WallTime(), \" milliseconds\")"
   ]
  },
  {
   "cell_type": "code",
   "execution_count": null,
   "metadata": {},
   "outputs": [],
   "source": [
    "pywraplp.Solver.OPTIMAL"
   ]
  },
  {
   "cell_type": "markdown",
   "metadata": {},
   "source": [
    "## Debug"
   ]
  },
  {
   "cell_type": "code",
   "execution_count": 29,
   "metadata": {},
   "outputs": [
    {
     "data": {
      "text/plain": [
       "[[0.0, 0.0, 0.0, 0.0, 0.0, 0.0, 0.0, 0.0, 0.0, 0.0, 0.0],\n",
       " [0.0, 0.0, 0.0, 0.0, 0.0, 0.0, 0.0, 0.0, 0.0, 0.0, 0.0],\n",
       " [0.0, 0.0, 0.0, 0.0, 0.0, 0.0, 0.0, 0.0, 0.0, 0.0, 0.0],\n",
       " [0.0, 0.0, 0.0, 0.0, 0.0, 0.0, 0.0, 0.0, 0.0, 0.0, 0.0],\n",
       " [0.0, 0.0, 0.0, 0.0, 0.0, 0.0, 0.0, 0.0, 0.0, 0.0, 0.0],\n",
       " [0.0, 0.0, 0.0, 0.0, 0.0, 0.0, 0.0, 0.0, 0.0, 0.0, 0.0],\n",
       " [0.0, 0.0, 0.0, 0.0, 0.0, 0.0, 0.0, 0.0, 0.0, 0.0, 0.0],\n",
       " [0.0, 0.0, 0.0, 0.0, 0.0, 0.0, 0.0, 0.0, 0.0, 0.0, 0.0],\n",
       " [0.0, 0.0, 0.0, 0.0, 0.0, 0.0, 0.0, 0.0, 0.0, 0.0, 0.0],\n",
       " [0.0, 0.0, 0.0, 0.0, 0.0, 0.0, 0.0, 0.0, 0.0, 0.0, 0.0]]"
      ]
     },
     "execution_count": 29,
     "metadata": {},
     "output_type": "execute_result"
    }
   ],
   "source": [
    "# [\n",
    "#     [assignment_matrix[family, c].solution_value() for c in range(N_choices)]\n",
    "#     for family in range(10)\n",
    "# ]        "
   ]
  },
  {
   "cell_type": "code",
   "execution_count": 30,
   "metadata": {},
   "outputs": [
    {
     "data": {
      "text/plain": [
       "[[0.0, 0.0, 0.0, 0.0, 0.0, 0.0, 0.0],\n",
       " [0.0, 0.0, 0.0, 0.0, 0.0, 0.0, 0.0],\n",
       " [0.0, 0.0, 0.0, 0.0, 0.0, 0.0, 0.0],\n",
       " [0.0, 0.0, 0.0, 0.0, 0.0, 0.0, 0.0],\n",
       " [0.0, 0.0, 0.0, 0.0, 0.0, 0.0, 0.0],\n",
       " [0.0, 0.0, 0.0, 0.0, 0.0, 0.0, 0.0],\n",
       " [0.0, 0.0, 0.0, 0.0, 0.0, 0.0, 0.0],\n",
       " [0.0, 0.0, 0.0, 0.0, 0.0, 0.0, 0.0],\n",
       " [0.0, 0.0, 0.0, 0.0, 0.0, 0.0, 0.0]]"
      ]
     },
     "execution_count": 30,
     "metadata": {},
     "output_type": "execute_result"
    }
   ],
   "source": [
    "# [\n",
    "#     [unpreferred_day_counts[day, size].solution_value() for size in possible_family_sizes]\n",
    "#     for day in range(1, 10)\n",
    "# ]        "
   ]
  },
  {
   "cell_type": "code",
   "execution_count": null,
   "metadata": {},
   "outputs": [],
   "source": []
  }
 ],
 "metadata": {
  "kernelspec": {
   "display_name": "Python 3",
   "language": "python",
   "name": "python3"
  },
  "language_info": {
   "codemirror_mode": {
    "name": "ipython",
    "version": 3
   },
   "file_extension": ".py",
   "mimetype": "text/x-python",
   "name": "python",
   "nbconvert_exporter": "python",
   "pygments_lexer": "ipython3",
   "version": "3.6.6"
  },
  "toc": {
   "base_numbering": 1,
   "nav_menu": {},
   "number_sections": true,
   "sideBar": true,
   "skip_h1_title": true,
   "title_cell": "Table of Contents",
   "title_sidebar": "Contents",
   "toc_cell": false,
   "toc_position": {
    "height": "calc(100% - 180px)",
    "left": "10px",
    "top": "150px",
    "width": "165px"
   },
   "toc_section_display": true,
   "toc_window_display": true
  }
 },
 "nbformat": 4,
 "nbformat_minor": 2
}
