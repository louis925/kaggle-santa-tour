{
 "cells": [
  {
   "cell_type": "markdown",
   "metadata": {},
   "source": [
    "## Setup"
   ]
  },
  {
   "cell_type": "code",
   "execution_count": 1,
   "metadata": {},
   "outputs": [],
   "source": [
    "import numpy as np\n",
    "import pandas as pd\n",
    "\n",
    "from util_io import (\n",
    "    init, finalize, dump_conf, assigned_day_to_family_on_day, assigned_day_to_occupancy\n",
    ")\n",
    "from util_cost import (\n",
    "    cal_total, n_people, family_id_days_to_pref_cost, cal_total_preference, cal_total_accounting\n",
    ")\n",
    "from util_check import deep_check"
   ]
  },
  {
   "cell_type": "code",
   "execution_count": 2,
   "metadata": {},
   "outputs": [],
   "source": [
    "# constants #\n",
    "N_families = 5000\n",
    "N_days = 100\n",
    "N_min_people = 125\n",
    "N_max_people = 300\n",
    "# constants #\n",
    "\n",
    "# params #\n",
    "path_init_conf =     '../output/m08-improved.csv'\n",
    "path_dump_improved = '../output/m11-improved.csv' # lowest cost\n",
    "num_cpu_cores = 6\n",
    "#time_limit = 10*60*60*1000  # in ms\n",
    "time_limit = 60*1000  # in ms"
   ]
  },
  {
   "cell_type": "code",
   "execution_count": 3,
   "metadata": {},
   "outputs": [
    {
     "name": "stdout",
     "output_type": "stream",
     "text": [
      "Read initial configs...\n",
      "Read config completed.\n",
      "Init config cost: 73610.22770050484\n"
     ]
    }
   ],
   "source": [
    "assigned_day, family_on_day, occupancy = init(path_conf=path_init_conf)\n",
    "etotal_low = cal_total(assigned_day, occupancy)\n",
    "print('Init config cost:', etotal_low)"
   ]
  },
  {
   "cell_type": "code",
   "execution_count": 4,
   "metadata": {},
   "outputs": [
    {
     "data": {
      "text/plain": [
       "5000"
      ]
     },
     "execution_count": 4,
     "metadata": {},
     "output_type": "execute_result"
    }
   ],
   "source": [
    "len(assigned_day)"
   ]
  },
  {
   "cell_type": "code",
   "execution_count": 5,
   "metadata": {},
   "outputs": [],
   "source": [
    "families = range(N_families)\n",
    "days = range(1, N_days + 1)"
   ]
  },
  {
   "cell_type": "code",
   "execution_count": 6,
   "metadata": {},
   "outputs": [],
   "source": [
    "allowed_occupancy = range(N_min_people, N_max_people+1)"
   ]
  },
  {
   "cell_type": "markdown",
   "metadata": {},
   "source": [
    "## Ortools - CBC MIP solver"
   ]
  },
  {
   "cell_type": "code",
   "execution_count": 7,
   "metadata": {},
   "outputs": [],
   "source": [
    "from ortools.linear_solver import pywraplp"
   ]
  },
  {
   "cell_type": "code",
   "execution_count": 8,
   "metadata": {},
   "outputs": [],
   "source": [
    "solver = pywraplp.Solver('', pywraplp.Solver.CBC_MIXED_INTEGER_PROGRAMMING)"
   ]
  },
  {
   "cell_type": "code",
   "execution_count": 9,
   "metadata": {},
   "outputs": [
    {
     "name": "stdout",
     "output_type": "stream",
     "text": [
      "Set num threads: True\n",
      "Set time limit: None\n"
     ]
    }
   ],
   "source": [
    "print('Set num threads:', solver.SetNumThreads(num_cpu_cores))\n",
    "print('Set time limit:', solver.SetTimeLimit(time_limit))"
   ]
  },
  {
   "cell_type": "markdown",
   "metadata": {},
   "source": [
    "## Variables"
   ]
  },
  {
   "cell_type": "code",
   "execution_count": 10,
   "metadata": {},
   "outputs": [],
   "source": [
    "# Variables\n",
    "assignment_matrix = {}\n",
    "for family in families:\n",
    "    for day in days:\n",
    "        assignment_matrix[family, day] = solver.BoolVar('x[%i,%i]' % (family, day))"
   ]
  },
  {
   "cell_type": "code",
   "execution_count": 11,
   "metadata": {
    "scrolled": true
   },
   "outputs": [
    {
     "data": {
      "text/plain": [
       "500000"
      ]
     },
     "execution_count": 11,
     "metadata": {},
     "output_type": "execute_result"
    }
   ],
   "source": [
    "len(assignment_matrix)"
   ]
  },
  {
   "cell_type": "code",
   "execution_count": 12,
   "metadata": {},
   "outputs": [],
   "source": [
    "# one-hot encoding of occupancy of each day\n",
    "occupancy_matrix = {}\n",
    "for day in days:\n",
    "    for people in allowed_occupancy:\n",
    "        occupancy_matrix[day, people] = solver.BoolVar('o[%i,%i]' % (day, people))"
   ]
  },
  {
   "cell_type": "code",
   "execution_count": 13,
   "metadata": {},
   "outputs": [
    {
     "data": {
      "text/plain": [
       "17600"
      ]
     },
     "execution_count": 13,
     "metadata": {},
     "output_type": "execute_result"
    }
   ],
   "source": [
    "len(occupancy_matrix)"
   ]
  },
  {
   "cell_type": "markdown",
   "metadata": {},
   "source": [
    "## Constraints"
   ]
  },
  {
   "cell_type": "code",
   "execution_count": 14,
   "metadata": {},
   "outputs": [],
   "source": [
    "# Constraints\n",
    "# each family only take 1 day\n",
    "for family in families:\n",
    "    solver.Add(\n",
    "        solver.Sum([assignment_matrix[family, day] for day in days]) == 1\n",
    "    )"
   ]
  },
  {
   "cell_type": "code",
   "execution_count": 15,
   "metadata": {},
   "outputs": [],
   "source": [
    "# each day can only have 1 occupancy number\n",
    "for day in days:\n",
    "    solver.Add(\n",
    "        solver.Sum([occupancy_matrix[day, people] for people in allowed_occupancy]) == 1\n",
    "    )"
   ]
  },
  {
   "cell_type": "code",
   "execution_count": 16,
   "metadata": {},
   "outputs": [],
   "source": [
    "for day in days:\n",
    "    solver.Add(\n",
    "        solver.Sum(\n",
    "            [assignment_matrix[family, day] * n_people[family] for family in families]\n",
    "        ) <= N_max_people\n",
    "    )\n",
    "    solver.Add(\n",
    "        solver.Sum(\n",
    "            [assignment_matrix[family, day] * n_people[family] for family in families]\n",
    "        ) >= N_min_people\n",
    "    )"
   ]
  },
  {
   "cell_type": "code",
   "execution_count": 17,
   "metadata": {},
   "outputs": [],
   "source": [
    "for day in days:\n",
    "    solver.Add(\n",
    "        solver.Sum(\n",
    "            [assignment_matrix[family, day] * n_people[family] for family in families]\n",
    "        )\n",
    "        == solver.Sum(\n",
    "            [occupancy_matrix[day, people] * people for people in allowed_occupancy]\n",
    "        )\n",
    "    )"
   ]
  },
  {
   "cell_type": "code",
   "execution_count": 18,
   "metadata": {},
   "outputs": [
    {
     "data": {
      "text/plain": [
       "5400"
      ]
     },
     "execution_count": 18,
     "metadata": {},
     "output_type": "execute_result"
    }
   ],
   "source": [
    "len(solver.constraints())"
   ]
  },
  {
   "cell_type": "markdown",
   "metadata": {},
   "source": [
    "## Objective"
   ]
  },
  {
   "cell_type": "code",
   "execution_count": 19,
   "metadata": {},
   "outputs": [],
   "source": [
    "# Objective - Preference cost only as approximation\n",
    "solver.Minimize(\n",
    "    solver.Sum([\n",
    "        assignment_matrix[family, day] * family_id_days_to_pref_cost[family, day]\n",
    "        for family in families for day in days\n",
    "    ])\n",
    ")"
   ]
  },
  {
   "cell_type": "markdown",
   "metadata": {},
   "source": [
    "## Solve"
   ]
  },
  {
   "cell_type": "code",
   "execution_count": 20,
   "metadata": {},
   "outputs": [
    {
     "name": "stdout",
     "output_type": "stream",
     "text": [
      "N of variables 517600\n"
     ]
    }
   ],
   "source": [
    "print('N of variables', len(solver.variables()))"
   ]
  },
  {
   "cell_type": "code",
   "execution_count": 21,
   "metadata": {},
   "outputs": [
    {
     "name": "stdout",
     "output_type": "stream",
     "text": [
      "Result:  NOT_SOLVED\n",
      "Total cost:  0.0\n",
      "Time:  122550  milliseconds\n",
      "CPU times: user 1min 30s, sys: 6.43 s, total: 1min 36s\n",
      "Wall time: 1min 37s\n"
     ]
    }
   ],
   "source": [
    "%%time\n",
    "# Solve\n",
    "sol = solver.Solve()\n",
    "\n",
    "resdict = {0:'OPTIMAL', 1:'FEASIBLE', 2:'INFEASIBLE', 3:'UNBOUNDED', \n",
    "           4:'ABNORMAL', 5:'MODEL_INVALID', 6:'NOT_SOLVED'}\n",
    "print('Result: ', resdict[sol])\n",
    "print('Total cost: ', solver.Objective().Value())\n",
    "print(\"Time: \", solver.WallTime(), \" milliseconds\")"
   ]
  },
  {
   "cell_type": "markdown",
   "metadata": {},
   "source": [
    "## Solution"
   ]
  },
  {
   "cell_type": "code",
   "execution_count": 22,
   "metadata": {},
   "outputs": [],
   "source": [
    "assigned_day_new = np.array([\n",
    "    [0]+[assignment_matrix[family, day].solution_value() for day in days]\n",
    "    for family in families\n",
    "]).argmax(axis=1)"
   ]
  },
  {
   "cell_type": "code",
   "execution_count": 23,
   "metadata": {
    "scrolled": true
   },
   "outputs": [
    {
     "data": {
      "text/plain": [
       "0"
      ]
     },
     "execution_count": 23,
     "metadata": {},
     "output_type": "execute_result"
    }
   ],
   "source": [
    "assigned_day_new.max()"
   ]
  },
  {
   "cell_type": "code",
   "execution_count": 24,
   "metadata": {},
   "outputs": [
    {
     "name": "stdout",
     "output_type": "stream",
     "text": [
      "deep check: everything looks fine.\n"
     ]
    },
    {
     "data": {
      "text/plain": [
       "True"
      ]
     },
     "execution_count": 24,
     "metadata": {},
     "output_type": "execute_result"
    }
   ],
   "source": [
    "family_on_day_new = assigned_day_to_family_on_day(assigned_day_new)\n",
    "\n",
    "occupancy_new = assigned_day_to_occupancy(assigned_day_new)\n",
    "\n",
    "deep_check(assigned_day_new, family_on_day_new, occupancy_new)"
   ]
  },
  {
   "cell_type": "code",
   "execution_count": 25,
   "metadata": {},
   "outputs": [
    {
     "name": "stdout",
     "output_type": "stream",
     "text": [
      "Total score:     499995000.0\n",
      "Preference cost: 499995000\n",
      "Accounting cost: 0.0\n"
     ]
    }
   ],
   "source": [
    "print('Total score:    ', cal_total(assigned_day_new, occupancy_new))\n",
    "print('Preference cost:', cal_total_preference(assigned_day_new))\n",
    "print('Accounting cost:', cal_total_accounting(occupancy_new))"
   ]
  },
  {
   "cell_type": "markdown",
   "metadata": {},
   "source": [
    "## Output"
   ]
  },
  {
   "cell_type": "code",
   "execution_count": 26,
   "metadata": {},
   "outputs": [],
   "source": [
    "dump_conf(assigned_day_new, path_dump_improved)"
   ]
  },
  {
   "cell_type": "code",
   "execution_count": null,
   "metadata": {},
   "outputs": [],
   "source": []
  }
 ],
 "metadata": {
  "kernelspec": {
   "display_name": "Python 3",
   "language": "python",
   "name": "python3"
  },
  "language_info": {
   "codemirror_mode": {
    "name": "ipython",
    "version": 3
   },
   "file_extension": ".py",
   "mimetype": "text/x-python",
   "name": "python",
   "nbconvert_exporter": "python",
   "pygments_lexer": "ipython3",
   "version": "3.6.6"
  },
  "toc": {
   "base_numbering": 1,
   "nav_menu": {},
   "number_sections": true,
   "sideBar": true,
   "skip_h1_title": true,
   "title_cell": "Table of Contents",
   "title_sidebar": "Contents",
   "toc_cell": false,
   "toc_position": {
    "height": "calc(100% - 180px)",
    "left": "10px",
    "top": "150px",
    "width": "165px"
   },
   "toc_section_display": true,
   "toc_window_display": true
  }
 },
 "nbformat": 4,
 "nbformat_minor": 2
}
