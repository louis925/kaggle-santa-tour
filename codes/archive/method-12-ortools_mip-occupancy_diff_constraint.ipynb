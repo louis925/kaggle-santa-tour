{
 "cells": [
  {
   "cell_type": "markdown",
   "metadata": {},
   "source": [
    "## Setup"
   ]
  },
  {
   "cell_type": "code",
   "execution_count": 1,
   "metadata": {},
   "outputs": [],
   "source": [
    "import numpy as np\n",
    "import pandas as pd\n",
    "\n",
    "from util_io import (\n",
    "    init, finalize, dump_conf, assigned_day_to_family_on_day, assigned_day_to_occupancy\n",
    ")\n",
    "from util_cost import (\n",
    "    cal_total, n_people, family_id_days_to_pref_cost, cal_total_preference, cal_total_accounting\n",
    ")\n",
    "from util_check import deep_check"
   ]
  },
  {
   "cell_type": "code",
   "execution_count": 2,
   "metadata": {},
   "outputs": [],
   "source": [
    "# constants #\n",
    "N_families = 5000\n",
    "N_days = 100\n",
    "N_min_people = 125\n",
    "N_max_people = 300\n",
    "# constants #\n",
    "\n",
    "# params #\n",
    "path_init_conf =     '../input/another_pytorch_implementation.csv'\n",
    "path_dump_improved = '../output/m12-improved.csv' # lowest cost\n",
    "num_cpu_cores = 6\n",
    "#time_limit = 9*60*60*1000  # in ms\n",
    "time_limit = 3*60*60*1000  # in ms"
   ]
  },
  {
   "cell_type": "code",
   "execution_count": 3,
   "metadata": {},
   "outputs": [
    {
     "name": "stdout",
     "output_type": "stream",
     "text": [
      "Read initial configs...\n",
      "Read config completed.\n",
      "Init config:\n",
      "Total score:     71252.41958450396\n",
      "Preference cost: 65785\n",
      "Accounting cost: 5467.419584503968\n"
     ]
    }
   ],
   "source": [
    "assigned_day, family_on_day, occupancy = init(path_conf=path_init_conf)\n",
    "print('Init config:')\n",
    "print('Total score:    ', cal_total(assigned_day, occupancy))\n",
    "print('Preference cost:', cal_total_preference(assigned_day))\n",
    "print('Accounting cost:', cal_total_accounting(occupancy))"
   ]
  },
  {
   "cell_type": "code",
   "execution_count": 4,
   "metadata": {},
   "outputs": [],
   "source": [
    "families = range(N_families)\n",
    "days = range(1, N_days + 1)"
   ]
  },
  {
   "cell_type": "code",
   "execution_count": 5,
   "metadata": {},
   "outputs": [],
   "source": [
    "allowed_occupancy = range(N_min_people, N_max_people+1)"
   ]
  },
  {
   "cell_type": "markdown",
   "metadata": {},
   "source": [
    "## Ortools - CBC MIP solver"
   ]
  },
  {
   "cell_type": "code",
   "execution_count": 6,
   "metadata": {},
   "outputs": [],
   "source": [
    "from ortools.linear_solver import pywraplp"
   ]
  },
  {
   "cell_type": "code",
   "execution_count": 7,
   "metadata": {},
   "outputs": [],
   "source": [
    "solver = pywraplp.Solver('', pywraplp.Solver.CBC_MIXED_INTEGER_PROGRAMMING)"
   ]
  },
  {
   "cell_type": "code",
   "execution_count": 8,
   "metadata": {},
   "outputs": [
    {
     "name": "stdout",
     "output_type": "stream",
     "text": [
      "Set num threads: True\n",
      "Set time limit: None\n"
     ]
    }
   ],
   "source": [
    "print('Set num threads:', solver.SetNumThreads(num_cpu_cores))\n",
    "print('Set time limit:', solver.SetTimeLimit(time_limit))"
   ]
  },
  {
   "cell_type": "markdown",
   "metadata": {},
   "source": [
    "## Variables"
   ]
  },
  {
   "cell_type": "code",
   "execution_count": 9,
   "metadata": {},
   "outputs": [],
   "source": [
    "# Variables\n",
    "assignment_matrix = {}\n",
    "for family in families:\n",
    "    for day in days:\n",
    "        assignment_matrix[family, day] = solver.BoolVar('x[%i,%i]' % (family, day))"
   ]
  },
  {
   "cell_type": "code",
   "execution_count": 10,
   "metadata": {
    "scrolled": true
   },
   "outputs": [
    {
     "data": {
      "text/plain": [
       "500000"
      ]
     },
     "execution_count": 10,
     "metadata": {},
     "output_type": "execute_result"
    }
   ],
   "source": [
    "len(assignment_matrix)"
   ]
  },
  {
   "cell_type": "markdown",
   "metadata": {},
   "source": [
    "## Constraints"
   ]
  },
  {
   "cell_type": "code",
   "execution_count": 11,
   "metadata": {},
   "outputs": [],
   "source": [
    "# Constraints\n",
    "# each family only take 1 day\n",
    "for family in families:\n",
    "    solver.Add(\n",
    "        solver.Sum([assignment_matrix[family, day] for day in days]) == 1\n",
    "    )"
   ]
  },
  {
   "cell_type": "code",
   "execution_count": 12,
   "metadata": {},
   "outputs": [],
   "source": [
    "# # each day can only have 1 occupancy number\n",
    "# for day in days:\n",
    "#     solver.Add(\n",
    "#         solver.Sum([occupancy_matrix[day, people] for people in allowed_occupancy]) == 1\n",
    "#     )"
   ]
  },
  {
   "cell_type": "code",
   "execution_count": 13,
   "metadata": {},
   "outputs": [],
   "source": [
    "# occupancy\n",
    "occupancy_matrix = {}\n",
    "for day in days:\n",
    "    occupancy_matrix[day] = solver.Sum([assignment_matrix[family, day] * n_people[family] for family in families])"
   ]
  },
  {
   "cell_type": "code",
   "execution_count": 14,
   "metadata": {},
   "outputs": [],
   "source": [
    "# for day in days:\n",
    "#     solver.Add(\n",
    "#         solver.Sum(\n",
    "#             [assignment_matrix[family, day] * n_people[family] for family in families]\n",
    "#         ) <= N_max_people\n",
    "#     )\n",
    "#     solver.Add(\n",
    "#         solver.Sum(\n",
    "#             [assignment_matrix[family, day] * n_people[family] for family in families]\n",
    "#         ) >= N_min_people\n",
    "#     )\n",
    "for day in days:\n",
    "    solver.Add(occupancy_matrix[day] <= N_max_people)\n",
    "    solver.Add(occupancy_matrix[day] >= N_min_people)"
   ]
  },
  {
   "cell_type": "code",
   "execution_count": 15,
   "metadata": {},
   "outputs": [],
   "source": [
    "max_occupancy_diff = 23"
   ]
  },
  {
   "cell_type": "code",
   "execution_count": 16,
   "metadata": {},
   "outputs": [],
   "source": [
    "# effective constraint from accounting cost\n",
    "for day in days:\n",
    "    if day < N_days:\n",
    "        solver.Add(occupancy_matrix[day] - occupancy_matrix[day + 1] <= max_occupancy_diff)\n",
    "        solver.Add(occupancy_matrix[day + 1] - occupancy_matrix[day] <= max_occupancy_diff)"
   ]
  },
  {
   "cell_type": "code",
   "execution_count": 17,
   "metadata": {},
   "outputs": [
    {
     "data": {
      "text/plain": [
       "5398"
      ]
     },
     "execution_count": 17,
     "metadata": {},
     "output_type": "execute_result"
    }
   ],
   "source": [
    "len(solver.constraints())"
   ]
  },
  {
   "cell_type": "markdown",
   "metadata": {},
   "source": [
    "## Objective"
   ]
  },
  {
   "cell_type": "markdown",
   "metadata": {},
   "source": [
    "### Linearized accounting cost"
   ]
  },
  {
   "cell_type": "code",
   "execution_count": 18,
   "metadata": {},
   "outputs": [
    {
     "data": {
      "text/plain": [
       "(102,)"
      ]
     },
     "execution_count": 18,
     "metadata": {},
     "output_type": "execute_result"
    }
   ],
   "source": [
    "occupancy.shape"
   ]
  },
  {
   "cell_type": "code",
   "execution_count": 19,
   "metadata": {},
   "outputs": [
    {
     "data": {
      "text/plain": [
       "array([125, 300, 286, 300, 300, 283, 257, 244, 244, 266, 293, 300, 299,\n",
       "       276, 261, 253, 268, 292, 290, 271, 244, 220, 225, 250, 277, 297,\n",
       "       289, 271, 255, 245, 242, 270, 273, 253, 220, 193, 162, 197, 231,\n",
       "       254, 236, 205, 176, 188, 210, 248, 267, 249, 223, 196, 175, 212,\n",
       "       246, 245, 221, 185, 152, 125, 219, 246, 231, 201, 160, 125, 125,\n",
       "       125, 243, 214, 177, 131, 125, 125, 125, 223, 201, 171, 126, 125,\n",
       "       125, 125, 222, 205, 171, 125, 126, 126, 125, 249, 229, 199, 157,\n",
       "       125, 125, 125, 230, 208, 175, 128, 125, 125, 125, 125], dtype=int32)"
      ]
     },
     "execution_count": 19,
     "metadata": {},
     "output_type": "execute_result"
    }
   ],
   "source": [
    "occupancy"
   ]
  },
  {
   "cell_type": "code",
   "execution_count": 20,
   "metadata": {},
   "outputs": [],
   "source": [
    "diff_nd_ndp1 = np.concatenate([np.diff(occupancy), [0]])"
   ]
  },
  {
   "cell_type": "code",
   "execution_count": 21,
   "metadata": {},
   "outputs": [],
   "source": [
    "sign_diff_nd_ndp1 = 1 * (diff_nd_ndp1 > 0) - 1 * (diff_nd_ndp1 < 0)"
   ]
  },
  {
   "cell_type": "code",
   "execution_count": 22,
   "metadata": {},
   "outputs": [],
   "source": [
    "abs_nd_ndp1 = np.abs(diff_nd_ndp1)"
   ]
  },
  {
   "cell_type": "code",
   "execution_count": 23,
   "metadata": {},
   "outputs": [],
   "source": [
    "# first derivative of accounting cost with respect to N_d (occupancy at day d) at N_d\n",
    "dadnd = (\n",
    "    occupancy**(0.5 + abs_nd_ndp1/50) / 400 * (\n",
    "        1 + (occupancy - 125) * (\n",
    "            (0.5 + abs_nd_ndp1 / 50) / occupancy + np.log(occupancy) / 50 * sign_diff_nd_ndp1\n",
    "        )\n",
    "    )\n",
    ")"
   ]
  },
  {
   "cell_type": "code",
   "execution_count": 24,
   "metadata": {},
   "outputs": [],
   "source": [
    "# first derivative of accounting cost with respect to N_d+1 (occupancy at day d+1) at N_d\n",
    "dadnp1d = (\n",
    "    occupancy**(0.5 + abs_nd_ndp1/50) / 400 * (\n",
    "        (occupancy - 125) * (\n",
    "            -1 * np.log(occupancy) / 50 * sign_diff_nd_ndp1\n",
    "        )\n",
    "    )\n",
    ")\n",
    "dadnp1d = np.concatenate([[0.], dadnp1d[:-1]])  # since this contribute to the N_d+1 term, we shift it by 1 day"
   ]
  },
  {
   "cell_type": "code",
   "execution_count": 25,
   "metadata": {},
   "outputs": [],
   "source": [
    "da = dadnd + dadnp1d  # total gradient w.r.t N_d"
   ]
  },
  {
   "cell_type": "code",
   "execution_count": 26,
   "metadata": {},
   "outputs": [
    {
     "data": {
      "text/plain": [
       "(102,)"
      ]
     },
     "execution_count": 26,
     "metadata": {},
     "output_type": "execute_result"
    }
   ],
   "source": [
    "da.shape"
   ]
  },
  {
   "cell_type": "code",
   "execution_count": 27,
   "metadata": {},
   "outputs": [],
   "source": [
    "# Objective - Preference cost + linearized accounting cost\n",
    "solver.Minimize(\n",
    "    # preference cost\n",
    "    solver.Sum([\n",
    "        assignment_matrix[family, day] * family_id_days_to_pref_cost[family, day]\n",
    "        for family in families for day in days\n",
    "    ])\n",
    "    # linearized accounting cost\n",
    "#     + solver.Sum([\n",
    "#         (\n",
    "#             solver.Sum([\n",
    "#                 assignment_matrix[family, day] * n_people[family]\n",
    "#                 for family in families\n",
    "#             ]) - occupancy[day]\n",
    "#         ) * da[day]\n",
    "#         for day in days\n",
    "#     ])\n",
    ")"
   ]
  },
  {
   "cell_type": "markdown",
   "metadata": {},
   "source": [
    "## Warm start"
   ]
  },
  {
   "cell_type": "code",
   "execution_count": 28,
   "metadata": {},
   "outputs": [],
   "source": [
    "solver.SetHint(\n",
    "    [assignment_matrix[family, day] for family in families for day in days],\n",
    "    [float(assigned_day[family]==day) for family in families for day in days]\n",
    ")"
   ]
  },
  {
   "cell_type": "markdown",
   "metadata": {},
   "source": [
    "## Solve"
   ]
  },
  {
   "cell_type": "code",
   "execution_count": 29,
   "metadata": {},
   "outputs": [
    {
     "name": "stdout",
     "output_type": "stream",
     "text": [
      "N of variables 500000\n"
     ]
    }
   ],
   "source": [
    "print('N of variables', len(solver.variables()))"
   ]
  },
  {
   "cell_type": "code",
   "execution_count": 30,
   "metadata": {},
   "outputs": [
    {
     "name": "stdout",
     "output_type": "stream",
     "text": [
      "Result:  NOT_SOLVED\n",
      "Total cost:  0.0\n",
      "Time:  2227979  milliseconds\n",
      "CPU times: user 3h 7s, sys: 13min 40s, total: 3h 13min 47s\n",
      "Wall time: 36min 40s\n"
     ]
    }
   ],
   "source": [
    "%%time\n",
    "# Solve\n",
    "sol = solver.Solve()\n",
    "\n",
    "resdict = {0:'OPTIMAL', 1:'FEASIBLE', 2:'INFEASIBLE', 3:'UNBOUNDED', \n",
    "           4:'ABNORMAL', 5:'MODEL_INVALID', 6:'NOT_SOLVED'}\n",
    "print('Result: ', resdict[sol])\n",
    "print('Total cost: ', solver.Objective().Value())\n",
    "print(\"Time: \", solver.WallTime(), \" milliseconds\")"
   ]
  },
  {
   "cell_type": "markdown",
   "metadata": {},
   "source": [
    "## Solution"
   ]
  },
  {
   "cell_type": "code",
   "execution_count": 31,
   "metadata": {},
   "outputs": [],
   "source": [
    "assigned_day_new = np.array([\n",
    "    [0]+[assignment_matrix[family, day].solution_value() for day in days]\n",
    "    for family in families\n",
    "]).argmax(axis=1)"
   ]
  },
  {
   "cell_type": "code",
   "execution_count": 32,
   "metadata": {
    "scrolled": true
   },
   "outputs": [
    {
     "data": {
      "text/plain": [
       "0"
      ]
     },
     "execution_count": 32,
     "metadata": {},
     "output_type": "execute_result"
    }
   ],
   "source": [
    "assigned_day_new.max()"
   ]
  },
  {
   "cell_type": "code",
   "execution_count": 33,
   "metadata": {},
   "outputs": [
    {
     "name": "stdout",
     "output_type": "stream",
     "text": [
      "deep check: everything looks fine.\n"
     ]
    },
    {
     "data": {
      "text/plain": [
       "True"
      ]
     },
     "execution_count": 33,
     "metadata": {},
     "output_type": "execute_result"
    }
   ],
   "source": [
    "family_on_day_new = assigned_day_to_family_on_day(assigned_day_new)\n",
    "\n",
    "occupancy_new = assigned_day_to_occupancy(assigned_day_new)\n",
    "\n",
    "deep_check(assigned_day_new, family_on_day_new, occupancy_new)"
   ]
  },
  {
   "cell_type": "code",
   "execution_count": 34,
   "metadata": {},
   "outputs": [
    {
     "name": "stdout",
     "output_type": "stream",
     "text": [
      "[New]\n",
      "Total score:     499995000.0\n",
      "Preference cost: 499995000\n",
      "Accounting cost: 0.0\n"
     ]
    }
   ],
   "source": [
    "print('[New]')\n",
    "print('Total score:    ', cal_total(assigned_day_new, occupancy_new))\n",
    "print('Preference cost:', cal_total_preference(assigned_day_new))\n",
    "print('Accounting cost:', cal_total_accounting(occupancy_new))"
   ]
  },
  {
   "cell_type": "code",
   "execution_count": 35,
   "metadata": {},
   "outputs": [
    {
     "name": "stdout",
     "output_type": "stream",
     "text": [
      "[Before]\n",
      "Total score:     71252.41958450396\n",
      "Preference cost: 65785\n",
      "Accounting cost: 5467.419584503968\n"
     ]
    }
   ],
   "source": [
    "print('[Before]')\n",
    "print('Total score:    ', cal_total(assigned_day, occupancy))\n",
    "print('Preference cost:', cal_total_preference(assigned_day))\n",
    "print('Accounting cost:', cal_total_accounting(occupancy))"
   ]
  },
  {
   "cell_type": "code",
   "execution_count": 36,
   "metadata": {},
   "outputs": [],
   "source": [
    "# Without accounting cost - 1min\n",
    "# Total score:     13985688754.836958\n",
    "# Preference cost: 44894\n",
    "# Accounting cost: 13985643860.836958"
   ]
  },
  {
   "cell_type": "markdown",
   "metadata": {},
   "source": [
    "## Output"
   ]
  },
  {
   "cell_type": "code",
   "execution_count": 37,
   "metadata": {},
   "outputs": [],
   "source": [
    "dump_conf(assigned_day_new, path_dump_improved)"
   ]
  },
  {
   "cell_type": "markdown",
   "metadata": {},
   "source": [
    "## Analysis"
   ]
  },
  {
   "cell_type": "code",
   "execution_count": 38,
   "metadata": {},
   "outputs": [],
   "source": [
    "import matplotlib.pyplot as plt"
   ]
  },
  {
   "cell_type": "code",
   "execution_count": 39,
   "metadata": {},
   "outputs": [
    {
     "data": {
      "image/png": "[encoded data removed]",
      "text/plain": [
       "<Figure size 432x288 with 1 Axes>"
      ]
     },
     "metadata": {
      "needs_background": "light"
     },
     "output_type": "display_data"
    }
   ],
   "source": [
    "plt.plot(occupancy, label='ori')\n",
    "plt.plot(occupancy_new, label='new')\n",
    "plt.legend()\n",
    "plt.show()"
   ]
  },
  {
   "cell_type": "code",
   "execution_count": null,
   "metadata": {},
   "outputs": [],
   "source": []
  }
 ],
 "metadata": {
  "kernelspec": {
   "display_name": "Python 3",
   "language": "python",
   "name": "python3"
  },
  "language_info": {
   "codemirror_mode": {
    "name": "ipython",
    "version": 3
   },
   "file_extension": ".py",
   "mimetype": "text/x-python",
   "name": "python",
   "nbconvert_exporter": "python",
   "pygments_lexer": "ipython3",
   "version": "3.6.6"
  },
  "toc": {
   "base_numbering": 1,
   "nav_menu": {},
   "number_sections": true,
   "sideBar": true,
   "skip_h1_title": true,
   "title_cell": "Table of Contents",
   "title_sidebar": "Contents",
   "toc_cell": false,
   "toc_position": {
    "height": "calc(100% - 180px)",
    "left": "10px",
    "top": "150px",
    "width": "165px"
   },
   "toc_section_display": true,
   "toc_window_display": true
  }
 },
 "nbformat": 4,
 "nbformat_minor": 2
}
