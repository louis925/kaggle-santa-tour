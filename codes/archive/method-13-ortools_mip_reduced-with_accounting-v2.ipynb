{
 "cells": [
  {
   "cell_type": "code",
   "execution_count": 1,
   "metadata": {},
   "outputs": [],
   "source": [
    "import numpy as np\n",
    "import pandas as pd\n",
    "\n",
    "from util_io import (\n",
    "    init, finalize, dump_conf, assigned_day_to_family_on_day, assigned_day_to_occupancy\n",
    ")\n",
    "from util_cost import (\n",
    "    cal_total, n_people, family_id_choice_to_pref_cost, cal_total_preference, cal_total_accounting,\n",
    "    nd_ndp1_to_account_penality\n",
    ")\n",
    "from util_cost import choices as family_pref\n",
    "from util_check import deep_check"
   ]
  },
  {
   "cell_type": "code",
   "execution_count": 2,
   "metadata": {},
   "outputs": [],
   "source": [
    "# constants #\n",
    "N_families = 5000\n",
    "N_days = 100\n",
    "N_min_people = 125\n",
    "N_max_people = 300\n",
    "# constants #\n",
    "\n",
    "# params #\n",
    "# path_init_conf =     '../output/m08-improved-test.csv'\n",
    "path_dump_improved = '../output/m13-improved-v2.csv' # lowest cost\n",
    "num_cpu_cores = 4\n",
    "time_limit = 12*60*60*1000  # in ms\n",
    "#time_limit = 60*1000  # in ms"
   ]
  },
  {
   "cell_type": "code",
   "execution_count": 3,
   "metadata": {},
   "outputs": [
    {
     "name": "stdout",
     "output_type": "stream",
     "text": [
      "Read initial configs...\n",
      "Read config completed.\n",
      "Init config:\n",
      "Total score:     73917.13994586898\n",
      "Preference cost: 68929\n",
      "Accounting cost: 4988.139945868992\n"
     ]
    }
   ],
   "source": [
    "# assigned_day, family_on_day, occupancy = init(path_conf=path_init_conf)\n",
    "# print('Init config:')\n",
    "# try:\n",
    "#     is_valid = deep_check(assigned_day, family_on_day, occupancy)\n",
    "# except:\n",
    "#     is_valid = False\n",
    "# print('Valid solution:', is_valid)\n",
    "# print('Total score:    ', cal_total(assigned_day, occupancy))\n",
    "# print('Preference cost:', cal_total_preference(assigned_day))\n",
    "# print('Accounting cost:', cal_total_accounting(occupancy))"
   ]
  },
  {
   "cell_type": "code",
   "execution_count": 4,
   "metadata": {},
   "outputs": [
    {
     "data": {
      "text/plain": [
       "5000"
      ]
     },
     "execution_count": 4,
     "metadata": {},
     "output_type": "execute_result"
    }
   ],
   "source": [
    "len(assigned_day)"
   ]
  },
  {
   "cell_type": "markdown",
   "metadata": {},
   "source": [
    "## Setup"
   ]
  },
  {
   "cell_type": "code",
   "execution_count": 5,
   "metadata": {},
   "outputs": [],
   "source": [
    "families = range(N_families)\n",
    "days = range(1, N_days + 1)"
   ]
  },
  {
   "cell_type": "code",
   "execution_count": 6,
   "metadata": {},
   "outputs": [],
   "source": [
    "allowed_occupancy = range(N_min_people, N_max_people+1)"
   ]
  },
  {
   "cell_type": "code",
   "execution_count": 7,
   "metadata": {},
   "outputs": [
    {
     "data": {
      "text/plain": [
       "11"
      ]
     },
     "execution_count": 7,
     "metadata": {},
     "output_type": "execute_result"
    }
   ],
   "source": [
    "# Possible choice for the family\n",
    "# last choice is any day that is not on the family's preferred days\n",
    "N_choices = family_id_choice_to_pref_cost.shape[1]\n",
    "N_choices"
   ]
  },
  {
   "cell_type": "code",
   "execution_count": 8,
   "metadata": {},
   "outputs": [
    {
     "data": {
      "text/plain": [
       "array([[   0,   50,   86, ...,  544, 1440, 2236],\n",
       "       [   0,   50,   86, ...,  544, 1440, 2236],\n",
       "       [   0,   50,   77, ...,  508, 1205, 1802],\n",
       "       ...,\n",
       "       [   0,   50,  104, ...,  616, 1910, 3104],\n",
       "       [   0,   50,   95, ...,  580, 1675, 2670],\n",
       "       [   0,   50,   86, ...,  544, 1440, 2236]])"
      ]
     },
     "execution_count": 8,
     "metadata": {},
     "output_type": "execute_result"
    }
   ],
   "source": [
    "family_id_choice_to_pref_cost"
   ]
  },
  {
   "cell_type": "markdown",
   "metadata": {},
   "source": [
    "## Ortools - CBC MIP solver"
   ]
  },
  {
   "cell_type": "code",
   "execution_count": 9,
   "metadata": {},
   "outputs": [],
   "source": [
    "from ortools.linear_solver import pywraplp"
   ]
  },
  {
   "cell_type": "code",
   "execution_count": 10,
   "metadata": {},
   "outputs": [],
   "source": [
    "solver = pywraplp.Solver('', pywraplp.Solver.CBC_MIXED_INTEGER_PROGRAMMING)"
   ]
  },
  {
   "cell_type": "code",
   "execution_count": 11,
   "metadata": {},
   "outputs": [
    {
     "name": "stdout",
     "output_type": "stream",
     "text": [
      "Set num threads: True\n",
      "Set time limit: None\n"
     ]
    }
   ],
   "source": [
    "print('Set num threads:', solver.SetNumThreads(num_cpu_cores))\n",
    "print('Set time limit:', solver.SetTimeLimit(time_limit))"
   ]
  },
  {
   "cell_type": "markdown",
   "metadata": {},
   "source": [
    "## Variables"
   ]
  },
  {
   "cell_type": "code",
   "execution_count": 12,
   "metadata": {},
   "outputs": [],
   "source": [
    "# Variables\n",
    "# assignment matrix[family, pref_rank]\n",
    "assignment_matrix = {}\n",
    "for family in families:\n",
    "    for c in range(N_choices):\n",
    "        assignment_matrix[family, c] = solver.BoolVar('x[%i,%i]' % (family, c))"
   ]
  },
  {
   "cell_type": "code",
   "execution_count": 13,
   "metadata": {},
   "outputs": [
    {
     "data": {
      "text/plain": [
       "55000"
      ]
     },
     "execution_count": 13,
     "metadata": {},
     "output_type": "execute_result"
    }
   ],
   "source": [
    "len(assignment_matrix)"
   ]
  },
  {
   "cell_type": "code",
   "execution_count": 14,
   "metadata": {},
   "outputs": [],
   "source": [
    "possible_family_sizes = np.unique(n_people)"
   ]
  },
  {
   "cell_type": "code",
   "execution_count": 15,
   "metadata": {},
   "outputs": [],
   "source": [
    "# unpreferred_day_counts[day, size]\n",
    "unpreferred_day_counts = {}\n",
    "for day in days:\n",
    "    for size in possible_family_sizes:\n",
    "        ub = int(N_max_people / size)\n",
    "        # ub = solver.infinity()\n",
    "        unpreferred_day_counts[day, size] = solver.IntVar(0, ub, 'd[%i,%i]' % (day, size))"
   ]
  },
  {
   "cell_type": "code",
   "execution_count": 16,
   "metadata": {
    "scrolled": true
   },
   "outputs": [
    {
     "data": {
      "text/plain": [
       "700"
      ]
     },
     "execution_count": 16,
     "metadata": {},
     "output_type": "execute_result"
    }
   ],
   "source": [
    "len(unpreferred_day_counts)"
   ]
  },
  {
   "cell_type": "code",
   "execution_count": 17,
   "metadata": {},
   "outputs": [],
   "source": [
    "# Occupancy matrix [day, N_d, N_d+1]\n",
    "occupancy_matrix = {}\n",
    "for day in days:\n",
    "    if day < N_days:\n",
    "        for o in allowed_occupancy:\n",
    "            for o_next in allowed_occupancy:\n",
    "                occupancy_matrix[day, o, o_next] = solver.BoolVar('o[%i,%i,%i]' % (day, o, o_next))\n",
    "    else:\n",
    "        for o in allowed_occupancy:\n",
    "            occupancy_matrix[day, o] = solver.BoolVar('o[%i,%i]' % (day, o))"
   ]
  },
  {
   "cell_type": "code",
   "execution_count": 18,
   "metadata": {},
   "outputs": [
    {
     "data": {
      "text/plain": [
       "3066800"
      ]
     },
     "execution_count": 18,
     "metadata": {},
     "output_type": "execute_result"
    }
   ],
   "source": [
    "len(occupancy_matrix)"
   ]
  },
  {
   "cell_type": "markdown",
   "metadata": {},
   "source": [
    "## Constraints"
   ]
  },
  {
   "cell_type": "markdown",
   "metadata": {},
   "source": [
    "### constraint 1: each family only take one day (choice)"
   ]
  },
  {
   "cell_type": "code",
   "execution_count": 19,
   "metadata": {},
   "outputs": [],
   "source": [
    "# Constraints\n",
    "# constraint 1: each family only take one day (choice)\n",
    "for family in families:\n",
    "    solver.Add(solver.Sum([assignment_matrix[family, c]\n",
    "                           for c in range(N_choices)]) == 1)"
   ]
  },
  {
   "cell_type": "markdown",
   "metadata": {},
   "source": [
    "### constraint 2: each day can only have 125-300 people"
   ]
  },
  {
   "cell_type": "code",
   "execution_count": 20,
   "metadata": {},
   "outputs": [],
   "source": [
    "# constraint 2: each day can only have 125-300 people"
   ]
  },
  {
   "cell_type": "code",
   "execution_count": 21,
   "metadata": {},
   "outputs": [
    {
     "data": {
      "text/plain": [
       "array([[ 52,  38,  12, ...,  76,  10,  28],\n",
       "       [ 26,   4,  82, ...,   6,  66,  61],\n",
       "       [100,  54,  25, ...,  89,  80,  33],\n",
       "       ...,\n",
       "       [ 32,  66,  54, ...,  81,   3,   7],\n",
       "       [ 67,  92,   4, ...,  12,  26,  70],\n",
       "       [ 13,  11,  25, ...,  39,  18,  47]])"
      ]
     },
     "execution_count": 21,
     "metadata": {},
     "output_type": "execute_result"
    }
   ],
   "source": [
    "family_pref"
   ]
  },
  {
   "cell_type": "code",
   "execution_count": 22,
   "metadata": {},
   "outputs": [
    {
     "data": {
      "text/plain": [
       "10"
      ]
     },
     "execution_count": 22,
     "metadata": {},
     "output_type": "execute_result"
    }
   ],
   "source": [
    "N_family_pref = N_choices - 1\n",
    "N_family_pref"
   ]
  },
  {
   "cell_type": "code",
   "execution_count": 23,
   "metadata": {},
   "outputs": [],
   "source": [
    "# day to dictionary of families who choice this day with value as preference rank\n",
    "days_family_prefered = [{} for day in range(N_days+1)]  # day = 0 should not be used"
   ]
  },
  {
   "cell_type": "code",
   "execution_count": 24,
   "metadata": {},
   "outputs": [],
   "source": [
    "for family, pref in enumerate(family_pref):\n",
    "    for pref_rank, day in enumerate(pref):\n",
    "        days_family_prefered[day][family] = pref_rank"
   ]
  },
  {
   "cell_type": "code",
   "execution_count": 25,
   "metadata": {},
   "outputs": [],
   "source": [
    "# occupancy count [intermediate variables]\n",
    "occupancy_counts = {}\n",
    "for day in days:\n",
    "    # find those family who like this day\n",
    "    family_prefered = days_family_prefered[day]\n",
    "    occupancy_counts[day] = (\n",
    "        solver.Sum(\n",
    "            [assignment_matrix[family, pref_rank] * n_people[family] \n",
    "             for family, pref_rank in family_prefered.items()]\n",
    "        ) + \n",
    "        solver.Sum(\n",
    "            [unpreferred_day_counts[day, size] * size for size in possible_family_sizes]\n",
    "        )\n",
    "    )"
   ]
  },
  {
   "cell_type": "code",
   "execution_count": 26,
   "metadata": {},
   "outputs": [],
   "source": [
    "# for day in days:\n",
    "#     # find those family who like this day\n",
    "#     solver.Add(occupancy_counts[day] <= N_max_people, 'ub[%i]' % day)\n",
    "#     solver.Add(occupancy_counts[day] >= N_min_people, 'ub[%i]' % day)"
   ]
  },
  {
   "cell_type": "markdown",
   "metadata": {},
   "source": [
    "### constraint 3: unpreferred day family count conservation for each family size"
   ]
  },
  {
   "cell_type": "code",
   "execution_count": 27,
   "metadata": {},
   "outputs": [],
   "source": [
    "# constraint 3: unpreferred day family count conservation for each family size"
   ]
  },
  {
   "cell_type": "code",
   "execution_count": 28,
   "metadata": {},
   "outputs": [],
   "source": [
    "family_size_to_family_ids = {\n",
    "    size: np.where(n_people == size)[0] for size in possible_family_sizes\n",
    "}"
   ]
  },
  {
   "cell_type": "code",
   "execution_count": 29,
   "metadata": {},
   "outputs": [],
   "source": [
    "for size in possible_family_sizes:\n",
    "    solver.Add(\n",
    "        solver.Sum([assignment_matrix[family, N_choices - 1]\n",
    "                    for family in family_size_to_family_ids[size]])\n",
    "        == solver.Sum([unpreferred_day_counts[day, size] for day in days]),\n",
    "        'unpreferred_day_counts[%i]' % size\n",
    "    )"
   ]
  },
  {
   "cell_type": "markdown",
   "metadata": {},
   "source": [
    "### constrain 4: link occupancy boolean matrix to occupancy count"
   ]
  },
  {
   "cell_type": "code",
   "execution_count": 30,
   "metadata": {},
   "outputs": [],
   "source": [
    "for day in days:\n",
    "    if day < N_days:\n",
    "        sum_from_occupancy_matrix = solver.Sum(\n",
    "            [occupancy_matrix[day, o, o_next] * o \n",
    "             for o in allowed_occupancy for o_next in allowed_occupancy]\n",
    "        )\n",
    "    else:\n",
    "        sum_from_occupancy_matrix = solver.Sum(\n",
    "            [occupancy_matrix[day, o] * o for o in allowed_occupancy]\n",
    "        )\n",
    "    solver.Add(occupancy_counts[day] == sum_from_occupancy_matrix)"
   ]
  },
  {
   "cell_type": "code",
   "execution_count": 31,
   "metadata": {},
   "outputs": [],
   "source": [
    "# occupancy boolean matrix normalization\n",
    "# each day only take 1 occupancy value\n",
    "for day in days:\n",
    "    if day < N_days:\n",
    "        occupancy_normalization = solver.Sum([\n",
    "            occupancy_matrix[day, o, o_next]\n",
    "            for o in allowed_occupancy for o_next in allowed_occupancy\n",
    "        ])\n",
    "    else:\n",
    "        occupancy_normalization = solver.Sum([\n",
    "            occupancy_matrix[day, o]\n",
    "            for o in allowed_occupancy\n",
    "        ])\n",
    "    solver.Add(occupancy_normalization == 1)"
   ]
  },
  {
   "cell_type": "code",
   "execution_count": 32,
   "metadata": {},
   "outputs": [],
   "source": [
    "# next day occupancy consistency\n",
    "# Approach 1:\n",
    "for day in days:\n",
    "    if day < N_days:\n",
    "        sum_from_next_occupancy_matrix = solver.Sum(\n",
    "            [occupancy_matrix[day, o, o_next] * o_next \n",
    "             for o in allowed_occupancy for o_next in allowed_occupancy]\n",
    "        )\n",
    "        solver.Add(occupancy_counts[day + 1] == sum_from_next_occupancy_matrix)\n",
    "# Approach 2:\n",
    "# for day in days:\n",
    "#     if day + 1 < N_days:\n",
    "#         for o in allowed_occupancy:\n",
    "#             solver.Add(\n",
    "#                 solver.Sum(\n",
    "#                     [occupancy_matrix[day, o_other, o] for o_other in allowed_occupancy]\n",
    "#                 ) == solver.Sum(\n",
    "#                     [occupancy_matrix[day + 1, o, o_other] for o_other in allowed_occupancy]\n",
    "#                 )\n",
    "#             )\n",
    "# for o in allowed_occupancy:\n",
    "#     solver.Add(\n",
    "#         solver.Sum(\n",
    "#             [occupancy_matrix[N_days - 1, o_other, o] for o_other in allowed_occupancy]\n",
    "#         ) == occupancy_matrix[N_days, o]\n",
    "#     )"
   ]
  },
  {
   "cell_type": "markdown",
   "metadata": {},
   "source": [
    "## Objective"
   ]
  },
  {
   "cell_type": "code",
   "execution_count": 33,
   "metadata": {},
   "outputs": [],
   "source": [
    "# Objective - Preference cost only as approximation\n",
    "solver.Minimize(\n",
    "    solver.Sum([\n",
    "        assignment_matrix[family, c] * family_id_choice_to_pref_cost[family, c]\n",
    "        for family in families for c in range(N_choices)\n",
    "    ]) +\n",
    "    solver.Sum([\n",
    "        occupancy_matrix[day, o, o_next] * nd_ndp1_to_account_penality[o, o_next]\n",
    "        for o in allowed_occupancy for o_next in allowed_occupancy\n",
    "        for day in days if day < N_days\n",
    "    ]) +\n",
    "    solver.Sum([\n",
    "        occupancy_matrix[N_days, o] * nd_ndp1_to_account_penality[o, o]\n",
    "        for o in allowed_occupancy\n",
    "    ])\n",
    ")"
   ]
  },
  {
   "cell_type": "markdown",
   "metadata": {},
   "source": [
    "## Solve"
   ]
  },
  {
   "cell_type": "code",
   "execution_count": 34,
   "metadata": {},
   "outputs": [
    {
     "data": {
      "text/plain": [
       "3122500"
      ]
     },
     "execution_count": 34,
     "metadata": {},
     "output_type": "execute_result"
    }
   ],
   "source": [
    "len(solver.variables())"
   ]
  },
  {
   "cell_type": "code",
   "execution_count": 35,
   "metadata": {},
   "outputs": [
    {
     "name": "stdout",
     "output_type": "stream",
     "text": [
      "Result:  NOT_SOLVED\n",
      "Total cost =  0.0\n",
      "Time =  21964054  milliseconds\n",
      "CPU times: user 11h 42min 6s, sys: 2h 48min 49s, total: 14h 30min 56s\n",
      "Wall time: 6h 4min 23s\n"
     ]
    }
   ],
   "source": [
    "%%time\n",
    "# Solve\n",
    "sol = solver.Solve()\n",
    "\n",
    "resdict = {0:'OPTIMAL', 1:'FEASIBLE', 2:'INFEASIBLE', 3:'UNBOUNDED', \n",
    "           4:'ABNORMAL', 5:'MODEL_INVALID', 6:'NOT_SOLVED'}\n",
    "print('Result: ', resdict[sol])\n",
    "print('Total cost = ', solver.Objective().Value())\n",
    "print(\"Time = \", solver.WallTime(), \" milliseconds\")"
   ]
  },
  {
   "cell_type": "code",
   "execution_count": 36,
   "metadata": {},
   "outputs": [],
   "source": [
    "# 20: 45338.0 OPTIMAL\n",
    "# 40: 45338.0 OPTIMAL\n",
    "# 60: 45338.0 FEASIBLE\n",
    "#100: 45338.0 FEASIBLE\n",
    "#10h (2h): 43999.0 FEASIBLE"
   ]
  },
  {
   "cell_type": "markdown",
   "metadata": {},
   "source": [
    "## Solution"
   ]
  },
  {
   "cell_type": "code",
   "execution_count": 37,
   "metadata": {},
   "outputs": [],
   "source": [
    "assignment_choices = np.array([\n",
    "    [assignment_matrix[family, c].solution_value() for c in range(N_choices)]\n",
    "    for family in families\n",
    "]).argmax(axis=1)"
   ]
  },
  {
   "cell_type": "code",
   "execution_count": 38,
   "metadata": {},
   "outputs": [
    {
     "data": {
      "text/plain": [
       "array([0, 0, 0, ..., 0, 0, 0])"
      ]
     },
     "execution_count": 38,
     "metadata": {},
     "output_type": "execute_result"
    }
   ],
   "source": [
    "assignment_choices"
   ]
  },
  {
   "cell_type": "code",
   "execution_count": 39,
   "metadata": {},
   "outputs": [],
   "source": [
    "assigned_day_new_raw = np.array([\n",
    "    family_pref[family, c] if c < N_family_pref else -1 \n",
    "    for family, c in enumerate(assignment_choices)\n",
    "])"
   ]
  },
  {
   "cell_type": "code",
   "execution_count": 40,
   "metadata": {},
   "outputs": [
    {
     "data": {
      "text/plain": [
       "array([ 52,  26, 100, ...,  32,  67,  13])"
      ]
     },
     "execution_count": 40,
     "metadata": {},
     "output_type": "execute_result"
    }
   ],
   "source": [
    "assigned_day_new_raw"
   ]
  },
  {
   "cell_type": "code",
   "execution_count": 41,
   "metadata": {},
   "outputs": [],
   "source": [
    "unpreferred_day_counts_sol = {\n",
    "    size: [0]+[int(unpreferred_day_counts[day, size].solution_value()) for day in days]\n",
    "    for size in possible_family_sizes\n",
    "}"
   ]
  },
  {
   "cell_type": "code",
   "execution_count": 42,
   "metadata": {},
   "outputs": [
    {
     "name": "stdout",
     "output_type": "stream",
     "text": [
      "Unpreferred families slots:\n"
     ]
    },
    {
     "data": {
      "text/plain": [
       "{2: 0, 3: 0, 4: 0, 5: 0, 6: 0, 7: 0, 8: 0}"
      ]
     },
     "execution_count": 42,
     "metadata": {},
     "output_type": "execute_result"
    }
   ],
   "source": [
    "print('Unpreferred families slots:')\n",
    "{size: sum(counts) for size, counts in unpreferred_day_counts_sol.items()}"
   ]
  },
  {
   "cell_type": "code",
   "execution_count": 43,
   "metadata": {},
   "outputs": [],
   "source": [
    "def distribute_unpreferred_day(assigned_day, unpreferred_day_counts_sol, n_people):\n",
    "    \"\"\" Distribute unpreferred day to each family who has -1 day assigned \"\"\"\n",
    "    assigned_day = assigned_day.copy()\n",
    "    unpreferred_days = {size: [] for size in possible_family_sizes}\n",
    "    for size in possible_family_sizes:\n",
    "        for day, quota in enumerate(unpreferred_day_counts_sol[size]):\n",
    "            unpreferred_days[size] = unpreferred_days[size] + [day] * quota\n",
    "    unpreferred_day_headers = {size: 0 for size in possible_family_sizes}\n",
    "    for family, (day, size) in enumerate(zip(assigned_day, n_people)):\n",
    "        if day == -1:\n",
    "            assigned_day[family] = unpreferred_days[size][unpreferred_day_headers[size]]\n",
    "            unpreferred_day_headers[size] += 1\n",
    "    return assigned_day"
   ]
  },
  {
   "cell_type": "code",
   "execution_count": 44,
   "metadata": {},
   "outputs": [],
   "source": [
    "assigned_day_new = distribute_unpreferred_day(assigned_day_new_raw, unpreferred_day_counts_sol, n_people)"
   ]
  },
  {
   "cell_type": "code",
   "execution_count": 45,
   "metadata": {},
   "outputs": [
    {
     "name": "stdout",
     "output_type": "stream",
     "text": [
      "N family unpreferred assigned: 0\n"
     ]
    }
   ],
   "source": [
    "print('N family unpreferred assigned:', (~(assigned_day_new == assigned_day_new_raw)).sum())"
   ]
  },
  {
   "cell_type": "code",
   "execution_count": 46,
   "metadata": {},
   "outputs": [],
   "source": [
    "def assigned_day_to_family_on_day(assigned_day):\n",
    "    family_on_day = [set() for _ in range(N_days+1)] # 0 is empty set\n",
    "    for i, day in enumerate(assigned_day):\n",
    "        family_on_day[day].add(i)\n",
    "    return family_on_day\n",
    "\n",
    "def assigned_day_to_occupancy(assigned_day):\n",
    "    occupancy = np.zeros(N_days+2, dtype='int32') # 0 is 0\n",
    "    for i, n in enumerate(n_people):\n",
    "        occupancy[assigned_day[i]] += n\n",
    "    occupancy[0] = 125\n",
    "    occupancy[-1] = occupancy[-2]\n",
    "    return occupancy"
   ]
  },
  {
   "cell_type": "code",
   "execution_count": 47,
   "metadata": {},
   "outputs": [],
   "source": [
    "family_on_day_new = assigned_day_to_family_on_day(assigned_day_new)\n",
    "occupancy_new = assigned_day_to_occupancy(assigned_day_new)"
   ]
  },
  {
   "cell_type": "code",
   "execution_count": 50,
   "metadata": {},
   "outputs": [
    {
     "name": "stdout",
     "output_type": "stream",
     "text": [
      "Total score:     1.0647073818721987e+90\n",
      "Preference cost: 0\n",
      "Accounting cost: 1.0647073818721987e+90\n"
     ]
    }
   ],
   "source": [
    "try:\n",
    "    is_valid = deep_check(assigned_day_new, family_on_day_new, occupancy_new)\n",
    "except:\n",
    "    is_valid = False\n",
    "print('Valid solution:', is_valid)\n",
    "print('Total score:    ', cal_total(assigned_day_new, occupancy_new))\n",
    "print('Preference cost:', cal_total_preference(assigned_day_new))\n",
    "print('Accounting cost:', cal_total_accounting(occupancy_new))"
   ]
  },
  {
   "cell_type": "markdown",
   "metadata": {},
   "source": [
    "## Output"
   ]
  },
  {
   "cell_type": "code",
   "execution_count": 51,
   "metadata": {},
   "outputs": [],
   "source": [
    "dump_conf(assigned_day_new, path_dump_improved)"
   ]
  },
  {
   "cell_type": "markdown",
   "metadata": {},
   "source": [
    "## Debug"
   ]
  },
  {
   "cell_type": "code",
   "execution_count": 52,
   "metadata": {},
   "outputs": [
    {
     "data": {
      "text/plain": [
       "[[0.0, 0.0, 0.0, 0.0, 0.0, 0.0, 0.0, 0.0, 0.0, 0.0, 0.0],\n",
       " [0.0, 0.0, 0.0, 0.0, 0.0, 0.0, 0.0, 0.0, 0.0, 0.0, 0.0],\n",
       " [0.0, 0.0, 0.0, 0.0, 0.0, 0.0, 0.0, 0.0, 0.0, 0.0, 0.0],\n",
       " [0.0, 0.0, 0.0, 0.0, 0.0, 0.0, 0.0, 0.0, 0.0, 0.0, 0.0],\n",
       " [0.0, 0.0, 0.0, 0.0, 0.0, 0.0, 0.0, 0.0, 0.0, 0.0, 0.0],\n",
       " [0.0, 0.0, 0.0, 0.0, 0.0, 0.0, 0.0, 0.0, 0.0, 0.0, 0.0],\n",
       " [0.0, 0.0, 0.0, 0.0, 0.0, 0.0, 0.0, 0.0, 0.0, 0.0, 0.0],\n",
       " [0.0, 0.0, 0.0, 0.0, 0.0, 0.0, 0.0, 0.0, 0.0, 0.0, 0.0],\n",
       " [0.0, 0.0, 0.0, 0.0, 0.0, 0.0, 0.0, 0.0, 0.0, 0.0, 0.0],\n",
       " [0.0, 0.0, 0.0, 0.0, 0.0, 0.0, 0.0, 0.0, 0.0, 0.0, 0.0]]"
      ]
     },
     "execution_count": 52,
     "metadata": {},
     "output_type": "execute_result"
    }
   ],
   "source": [
    "[\n",
    "    [assignment_matrix[family, c].solution_value() for c in range(N_choices)]\n",
    "    for family in range(10)\n",
    "]        "
   ]
  },
  {
   "cell_type": "code",
   "execution_count": 53,
   "metadata": {},
   "outputs": [
    {
     "data": {
      "text/plain": [
       "[[0.0, 0.0, 0.0, 0.0, 0.0, 0.0, 0.0],\n",
       " [0.0, 0.0, 0.0, 0.0, 0.0, 0.0, 0.0],\n",
       " [0.0, 0.0, 0.0, 0.0, 0.0, 0.0, 0.0],\n",
       " [0.0, 0.0, 0.0, 0.0, 0.0, 0.0, 0.0],\n",
       " [0.0, 0.0, 0.0, 0.0, 0.0, 0.0, 0.0],\n",
       " [0.0, 0.0, 0.0, 0.0, 0.0, 0.0, 0.0],\n",
       " [0.0, 0.0, 0.0, 0.0, 0.0, 0.0, 0.0],\n",
       " [0.0, 0.0, 0.0, 0.0, 0.0, 0.0, 0.0],\n",
       " [0.0, 0.0, 0.0, 0.0, 0.0, 0.0, 0.0]]"
      ]
     },
     "execution_count": 53,
     "metadata": {},
     "output_type": "execute_result"
    }
   ],
   "source": [
    "[\n",
    "    [unpreferred_day_counts[day, size].solution_value() for size in possible_family_sizes]\n",
    "    for day in range(1, 10)\n",
    "]        "
   ]
  },
  {
   "cell_type": "code",
   "execution_count": null,
   "metadata": {},
   "outputs": [],
   "source": []
  }
 ],
 "metadata": {
  "kernelspec": {
   "display_name": "Python 3",
   "language": "python",
   "name": "python3"
  },
  "language_info": {
   "codemirror_mode": {
    "name": "ipython",
    "version": 3
   },
   "file_extension": ".py",
   "mimetype": "text/x-python",
   "name": "python",
   "nbconvert_exporter": "python",
   "pygments_lexer": "ipython3",
   "version": "3.6.6"
  },
  "toc": {
   "base_numbering": 1,
   "nav_menu": {},
   "number_sections": true,
   "sideBar": true,
   "skip_h1_title": true,
   "title_cell": "Table of Contents",
   "title_sidebar": "Contents",
   "toc_cell": false,
   "toc_position": {
    "height": "calc(100% - 180px)",
    "left": "10px",
    "top": "150px",
    "width": "165px"
   },
   "toc_section_display": true,
   "toc_window_display": true
  }
 },
 "nbformat": 4,
 "nbformat_minor": 2
}
