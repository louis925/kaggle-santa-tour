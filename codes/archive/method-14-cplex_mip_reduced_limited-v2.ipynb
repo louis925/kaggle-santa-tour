{
 "cells": [
  {
   "cell_type": "markdown",
   "metadata": {},
   "source": [
    "**CPLEX installation guide:** Add following line to your `.bash_profile` (for macOS) after installing IBM ILOG CPLEX Optimization Studio locally using installer from IBM. (note the path will change if you are using different python or OS)\n",
    "\n",
    "```export PYTHONPATH=\"/Applications/CPLEX_Studio1210/cplex/python/3.6/x86-64_osx\"```"
   ]
  },
  {
   "cell_type": "code",
   "execution_count": 1,
   "metadata": {},
   "outputs": [
    {
     "name": "stdout",
     "output_type": "stream",
     "text": [
      "['/Applications/CPLEX_Studio1210/cplex/python/3.6/x86-64_osx/cplex']\n"
     ]
    }
   ],
   "source": [
    "import cplex\n",
    "print(cplex.__path__)  # make sure the path is the one we pick above"
   ]
  },
  {
   "cell_type": "code",
   "execution_count": 2,
   "metadata": {},
   "outputs": [],
   "source": [
    "import numpy as np\n",
    "import pandas as pd\n",
    "import matplotlib.pyplot as plt\n",
    "\n",
    "from util_io import (\n",
    "    init, finalize, dump_conf, assigned_day_to_family_on_day, assigned_day_to_occupancy\n",
    ")\n",
    "from util_cost import (\n",
    "    cal_total, n_people, family_id_choice_to_pref_cost, cal_total_preference, cal_total_accounting,\n",
    "    nd_ndp1_to_account_penality\n",
    ")\n",
    "from util_cost import choices as family_pref\n",
    "from util_check import deep_check, check_valid_all"
   ]
  },
  {
   "cell_type": "markdown",
   "metadata": {},
   "source": [
    "## Parameters"
   ]
  },
  {
   "cell_type": "code",
   "execution_count": 3,
   "metadata": {},
   "outputs": [],
   "source": [
    "# constants #\n",
    "N_families = 5000\n",
    "N_days = 100\n",
    "N_min_people = 125\n",
    "N_max_people = 300\n",
    "# constants #\n",
    "\n",
    "# params #\n",
    "path_init_conf =     '../output/m14-improved-v2.csv'\n",
    "#path_init_conf =     '../input/another_pytorch_implementation.csv'\n",
    "path_dump_improved = '../output/m14-improved-v2.csv' # output solution\n",
    "\n",
    "num_cpu_cores = 6\n",
    "time_limit = -1 # unlimited\n",
    "time_limit = 2*60  # in s\n",
    "\n",
    "occupancy_diff = 50  # +- the occupancy of input solution for each day\n",
    "max_family_rank = 7  # maximum number of rank of the preference days for each family\n",
    "use_hint = True      # use current input as hint\n",
    "occupancy_count_as_variables = True  # use occupancy_counts as variable (seem faster)\n",
    "min_choice_0_families = 100   # minimum number of families that are at their choice 0\n",
    "target_pref_cost = 0 # 62868\n",
    "target_pref_cost_error = 0\n",
    "target_accounting_cost = 0 # 6020.043432\n",
    "target_accounting_cost_error = 1000"
   ]
  },
  {
   "cell_type": "code",
   "execution_count": 4,
   "metadata": {},
   "outputs": [],
   "source": [
    "families = range(N_families)\n",
    "days = range(1, N_days + 1)"
   ]
  },
  {
   "cell_type": "code",
   "execution_count": 5,
   "metadata": {},
   "outputs": [],
   "source": [
    "#print(list(days))"
   ]
  },
  {
   "cell_type": "code",
   "execution_count": 6,
   "metadata": {},
   "outputs": [],
   "source": [
    "allowed_occupancy = range(N_min_people, N_max_people + 1)"
   ]
  },
  {
   "cell_type": "code",
   "execution_count": 7,
   "metadata": {
    "scrolled": true
   },
   "outputs": [
    {
     "name": "stdout",
     "output_type": "stream",
     "text": [
      "Read initial configs...\n",
      "Read config completed.\n",
      "Init config:\n",
      "deep check: everything looks fine.\n",
      "Valid solution:  True\n",
      "Total score:     70901.16843914894\n",
      "Preference cost: 65596\n",
      "Accounting cost: 5305.168439148937\n"
     ]
    }
   ],
   "source": [
    "assigned_day, family_on_day, occupancy = init(path_conf=path_init_conf)\n",
    "print('Init config:')\n",
    "try:\n",
    "    is_valid = deep_check(assigned_day, family_on_day, occupancy)\n",
    "except:\n",
    "    is_valid = False\n",
    "initial_score = cal_total(assigned_day, occupancy)\n",
    "print('Valid solution: ', is_valid)\n",
    "print('Total score:    ', initial_score)\n",
    "print('Preference cost:', cal_total_preference(assigned_day))\n",
    "print('Accounting cost:', cal_total_accounting(occupancy))"
   ]
  },
  {
   "cell_type": "code",
   "execution_count": 8,
   "metadata": {},
   "outputs": [
    {
     "name": "stdout",
     "output_type": "stream",
     "text": [
      "[125 300 286 300 300 285 261 244 245 268 293 299 298 277 256 253 268 296\n",
      " 284 271 244 222 229 258 282 298 289 269 254 240 247 266 270 249 218 189\n",
      " 162 192 227 249 234 205 176 180 205 242 259 241 215 196 172 209 240 242\n",
      " 221 185 153 125 225 252 235 201 162 125 125 125 244 214 176 131 125 125\n",
      " 125 231 206 175 131 125 125 125 228 209 177 132 125 125 125 255 234 199\n",
      " 161 125 125 125 232 206 173 126 125 125 125 125] (102,)\n"
     ]
    }
   ],
   "source": [
    "print(occupancy, occupancy.shape)"
   ]
  },
  {
   "cell_type": "code",
   "execution_count": 9,
   "metadata": {},
   "outputs": [],
   "source": [
    "init_occupancy_counts = {o: 0 for o in allowed_occupancy}\n",
    "for o in occupancy[1:-1]:\n",
    "    init_occupancy_counts[o] += 1\n",
    "init_occupancy_counts = pd.Series(init_occupancy_counts)"
   ]
  },
  {
   "cell_type": "code",
   "execution_count": 10,
   "metadata": {},
   "outputs": [],
   "source": [
    "pdf = pd.DataFrame(init_occupancy_counts, columns=['counts'])\n",
    "pdf.index.name = 'occupancy'"
   ]
  },
  {
   "cell_type": "code",
   "execution_count": 11,
   "metadata": {},
   "outputs": [],
   "source": [
    "#pdf.plot(kind='bar', figsize=(24, 2), grid=True); plt.ylim(-1, 19)"
   ]
  },
  {
   "cell_type": "markdown",
   "metadata": {},
   "source": [
    "## Setup"
   ]
  },
  {
   "cell_type": "code",
   "execution_count": 12,
   "metadata": {},
   "outputs": [],
   "source": [
    "# limit the occupancy choice to +- occupancy_diff of current solution\n",
    "search_occupancy = {}\n",
    "for day in days:\n",
    "    search_occupancy[day] = range(max(occupancy[day] - occupancy_diff, N_min_people), \n",
    "                                  min(occupancy[day] + occupancy_diff, N_max_people) + 1)"
   ]
  },
  {
   "cell_type": "code",
   "execution_count": 13,
   "metadata": {
    "scrolled": true
   },
   "outputs": [
    {
     "name": "stdout",
     "output_type": "stream",
     "text": [
      "1 range(250, 301)\n",
      "2 range(236, 301)\n",
      "3 range(250, 301)\n",
      "4 range(250, 301)\n",
      "5 range(235, 301)\n",
      "6 range(211, 301)\n",
      "7 range(194, 295)\n",
      "8 range(195, 296)\n",
      "9 range(218, 301)\n",
      "10 range(243, 301)\n",
      "11 range(249, 301)\n",
      "12 range(248, 301)\n",
      "13 range(227, 301)\n",
      "14 range(206, 301)\n",
      "15 range(203, 301)\n",
      "16 range(218, 301)\n",
      "17 range(246, 301)\n",
      "18 range(234, 301)\n",
      "19 range(221, 301)\n",
      "20 range(194, 295)\n",
      "21 range(172, 273)\n",
      "22 range(179, 280)\n",
      "23 range(208, 301)\n",
      "24 range(232, 301)\n",
      "25 range(248, 301)\n",
      "26 range(239, 301)\n",
      "27 range(219, 301)\n",
      "28 range(204, 301)\n",
      "29 range(190, 291)\n",
      "30 range(197, 298)\n",
      "31 range(216, 301)\n",
      "32 range(220, 301)\n",
      "33 range(199, 300)\n",
      "34 range(168, 269)\n",
      "35 range(139, 240)\n",
      "36 range(125, 213)\n",
      "37 range(142, 243)\n",
      "38 range(177, 278)\n",
      "39 range(199, 300)\n",
      "40 range(184, 285)\n",
      "41 range(155, 256)\n",
      "42 range(126, 227)\n",
      "43 range(130, 231)\n",
      "44 range(155, 256)\n",
      "45 range(192, 293)\n",
      "46 range(209, 301)\n",
      "47 range(191, 292)\n",
      "48 range(165, 266)\n",
      "49 range(146, 247)\n",
      "50 range(125, 223)\n",
      "51 range(159, 260)\n",
      "52 range(190, 291)\n",
      "53 range(192, 293)\n",
      "54 range(171, 272)\n",
      "55 range(135, 236)\n",
      "56 range(125, 204)\n",
      "57 range(125, 176)\n",
      "58 range(175, 276)\n",
      "59 range(202, 301)\n",
      "60 range(185, 286)\n",
      "61 range(151, 252)\n",
      "62 range(125, 213)\n",
      "63 range(125, 176)\n",
      "64 range(125, 176)\n",
      "65 range(125, 176)\n",
      "66 range(194, 295)\n",
      "67 range(164, 265)\n",
      "68 range(126, 227)\n",
      "69 range(125, 182)\n",
      "70 range(125, 176)\n",
      "71 range(125, 176)\n",
      "72 range(125, 176)\n",
      "73 range(181, 282)\n",
      "74 range(156, 257)\n",
      "75 range(125, 226)\n",
      "76 range(125, 182)\n",
      "77 range(125, 176)\n",
      "78 range(125, 176)\n",
      "79 range(125, 176)\n",
      "80 range(178, 279)\n",
      "81 range(159, 260)\n",
      "82 range(127, 228)\n",
      "83 range(125, 183)\n",
      "84 range(125, 176)\n",
      "85 range(125, 176)\n",
      "86 range(125, 176)\n",
      "87 range(205, 301)\n",
      "88 range(184, 285)\n",
      "89 range(149, 250)\n",
      "90 range(125, 212)\n",
      "91 range(125, 176)\n",
      "92 range(125, 176)\n",
      "93 range(125, 176)\n",
      "94 range(182, 283)\n",
      "95 range(156, 257)\n",
      "96 range(125, 224)\n",
      "97 range(125, 177)\n",
      "98 range(125, 176)\n",
      "99 range(125, 176)\n",
      "100 range(125, 176)\n"
     ]
    }
   ],
   "source": [
    "for i, x in search_occupancy.items():\n",
    "    print(i, x)"
   ]
  },
  {
   "cell_type": "code",
   "execution_count": 14,
   "metadata": {},
   "outputs": [],
   "source": [
    "# [Not using this for now]\n",
    "# occupancy pairs [o, o_next] limited by accounting cost\n",
    "max_accounting_cost = target_accounting_cost + 10\n",
    "viable_nd_ndp1 = nd_ndp1_to_account_penality < max_accounting_cost"
   ]
  },
  {
   "cell_type": "code",
   "execution_count": 15,
   "metadata": {},
   "outputs": [
    {
     "data": {
      "text/plain": [
       "4529"
      ]
     },
     "execution_count": 15,
     "metadata": {},
     "output_type": "execute_result"
    }
   ],
   "source": [
    "viable_nd_ndp1[N_min_people:N_max_people+1, N_min_people:N_max_people+1].sum()"
   ]
  },
  {
   "cell_type": "code",
   "execution_count": 16,
   "metadata": {},
   "outputs": [
    {
     "data": {
      "text/plain": [
       "(125, 300)"
      ]
     },
     "execution_count": 16,
     "metadata": {},
     "output_type": "execute_result"
    },
    {
     "data": {
      "image/png": "[encoded data removed]",
      "text/plain": [
       "<Figure size 432x288 with 1 Axes>"
      ]
     },
     "metadata": {
      "needs_background": "light"
     },
     "output_type": "display_data"
    }
   ],
   "source": [
    "plt.imshow(viable_nd_ndp1, cmap='hot', interpolation='nearest')\n",
    "plt.xlim(N_min_people, N_max_people)\n",
    "plt.ylim(N_min_people, N_max_people)"
   ]
  },
  {
   "cell_type": "code",
   "execution_count": 17,
   "metadata": {},
   "outputs": [
    {
     "name": "stdout",
     "output_type": "stream",
     "text": [
      "Limit family choice rank: 11 -> 7\n"
     ]
    }
   ],
   "source": [
    "# Possible choice for the family\n",
    "# last choice is any day that is not on the family's preferred days\n",
    "N_choices_ori = family_id_choice_to_pref_cost.shape[1]\n",
    "N_choices = min(N_choices_ori, max_family_rank)\n",
    "print('Limit family choice rank:', N_choices_ori, '->', N_choices)"
   ]
  },
  {
   "cell_type": "code",
   "execution_count": 18,
   "metadata": {},
   "outputs": [
    {
     "data": {
      "text/plain": [
       "array([[  0,  50,  86, ..., 236, 272, 372],\n",
       "       [  0,  50,  86, ..., 236, 272, 372],\n",
       "       [  0,  50,  77, ..., 227, 254, 354],\n",
       "       ...,\n",
       "       [  0,  50, 104, ..., 254, 308, 408],\n",
       "       [  0,  50,  95, ..., 245, 290, 390],\n",
       "       [  0,  50,  86, ..., 236, 272, 372]])"
      ]
     },
     "execution_count": 18,
     "metadata": {},
     "output_type": "execute_result"
    }
   ],
   "source": [
    "family_id_choice_to_pref_cost[:, :N_choices]"
   ]
  },
  {
   "cell_type": "markdown",
   "metadata": {},
   "source": [
    "## DOCplex model"
   ]
  },
  {
   "cell_type": "code",
   "execution_count": 19,
   "metadata": {},
   "outputs": [],
   "source": [
    "from docplex.mp.model import Model"
   ]
  },
  {
   "cell_type": "code",
   "execution_count": 20,
   "metadata": {},
   "outputs": [],
   "source": [
    "solver = Model('')"
   ]
  },
  {
   "cell_type": "code",
   "execution_count": 21,
   "metadata": {},
   "outputs": [
    {
     "name": "stdout",
     "output_type": "stream",
     "text": [
      "Set num threads: 6\n",
      "Num treads: threads:int(6)\n",
      "Set time limit: None\n"
     ]
    }
   ],
   "source": [
    "if num_cpu_cores > 0:\n",
    "    solver.context.cplex_parameters.threads = num_cpu_cores\n",
    "    print('Set num threads:', num_cpu_cores)\n",
    "print('Num treads:', solver.context.cplex_parameters.threads)\n",
    "if time_limit > 0:\n",
    "    print('Set time limit:', solver.set_time_limit(time_limit))"
   ]
  },
  {
   "cell_type": "code",
   "execution_count": 22,
   "metadata": {},
   "outputs": [],
   "source": [
    "solver.parameters.mip.tolerances.mipgap = 0  # set mip gap to 0"
   ]
  },
  {
   "cell_type": "markdown",
   "metadata": {},
   "source": [
    "## Variables"
   ]
  },
  {
   "cell_type": "code",
   "execution_count": 23,
   "metadata": {},
   "outputs": [],
   "source": [
    "# Variables\n",
    "# assignment matrix[family, pref_rank]\n",
    "assignment_matrix = solver.binary_var_matrix(families, range(N_choices), 'x')"
   ]
  },
  {
   "cell_type": "code",
   "execution_count": 24,
   "metadata": {},
   "outputs": [
    {
     "data": {
      "text/plain": [
       "35000"
      ]
     },
     "execution_count": 24,
     "metadata": {},
     "output_type": "execute_result"
    }
   ],
   "source": [
    "len(assignment_matrix)"
   ]
  },
  {
   "cell_type": "code",
   "execution_count": 25,
   "metadata": {},
   "outputs": [],
   "source": [
    "possible_family_sizes = np.unique(n_people)"
   ]
  },
  {
   "cell_type": "code",
   "execution_count": 26,
   "metadata": {
    "code_folding": []
   },
   "outputs": [],
   "source": [
    "# unpreferred_day_counts[day, size]\n",
    "if N_choices_ori <= N_choices:\n",
    "    print('using unpreferred day counts')\n",
    "    ub = int(N_max_people / possible_family_sizes.min())\n",
    "    unpreferred_day_counts = solver.integer_var_matrix(days, possible_family_sizes, lb=0, ub=ub, name='d')\n",
    "    print(len(unpreferred_day_counts))    "
   ]
  },
  {
   "cell_type": "code",
   "execution_count": 27,
   "metadata": {},
   "outputs": [],
   "source": [
    "# Occupancy matrix [day, N_d, N_d+1]\n",
    "occupancy_keys_list = []\n",
    "for day in days:\n",
    "    if day < N_days:\n",
    "        for o in search_occupancy[day]:\n",
    "            for o_next in search_occupancy[day + 1]:\n",
    "                #if viable_nd_ndp1[o, o_next]:\n",
    "                occupancy_keys_list.append((day, o, o_next))\n",
    "    else:\n",
    "        # last day\n",
    "        for o in search_occupancy[day]:\n",
    "            occupancy_keys_list.append((day, o))\n",
    "occupancy_matrix = solver.binary_var_dict(occupancy_keys_list, name='o')"
   ]
  },
  {
   "cell_type": "code",
   "execution_count": 28,
   "metadata": {},
   "outputs": [
    {
     "data": {
      "text/plain": [
       "range(125, 176)"
      ]
     },
     "execution_count": 28,
     "metadata": {},
     "output_type": "execute_result"
    }
   ],
   "source": [
    "search_occupancy[N_days]"
   ]
  },
  {
   "cell_type": "code",
   "execution_count": 29,
   "metadata": {},
   "outputs": [
    {
     "data": {
      "text/plain": [
       "692065"
      ]
     },
     "execution_count": 29,
     "metadata": {},
     "output_type": "execute_result"
    }
   ],
   "source": [
    "len(occupancy_matrix)"
   ]
  },
  {
   "cell_type": "markdown",
   "metadata": {},
   "source": [
    "## Constraints"
   ]
  },
  {
   "cell_type": "markdown",
   "metadata": {},
   "source": [
    "### constraint 1: each family only take one day (choice)"
   ]
  },
  {
   "cell_type": "code",
   "execution_count": 30,
   "metadata": {},
   "outputs": [],
   "source": [
    "# Constraints\n",
    "# constraint 1: each family only take one day (choice)\n",
    "solver.add_constraints_([\n",
    "    solver.sum([assignment_matrix[family, c] for c in range(N_choices)]) == 1 \n",
    "    for family in families\n",
    "])"
   ]
  },
  {
   "cell_type": "markdown",
   "metadata": {},
   "source": [
    "### constraint: choices limit"
   ]
  },
  {
   "cell_type": "code",
   "execution_count": 31,
   "metadata": {},
   "outputs": [],
   "source": [
    "if min_choice_0_families > 0:\n",
    "    solver.add_constraint_(\n",
    "        solver.sum([assignment_matrix[family, 0] for family in families]) >= min_choice_0_families\n",
    "    )"
   ]
  },
  {
   "cell_type": "markdown",
   "metadata": {},
   "source": [
    "### occupancy counts"
   ]
  },
  {
   "cell_type": "code",
   "execution_count": 32,
   "metadata": {},
   "outputs": [],
   "source": [
    "# constraint 2: each day can only have 125-300 people"
   ]
  },
  {
   "cell_type": "code",
   "execution_count": 33,
   "metadata": {},
   "outputs": [
    {
     "data": {
      "text/plain": [
       "7"
      ]
     },
     "execution_count": 33,
     "metadata": {},
     "output_type": "execute_result"
    }
   ],
   "source": [
    "N_family_pref = min(N_choices, N_choices_ori - 1)\n",
    "N_family_pref"
   ]
  },
  {
   "cell_type": "code",
   "execution_count": 34,
   "metadata": {},
   "outputs": [],
   "source": [
    "# day to dictionary of families who choose this day with value as preference rank\n",
    "days_family_prefered = [{} for day in range(N_days+1)]  # day = 0 should not be used"
   ]
  },
  {
   "cell_type": "code",
   "execution_count": 35,
   "metadata": {},
   "outputs": [],
   "source": [
    "for family, pref in enumerate(family_pref):\n",
    "    for rank, day in enumerate(pref):\n",
    "        if rank < N_family_pref:\n",
    "            days_family_prefered[day][family] = rank"
   ]
  },
  {
   "cell_type": "code",
   "execution_count": 36,
   "metadata": {},
   "outputs": [],
   "source": [
    "# occupancy count [intermediate variables]\n",
    "\n",
    "if occupancy_count_as_variables:\n",
    "    lbs = [min(search_occupancy[day]) for day in days]\n",
    "    ubs = [max(search_occupancy[day]) for day in days]\n",
    "    occupancy_counts = solver.integer_var_dict(days, lb=lbs, ub=ubs, name='oc')\n",
    "    \n",
    "    for day in days:\n",
    "        # find those family who like this day\n",
    "        family_prefered = days_family_prefered[day]\n",
    "        solver.add_constraint_(\n",
    "            occupancy_counts[day] == (\n",
    "                solver.sum(\n",
    "                    [assignment_matrix[family, pref_rank] * n_people[family] \n",
    "                     for family, pref_rank in family_prefered.items()]\n",
    "                ) + (\n",
    "                    solver.sum(\n",
    "                        [unpreferred_day_counts[day, size] * size for size in possible_family_sizes]\n",
    "                    ) if N_choices >= N_choices_ori else 0\n",
    "                )\n",
    "            )\n",
    "        )\n",
    "else:\n",
    "    occupancy_counts = {}\n",
    "    for day in days:\n",
    "        # find those family who like this day\n",
    "        family_prefered = days_family_prefered[day]\n",
    "        occupancy_counts[day] = (\n",
    "            solver.sum(\n",
    "                [assignment_matrix[family, pref_rank] * n_people[family] \n",
    "                 for family, pref_rank in family_prefered.items()]\n",
    "            ) + (\n",
    "                solver.sum(\n",
    "                    [unpreferred_day_counts[day, size] * size for size in possible_family_sizes]\n",
    "                ) if N_choices >= N_choices_ori else 0\n",
    "            )\n",
    "        )"
   ]
  },
  {
   "cell_type": "code",
   "execution_count": 37,
   "metadata": {},
   "outputs": [],
   "source": [
    "# for day in days:\n",
    "#     # find those family who like this day\n",
    "#     solver.Add(occupancy_counts[day] <= N_max_people, 'ub[%i]' % day)\n",
    "#     solver.Add(occupancy_counts[day] >= N_min_people, 'ub[%i]' % day)"
   ]
  },
  {
   "cell_type": "markdown",
   "metadata": {},
   "source": [
    "### constraint 3: unpreferred day family count conservation for each family size"
   ]
  },
  {
   "cell_type": "code",
   "execution_count": 38,
   "metadata": {},
   "outputs": [],
   "source": [
    "# constraint 3: unpreferred day family count conservation for each family size"
   ]
  },
  {
   "cell_type": "code",
   "execution_count": 39,
   "metadata": {},
   "outputs": [],
   "source": [
    "family_size_to_family_ids = {\n",
    "    size: np.where(n_people == size)[0] for size in possible_family_sizes\n",
    "}"
   ]
  },
  {
   "cell_type": "code",
   "execution_count": 40,
   "metadata": {},
   "outputs": [],
   "source": [
    "if N_choices >= N_choices_ori:\n",
    "    solver.add_constraints_([\n",
    "        solver.sum([assignment_matrix[family, N_choices - 1]\n",
    "                    for family in family_size_to_family_ids[size]])\n",
    "        == solver.sum([unpreferred_day_counts[day, size] for day in days])\n",
    "        for size in possible_family_sizes\n",
    "    ])"
   ]
  },
  {
   "cell_type": "markdown",
   "metadata": {},
   "source": [
    "### Occupancy boolean matrix normalization"
   ]
  },
  {
   "cell_type": "code",
   "execution_count": 41,
   "metadata": {},
   "outputs": [],
   "source": [
    "# occupancy boolean matrix normalization\n",
    "# each day only take 1 occupancy value\n",
    "for day in days:\n",
    "    if day < N_days:\n",
    "        occupancy_normalization = solver.sum([\n",
    "            occupancy_matrix[day, o, o_next] \n",
    "            for o in search_occupancy[day]\n",
    "            for o_next in search_occupancy[day + 1]\n",
    "        ])\n",
    "    else:\n",
    "        occupancy_normalization = solver.sum([\n",
    "            occupancy_matrix[day, o] \n",
    "            for o in search_occupancy[day]\n",
    "        ])\n",
    "    solver.add_constraint_(occupancy_normalization == 1)"
   ]
  },
  {
   "cell_type": "markdown",
   "metadata": {},
   "source": [
    "### constrain 4: link occupancy boolean matrix to occupancy count"
   ]
  },
  {
   "cell_type": "code",
   "execution_count": 42,
   "metadata": {},
   "outputs": [],
   "source": [
    "for day in days:\n",
    "    if day < N_days:\n",
    "        sum_from_occupancy_matrix = solver.sum([\n",
    "            occupancy_matrix[day, o, o_next] * o for o in search_occupancy[day]\n",
    "            for o_next in search_occupancy[day + 1]\n",
    "        ])\n",
    "    else:\n",
    "        sum_from_occupancy_matrix = solver.sum([\n",
    "            occupancy_matrix[day, o] * o for o in search_occupancy[day]\n",
    "        ])\n",
    "    solver.add_constraint_(occupancy_counts[day] == sum_from_occupancy_matrix)"
   ]
  },
  {
   "cell_type": "code",
   "execution_count": 43,
   "metadata": {
    "code_folding": [
     10
    ]
   },
   "outputs": [],
   "source": [
    "# next day occupancy consistency\n",
    "if True:\n",
    "    # Approach 1: (faster)\n",
    "    solver.add_constraints_([\n",
    "        occupancy_counts[day + 1] == solver.sum([\n",
    "            occupancy_matrix[day, o, o_next] * o_next for o in search_occupancy[day]\n",
    "            for o_next in search_occupancy[day + 1]\n",
    "        ])\n",
    "        for day in days if day < N_days\n",
    "    ])\n",
    "else:\n",
    "    # Approach 2: (much slower)\n",
    "    for day in days:\n",
    "        if day + 1 < N_days:\n",
    "            for o in search_occupancy[day+1]:\n",
    "                solver.add_constraint_(\n",
    "                    solver.sum(\n",
    "                        [occupancy_matrix[day, o_other, o] for o_other in search_occupancy[day]]\n",
    "                    ) == solver.sum(\n",
    "                        [occupancy_matrix[day + 1, o, o_other] for o_other in search_occupancy[day+2]]\n",
    "                    )\n",
    "                )\n",
    "    for o in search_occupancy[N_days]:\n",
    "        solver.add_constraint_(\n",
    "            solver.sum(\n",
    "                [occupancy_matrix[N_days - 1, o_other, o] for o_other in search_occupancy[N_days - 1]]\n",
    "            ) == occupancy_matrix[N_days, o]\n",
    "        )"
   ]
  },
  {
   "cell_type": "markdown",
   "metadata": {},
   "source": [
    "### Preference cost"
   ]
  },
  {
   "cell_type": "code",
   "execution_count": 44,
   "metadata": {},
   "outputs": [],
   "source": [
    "family_pref_cost = solver.sum([\n",
    "    assignment_matrix[family, c] * family_id_choice_to_pref_cost[family, c]\n",
    "    for family in families for c in range(N_choices)\n",
    "])"
   ]
  },
  {
   "cell_type": "code",
   "execution_count": 45,
   "metadata": {},
   "outputs": [],
   "source": [
    "if target_pref_cost > 0:\n",
    "    if target_pref_cost_error > 0:\n",
    "        solver.add_constraints_([\n",
    "            family_pref_cost <= target_pref_cost + target_pref_cost_error,\n",
    "            family_pref_cost >= target_pref_cost - target_pref_cost_error\n",
    "        ])\n",
    "    else:\n",
    "        solver.add_constraint_(family_pref_cost == target_pref_cost)"
   ]
  },
  {
   "cell_type": "markdown",
   "metadata": {},
   "source": [
    "for i, (x, y) in enumerate(family_pref_cost.GetCoeffs().items()):\n",
    "    if i >= 5: \n",
    "        break\n",
    "    print(type(x), x, y)"
   ]
  },
  {
   "cell_type": "markdown",
   "metadata": {},
   "source": [
    "family_pref_cost.GetCoeffs()[assignment_matrix[0, 1]]"
   ]
  },
  {
   "cell_type": "markdown",
   "metadata": {},
   "source": [
    "### Accounting cost"
   ]
  },
  {
   "cell_type": "code",
   "execution_count": 46,
   "metadata": {},
   "outputs": [],
   "source": [
    "accounting_cost = (\n",
    "    solver.sum([\n",
    "        occupancy_matrix[day, o, o_next] * nd_ndp1_to_account_penality[o, o_next]\n",
    "        for day in days if day < N_days\n",
    "        for o in search_occupancy[day] for o_next in search_occupancy[day + 1]\n",
    "    ]) +\n",
    "    solver.sum([\n",
    "        occupancy_matrix[N_days, o] * nd_ndp1_to_account_penality[o, o]\n",
    "        for o in search_occupancy[N_days]\n",
    "    ])\n",
    ")"
   ]
  },
  {
   "cell_type": "code",
   "execution_count": 47,
   "metadata": {},
   "outputs": [],
   "source": [
    "if target_accounting_cost > 0:\n",
    "    solver.add_constraints_([\n",
    "        accounting_cost <= target_accounting_cost + target_accounting_cost_error,\n",
    "        accounting_cost >= target_accounting_cost - target_accounting_cost_error\n",
    "    ])"
   ]
  },
  {
   "cell_type": "code",
   "execution_count": 48,
   "metadata": {},
   "outputs": [],
   "source": [
    "#accounting_cost.GetCoeffs()[occupancy_matrix[100, 128]]"
   ]
  },
  {
   "cell_type": "markdown",
   "metadata": {},
   "source": [
    "## Objective"
   ]
  },
  {
   "cell_type": "code",
   "execution_count": 49,
   "metadata": {},
   "outputs": [],
   "source": [
    "# Objective - Preference cost only as approximation\n",
    "solver.minimize(family_pref_cost + accounting_cost)  # family_pref_cost + "
   ]
  },
  {
   "cell_type": "markdown",
   "metadata": {},
   "source": [
    "## Hint"
   ]
  },
  {
   "cell_type": "code",
   "execution_count": 50,
   "metadata": {},
   "outputs": [
    {
     "name": "stdout",
     "output_type": "stream",
     "text": [
      "Using hint!\n"
     ]
    }
   ],
   "source": [
    "if use_hint:\n",
    "    print('Using hint!')\n",
    "\n",
    "    from docplex.mp.solution import SolveSolution\n",
    "    var_value_map = {}\n",
    "    \n",
    "    for family in families:\n",
    "        for c in range(N_choices):\n",
    "            var_value_map[assignment_matrix[family, c]] = float(\n",
    "                assigned_day[family] == family_pref[family, c]\n",
    "            )\n",
    "    for day in days:\n",
    "        if day < N_days:\n",
    "            for o in search_occupancy[day]:\n",
    "                for o_next in search_occupancy[day + 1]:\n",
    "                    var_value_map[occupancy_matrix[day, o, o_next]] = float(\n",
    "                        (occupancy[day] == o) and (occupancy[day + 1] == o_next)\n",
    "                    )\n",
    "    for o in search_occupancy[N_days]:\n",
    "        var_value_map[occupancy_matrix[N_days, o]] = float(occupancy[N_days] == o)\n",
    "\n",
    "    if occupancy_count_as_variables:\n",
    "        for day in days:\n",
    "            var_value_map[occupancy_counts[day]] = float(occupancy[day])\n",
    "    \n",
    "    init_solution = SolveSolution(solver, var_value_map)\n",
    "    solver.add_mip_start(init_solution)\n",
    "    \n",
    "#     solver.SetHint(\n",
    "#         [assignment_matrix[family, c] for family in families for c in range(N_choices)] +\n",
    "#         [\n",
    "#             occupancy_matrix[day, o, o_next] \n",
    "#             for day in days if day < N_days\n",
    "#             for o in search_occupancy[day] for o_next in search_occupancy[day + 1]\n",
    "#         ] +\n",
    "#         [\n",
    "#             occupancy_matrix[N_days, o] for o in search_occupancy[N_days]\n",
    "#         ] +\n",
    "#         [\n",
    "#             occupancy_counts[day] for day in days\n",
    "#         ] if occupancy_count_as_variables else []\n",
    "#         ,\n",
    "#         [\n",
    "#             float(assigned_day[family] == family_pref[family, c]) \n",
    "#             for family in families for c in range(N_choices)\n",
    "#         ] +\n",
    "#         [\n",
    "#             float((occupancy[day] == o) and (occupancy[day + 1] == o_next))\n",
    "#             for day in days if day < N_days\n",
    "#             for o in search_occupancy[day] for o_next in search_occupancy[day + 1]\n",
    "#         ] +\n",
    "#         [\n",
    "#             float(occupancy[N_days] == o) for o in search_occupancy[N_days]\n",
    "#         ] +\n",
    "#         [\n",
    "#             float(occupancy[day]) for day in days\n",
    "#         ] if occupancy_count_as_variables else []\n",
    "#     )"
   ]
  },
  {
   "cell_type": "markdown",
   "metadata": {},
   "source": [
    "## Solve"
   ]
  },
  {
   "cell_type": "code",
   "execution_count": 51,
   "metadata": {},
   "outputs": [],
   "source": [
    "from docplex.mp.progress import TextProgressListener\n",
    "from docplex.mp.progress import ProgressClock"
   ]
  },
  {
   "cell_type": "code",
   "execution_count": 52,
   "metadata": {},
   "outputs": [],
   "source": [
    "solver.add_progress_listener(TextProgressListener(clock=ProgressClock.Gap))  # clock=ProgressClock.Objective, absdiff=10"
   ]
  },
  {
   "cell_type": "code",
   "execution_count": 53,
   "metadata": {},
   "outputs": [
    {
     "data": {
      "text/plain": [
       "120.0"
      ]
     },
     "execution_count": 53,
     "metadata": {},
     "output_type": "execute_result"
    }
   ],
   "source": [
    "solver.get_time_limit()"
   ]
  },
  {
   "cell_type": "code",
   "execution_count": 54,
   "metadata": {},
   "outputs": [
    {
     "name": "stdout",
     "output_type": "stream",
     "text": [
      "N of variables (binary, int): 727165 ( 727065 , 100 )\n",
      "N of constraints: 5400\n"
     ]
    }
   ],
   "source": [
    "print('N of variables (binary, int):', solver.number_of_variables, \n",
    "      '(', solver.number_of_binary_variables, ',', solver.number_of_integer_variables, ')')\n",
    "print('N of constraints:', solver.number_of_constraints)"
   ]
  },
  {
   "cell_type": "code",
   "execution_count": 55,
   "metadata": {
    "scrolled": true
   },
   "outputs": [
    {
     "name": "stdout",
     "output_type": "stream",
     "text": [
      "  1+: Node=0 Left=1 Best Integer=70901.1684, Best Bound=69733.6269, gap=1.65%, ItCnt=8399 [20.1s]\n",
      "  2+: Node=0 Left=1 Best Integer=70901.1684, Best Bound=70184.1348, gap=1.01%, ItCnt=9485 [50.1s]\n",
      "  3+: Node=0 Left=1 Best Integer=70901.1684, Best Bound=70242.8516, gap=0.93%, ItCnt=11309 [88.5s]\n",
      "  4+: Node=0 Left=1 Best Integer=70901.1684, Best Bound=70254.3656, gap=0.91%, ItCnt=11395 [120.7s]\n",
      "Solution status: JobSolveStatus.FEASIBLE_SOLUTION\n",
      "Total cost: 70901.16843914893 70901.16843914893\n",
      "Time: 122.524 s\n",
      "CPU times: user 4min 36s, sys: 8.32 s, total: 4min 44s\n",
      "Wall time: 2min 3s\n"
     ]
    }
   ],
   "source": [
    "%%time\n",
    "# Solve\n",
    "sol = solver.solve()\n",
    "\n",
    "print('Solution status:', solver.get_solve_status())\n",
    "print('Total cost:', sol.objective_value, sol.get_objective_value())\n",
    "print(\"Time:\", '%.3f' % solver.get_solve_details().time, \"s\")"
   ]
  },
  {
   "cell_type": "markdown",
   "metadata": {},
   "source": [
    "## Solution"
   ]
  },
  {
   "cell_type": "code",
   "execution_count": 56,
   "metadata": {},
   "outputs": [],
   "source": [
    "assigned_day_new_raw = np.ones(assigned_day.shape, dtype='int32') * -1\n",
    "for family, choice in sol.get_value_dict(assignment_matrix, keep_zeros=False):\n",
    "    assigned_day_new_raw[family] = family_pref[family, choice] if choice < N_family_pref else -1"
   ]
  },
  {
   "cell_type": "code",
   "execution_count": 57,
   "metadata": {},
   "outputs": [
    {
     "data": {
      "text/plain": [
       "array([ 52,  26, 100, ...,  32,  92,  13], dtype=int32)"
      ]
     },
     "execution_count": 57,
     "metadata": {},
     "output_type": "execute_result"
    }
   ],
   "source": [
    "assigned_day_new_raw"
   ]
  },
  {
   "cell_type": "code",
   "execution_count": 58,
   "metadata": {},
   "outputs": [],
   "source": [
    "if N_choices >= N_choices_ori:\n",
    "    unpreferred_day_counts_sol_dict = sol.get_value_dict(unpreferred_day_counts)\n",
    "    unpreferred_day_counts_sol = {\n",
    "        size: [0]+[int(unpreferred_day_counts_sol_dict[day, size]) for day in days]\n",
    "        for size in possible_family_sizes\n",
    "    }\n",
    "\n",
    "    print('Unpreferred families slots:')\n",
    "    {size: sum(counts) for size, counts in unpreferred_day_counts_sol.items()}"
   ]
  },
  {
   "cell_type": "code",
   "execution_count": 59,
   "metadata": {},
   "outputs": [],
   "source": [
    "def distribute_unpreferred_day(assigned_day, unpreferred_day_counts_sol, n_people):\n",
    "    \"\"\" Distribute unpreferred day to each family who has -1 day assigned \"\"\"\n",
    "    assigned_day = assigned_day.copy()\n",
    "    unpreferred_days = {size: [] for size in possible_family_sizes}\n",
    "    for size in possible_family_sizes:\n",
    "        for day, quota in enumerate(unpreferred_day_counts_sol[size]):\n",
    "            unpreferred_days[size] = unpreferred_days[size] + [day] * quota\n",
    "    unpreferred_day_headers = {size: 0 for size in possible_family_sizes}\n",
    "    for family, (day, size) in enumerate(zip(assigned_day, n_people)):\n",
    "        if day == -1:\n",
    "            assigned_day[family] = unpreferred_days[size][unpreferred_day_headers[size]]\n",
    "            unpreferred_day_headers[size] += 1\n",
    "    return assigned_day"
   ]
  },
  {
   "cell_type": "code",
   "execution_count": 60,
   "metadata": {},
   "outputs": [],
   "source": [
    "if N_choices >= N_choices_ori:\n",
    "    assigned_day_new = distribute_unpreferred_day(assigned_day_new_raw, unpreferred_day_counts_sol, n_people)\n",
    "else:\n",
    "    assigned_day_new = assigned_day_new_raw"
   ]
  },
  {
   "cell_type": "code",
   "execution_count": 61,
   "metadata": {},
   "outputs": [
    {
     "name": "stdout",
     "output_type": "stream",
     "text": [
      "N family unpreferred assigned: 0\n"
     ]
    }
   ],
   "source": [
    "print('N family unpreferred assigned:', (~(assigned_day_new == assigned_day_new_raw)).sum())"
   ]
  },
  {
   "cell_type": "code",
   "execution_count": 62,
   "metadata": {},
   "outputs": [],
   "source": [
    "family_on_day_new = assigned_day_to_family_on_day(assigned_day_new)\n",
    "occupancy_new = assigned_day_to_occupancy(assigned_day_new)"
   ]
  },
  {
   "cell_type": "code",
   "execution_count": 63,
   "metadata": {},
   "outputs": [
    {
     "name": "stdout",
     "output_type": "stream",
     "text": [
      "deep check: everything looks fine.\n",
      "Valid solution:  True\n",
      "Total score:     70901.16843914894 ( 0.0 )\n",
      "Preference cost: 65596\n",
      "Accounting cost: 5305.168439148937\n"
     ]
    }
   ],
   "source": [
    "try:\n",
    "    is_valid = deep_check(assigned_day_new, family_on_day_new, occupancy_new)\n",
    "except:\n",
    "    is_valid = False\n",
    "new_score = cal_total(assigned_day_new, occupancy_new)\n",
    "print('Valid solution: ', is_valid)\n",
    "print('Total score:    ', new_score, '(', new_score - initial_score, ')')\n",
    "print('Preference cost:', cal_total_preference(assigned_day_new))\n",
    "print('Accounting cost:', cal_total_accounting(occupancy_new))"
   ]
  },
  {
   "cell_type": "markdown",
   "metadata": {},
   "source": [
    "## Output"
   ]
  },
  {
   "cell_type": "code",
   "execution_count": 64,
   "metadata": {},
   "outputs": [],
   "source": [
    "is_improved = new_score < initial_score\n",
    "if is_valid and (is_improved or (path_dump_improved != path_init_conf)):\n",
    "    print('output to', path_dump_improved)\n",
    "    dump_conf(assigned_day_new, path_dump_improved)"
   ]
  },
  {
   "cell_type": "markdown",
   "metadata": {},
   "source": [
    "## Debug"
   ]
  },
  {
   "cell_type": "code",
   "execution_count": 65,
   "metadata": {},
   "outputs": [],
   "source": [
    "# [\n",
    "#     [assignment_matrix[family, c].solution_value() for c in range(N_choices)]\n",
    "#     for family in range(10)\n",
    "# ]        "
   ]
  },
  {
   "cell_type": "code",
   "execution_count": 66,
   "metadata": {},
   "outputs": [],
   "source": [
    "# if N_choices >= N_choices_ori:\n",
    "#     print([\n",
    "#         [unpreferred_day_counts[day, size].solution_value() for size in possible_family_sizes]\n",
    "#         for day in range(1, 10)\n",
    "#     ])"
   ]
  },
  {
   "cell_type": "code",
   "execution_count": null,
   "metadata": {},
   "outputs": [],
   "source": []
  }
 ],
 "metadata": {
  "kernelspec": {
   "display_name": "Python 3",
   "language": "python",
   "name": "python3"
  },
  "language_info": {
   "codemirror_mode": {
    "name": "ipython",
    "version": 3
   },
   "file_extension": ".py",
   "mimetype": "text/x-python",
   "name": "python",
   "nbconvert_exporter": "python",
   "pygments_lexer": "ipython3",
   "version": "3.6.6"
  },
  "toc": {
   "base_numbering": 1,
   "nav_menu": {},
   "number_sections": true,
   "sideBar": true,
   "skip_h1_title": true,
   "title_cell": "Table of Contents",
   "title_sidebar": "Contents",
   "toc_cell": false,
   "toc_position": {
    "height": "calc(100% - 180px)",
    "left": "10px",
    "top": "150px",
    "width": "165px"
   },
   "toc_section_display": true,
   "toc_window_display": true
  }
 },
 "nbformat": 4,
 "nbformat_minor": 2
}
