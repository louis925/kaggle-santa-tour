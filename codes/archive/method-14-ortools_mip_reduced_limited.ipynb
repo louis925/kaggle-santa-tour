{
 "cells": [
  {
   "cell_type": "code",
   "execution_count": 137,
   "metadata": {},
   "outputs": [],
   "source": [
    "import numpy as np\n",
    "import pandas as pd\n",
    "import matplotlib.pyplot as plt\n",
    "\n",
    "from util_io import (\n",
    "    init, finalize, dump_conf, assigned_day_to_family_on_day, assigned_day_to_occupancy\n",
    ")\n",
    "from util_cost import (\n",
    "    cal_total, n_people, family_id_choice_to_pref_cost, cal_total_preference, cal_total_accounting,\n",
    "    nd_ndp1_to_account_penality\n",
    ")\n",
    "from util_cost import choices as family_pref\n",
    "from util_check import deep_check, check_valid_all"
   ]
  },
  {
   "cell_type": "code",
   "execution_count": 138,
   "metadata": {},
   "outputs": [],
   "source": [
    "# constants #\n",
    "N_families = 5000\n",
    "N_days = 100\n",
    "N_min_people = 125\n",
    "N_max_people = 300\n",
    "# constants #\n",
    "\n",
    "# params #\n",
    "#path_init_conf =     '../output/m08-improved-test.csv'\n",
    "path_init_conf =     '../input/another_pytorch_implementation.csv'\n",
    "path_dump_improved = '../output/m14-improved.csv' # output solution\n",
    "\n",
    "num_cpu_cores = 6\n",
    "#time_limit = -1 # unlimited\n",
    "time_limit = 50*60*60*1000  # in ms\n",
    "\n",
    "occupancy_diff = 2  # +- the occupancy of input solution for each day\n",
    "max_family_rank = 5  # maximum number of rank of the preference days for each family\n",
    "use_hint = True      # use current input as hint\n",
    "occupancy_count_as_variables = False  # use occupancy_counts as variable"
   ]
  },
  {
   "cell_type": "code",
   "execution_count": 139,
   "metadata": {
    "scrolled": true
   },
   "outputs": [
    {
     "name": "stdout",
     "output_type": "stream",
     "text": [
      "Read initial configs...\n",
      "Read config completed.\n",
      "Init config:\n",
      "deep check: everything looks fine.\n",
      "Valid solution:  True\n",
      "Total score:     71252.41958450396\n",
      "Preference cost: 65785\n",
      "Accounting cost: 5467.419584503968\n"
     ]
    }
   ],
   "source": [
    "assigned_day, family_on_day, occupancy = init(path_conf=path_init_conf)\n",
    "print('Init config:')\n",
    "try:\n",
    "    is_valid = deep_check(assigned_day, family_on_day, occupancy)\n",
    "except:\n",
    "    is_valid = False\n",
    "print('Valid solution: ', is_valid)\n",
    "print('Total score:    ', cal_total(assigned_day, occupancy))\n",
    "print('Preference cost:', cal_total_preference(assigned_day))\n",
    "print('Accounting cost:', cal_total_accounting(occupancy))"
   ]
  },
  {
   "cell_type": "code",
   "execution_count": 140,
   "metadata": {},
   "outputs": [],
   "source": [
    "max_accounting_cost = 7000"
   ]
  },
  {
   "cell_type": "markdown",
   "metadata": {},
   "source": [
    "## Setup"
   ]
  },
  {
   "cell_type": "code",
   "execution_count": 141,
   "metadata": {},
   "outputs": [],
   "source": [
    "families = range(N_families)\n",
    "days = range(1, N_days + 1)"
   ]
  },
  {
   "cell_type": "code",
   "execution_count": 142,
   "metadata": {},
   "outputs": [],
   "source": [
    "allowed_occupancy = range(N_min_people, N_max_people + 1)"
   ]
  },
  {
   "cell_type": "code",
   "execution_count": 143,
   "metadata": {},
   "outputs": [],
   "source": [
    "# limit the occupancy choice to +- occupancy_diff of current solution\n",
    "search_occupancy = {}\n",
    "for day in days:\n",
    "    search_occupancy[day] = range(max(occupancy[day] - occupancy_diff, N_min_people), \n",
    "                                  min(occupancy[day] + occupancy_diff, N_max_people) + 1)"
   ]
  },
  {
   "cell_type": "code",
   "execution_count": 144,
   "metadata": {},
   "outputs": [],
   "source": [
    "# [Not using this for now]\n",
    "# occupancy pairs [o, o_next] limited by accounting cost\n",
    "viable_nd_ndp1 = nd_ndp1_to_account_penality < max_accounting_cost"
   ]
  },
  {
   "cell_type": "code",
   "execution_count": 145,
   "metadata": {},
   "outputs": [
    {
     "data": {
      "text/plain": [
       "(125, 300)"
      ]
     },
     "execution_count": 145,
     "metadata": {},
     "output_type": "execute_result"
    },
    {
     "data": {
      "image/png": "[encoded data removed]",
      "text/plain": [
       "<Figure size 432x288 with 1 Axes>"
      ]
     },
     "metadata": {
      "needs_background": "light"
     },
     "output_type": "display_data"
    }
   ],
   "source": [
    "plt.imshow(viable_nd_ndp1, cmap='hot', interpolation='nearest')\n",
    "plt.xlim(N_min_people, N_max_people)\n",
    "plt.ylim(N_min_people, N_max_people)"
   ]
  },
  {
   "cell_type": "code",
   "execution_count": 146,
   "metadata": {},
   "outputs": [
    {
     "name": "stdout",
     "output_type": "stream",
     "text": [
      "Limit family choice rank: 11 -> 5\n"
     ]
    }
   ],
   "source": [
    "# Possible choice for the family\n",
    "# last choice is any day that is not on the family's preferred days\n",
    "N_choices_ori = family_id_choice_to_pref_cost.shape[1]\n",
    "N_choices = min(N_choices_ori, max_family_rank)\n",
    "print('Limit family choice rank:', N_choices_ori, '->', N_choices)"
   ]
  },
  {
   "cell_type": "code",
   "execution_count": 147,
   "metadata": {},
   "outputs": [
    {
     "data": {
      "text/plain": [
       "array([[  0,  50,  86, 136, 236],\n",
       "       [  0,  50,  86, 136, 236],\n",
       "       [  0,  50,  77, 127, 227],\n",
       "       ...,\n",
       "       [  0,  50, 104, 154, 254],\n",
       "       [  0,  50,  95, 145, 245],\n",
       "       [  0,  50,  86, 136, 236]])"
      ]
     },
     "execution_count": 147,
     "metadata": {},
     "output_type": "execute_result"
    }
   ],
   "source": [
    "family_id_choice_to_pref_cost[:, :N_choices]"
   ]
  },
  {
   "cell_type": "markdown",
   "metadata": {},
   "source": [
    "## Ortools - CBC MIP solver"
   ]
  },
  {
   "cell_type": "code",
   "execution_count": 148,
   "metadata": {},
   "outputs": [],
   "source": [
    "from ortools.linear_solver import pywraplp"
   ]
  },
  {
   "cell_type": "code",
   "execution_count": 149,
   "metadata": {},
   "outputs": [],
   "source": [
    "solver = pywraplp.Solver('', pywraplp.Solver.CBC_MIXED_INTEGER_PROGRAMMING)"
   ]
  },
  {
   "cell_type": "code",
   "execution_count": 150,
   "metadata": {},
   "outputs": [
    {
     "name": "stdout",
     "output_type": "stream",
     "text": [
      "Set num threads: True\n",
      "Set time limit: None\n"
     ]
    }
   ],
   "source": [
    "if num_cpu_cores > 0:\n",
    "    print('Set num threads:', solver.SetNumThreads(num_cpu_cores))\n",
    "if time_limit > 0:\n",
    "    print('Set time limit:', solver.SetTimeLimit(time_limit))"
   ]
  },
  {
   "cell_type": "markdown",
   "metadata": {},
   "source": [
    "## Variables"
   ]
  },
  {
   "cell_type": "code",
   "execution_count": 151,
   "metadata": {},
   "outputs": [],
   "source": [
    "# Variables\n",
    "# assignment matrix[family, pref_rank]\n",
    "assignment_matrix = {}\n",
    "for family in families:\n",
    "    for c in range(N_choices):\n",
    "        assignment_matrix[family, c] = solver.BoolVar('x[%i,%i]' % (family, c))"
   ]
  },
  {
   "cell_type": "code",
   "execution_count": 152,
   "metadata": {},
   "outputs": [
    {
     "data": {
      "text/plain": [
       "25000"
      ]
     },
     "execution_count": 152,
     "metadata": {},
     "output_type": "execute_result"
    }
   ],
   "source": [
    "len(assignment_matrix)"
   ]
  },
  {
   "cell_type": "code",
   "execution_count": 153,
   "metadata": {},
   "outputs": [],
   "source": [
    "possible_family_sizes = np.unique(n_people)"
   ]
  },
  {
   "cell_type": "code",
   "execution_count": 154,
   "metadata": {
    "code_folding": []
   },
   "outputs": [],
   "source": [
    "# unpreferred_day_counts[day, size]\n",
    "if N_choices_ori <= N_choices:\n",
    "    unpreferred_day_counts = {}\n",
    "    for day in days:\n",
    "        for size in possible_family_sizes:\n",
    "            ub = int(N_max_people / size)\n",
    "            unpreferred_day_counts[day, size] = solver.IntVar(0, ub, 'd[%i,%i]' % (day, size))\n",
    "    print(len(unpreferred_day_counts))"
   ]
  },
  {
   "cell_type": "code",
   "execution_count": 155,
   "metadata": {},
   "outputs": [],
   "source": [
    "# Occupancy matrix [day, N_d, N_d+1]\n",
    "occupancy_matrix = {}\n",
    "for day in days:\n",
    "    if day < N_days:\n",
    "        for o in search_occupancy[day]:\n",
    "            for o_next in search_occupancy[day + 1]:\n",
    "                #if viable_nd_ndp1[o, o_next]:\n",
    "                occupancy_matrix[day, o, o_next] = solver.BoolVar('o[%i,%i,%i]' % (day, o, o_next))\n",
    "    else:\n",
    "        # last day\n",
    "        for o in search_occupancy[day]:\n",
    "            occupancy_matrix[day, o] = solver.BoolVar('o[%i,%i]' % (day, o))"
   ]
  },
  {
   "cell_type": "code",
   "execution_count": 156,
   "metadata": {},
   "outputs": [
    {
     "data": {
      "text/plain": [
       "2071"
      ]
     },
     "execution_count": 156,
     "metadata": {},
     "output_type": "execute_result"
    }
   ],
   "source": [
    "len(occupancy_matrix)"
   ]
  },
  {
   "cell_type": "markdown",
   "metadata": {},
   "source": [
    "## Constraints"
   ]
  },
  {
   "cell_type": "markdown",
   "metadata": {},
   "source": [
    "### constraint 1: each family only take one day (choice)"
   ]
  },
  {
   "cell_type": "code",
   "execution_count": 157,
   "metadata": {},
   "outputs": [],
   "source": [
    "# Constraints\n",
    "# constraint 1: each family only take one day (choice)\n",
    "for family in families:\n",
    "    solver.Add(solver.Sum([assignment_matrix[family, c]\n",
    "                           for c in range(N_choices)]) == 1)"
   ]
  },
  {
   "cell_type": "markdown",
   "metadata": {},
   "source": [
    "### occupancy counts"
   ]
  },
  {
   "cell_type": "code",
   "execution_count": 158,
   "metadata": {},
   "outputs": [],
   "source": [
    "# constraint 2: each day can only have 125-300 people"
   ]
  },
  {
   "cell_type": "code",
   "execution_count": 159,
   "metadata": {},
   "outputs": [
    {
     "data": {
      "text/plain": [
       "5"
      ]
     },
     "execution_count": 159,
     "metadata": {},
     "output_type": "execute_result"
    }
   ],
   "source": [
    "N_family_pref = min(N_choices, N_choices_ori - 1)\n",
    "N_family_pref"
   ]
  },
  {
   "cell_type": "code",
   "execution_count": 160,
   "metadata": {},
   "outputs": [],
   "source": [
    "# day to dictionary of families who choose this day with value as preference rank\n",
    "days_family_prefered = [{} for day in range(N_days+1)]  # day = 0 should not be used"
   ]
  },
  {
   "cell_type": "code",
   "execution_count": 161,
   "metadata": {},
   "outputs": [],
   "source": [
    "for family, pref in enumerate(family_pref):\n",
    "    for rank, day in enumerate(pref):\n",
    "        if rank < N_family_pref:\n",
    "            days_family_prefered[day][family] = rank"
   ]
  },
  {
   "cell_type": "code",
   "execution_count": 162,
   "metadata": {},
   "outputs": [],
   "source": [
    "# occupancy count [intermediate variables]\n",
    "occupancy_counts = {}\n",
    "\n",
    "if occupancy_count_as_variables:\n",
    "    for day in days:\n",
    "        occupancy_counts[day] = solver.IntVar(\n",
    "            lb=min(search_occupancy[day]), ub=max(search_occupancy[day]), name='oc[%i]' % day\n",
    "        )\n",
    "        # find those family who like this day\n",
    "        family_prefered = days_family_prefered[day]\n",
    "        solver.Add(\n",
    "            occupancy_counts[day] == (\n",
    "                solver.Sum(\n",
    "                    [assignment_matrix[family, pref_rank] * n_people[family] \n",
    "                     for family, pref_rank in family_prefered.items()]\n",
    "                ) + (\n",
    "                    solver.Sum(\n",
    "                        [unpreferred_day_counts[day, size] * size for size in possible_family_sizes]\n",
    "                    ) if N_choices >= N_choices_ori else 0\n",
    "                )\n",
    "            )\n",
    "        )\n",
    "else:\n",
    "    for day in days:\n",
    "        # find those family who like this day\n",
    "        family_prefered = days_family_prefered[day]\n",
    "        occupancy_counts[day] = (\n",
    "            solver.Sum(\n",
    "                [assignment_matrix[family, pref_rank] * n_people[family] \n",
    "                 for family, pref_rank in family_prefered.items()]\n",
    "            ) + (\n",
    "                solver.Sum(\n",
    "                    [unpreferred_day_counts[day, size] * size for size in possible_family_sizes]\n",
    "                ) if N_choices >= N_choices_ori else 0\n",
    "            )\n",
    "        )"
   ]
  },
  {
   "cell_type": "code",
   "execution_count": 163,
   "metadata": {},
   "outputs": [],
   "source": [
    "# for day in days:\n",
    "#     # find those family who like this day\n",
    "#     solver.Add(occupancy_counts[day] <= N_max_people, 'ub[%i]' % day)\n",
    "#     solver.Add(occupancy_counts[day] >= N_min_people, 'ub[%i]' % day)"
   ]
  },
  {
   "cell_type": "markdown",
   "metadata": {},
   "source": [
    "### constraint 3: unpreferred day family count conservation for each family size"
   ]
  },
  {
   "cell_type": "code",
   "execution_count": 164,
   "metadata": {},
   "outputs": [],
   "source": [
    "# constraint 3: unpreferred day family count conservation for each family size"
   ]
  },
  {
   "cell_type": "code",
   "execution_count": 165,
   "metadata": {},
   "outputs": [],
   "source": [
    "family_size_to_family_ids = {\n",
    "    size: np.where(n_people == size)[0] for size in possible_family_sizes\n",
    "}"
   ]
  },
  {
   "cell_type": "code",
   "execution_count": 166,
   "metadata": {},
   "outputs": [],
   "source": [
    "if N_choices >= N_choices_ori:\n",
    "    for size in possible_family_sizes:\n",
    "        solver.Add(\n",
    "            solver.Sum([assignment_matrix[family, N_choices - 1]\n",
    "                        for family in family_size_to_family_ids[size]])\n",
    "            == solver.Sum([unpreferred_day_counts[day, size] for day in days]),\n",
    "            'unpreferred_day_counts[%i]' % size\n",
    "        )"
   ]
  },
  {
   "cell_type": "markdown",
   "metadata": {},
   "source": [
    "### Occupancy boolean matrix normalization"
   ]
  },
  {
   "cell_type": "code",
   "execution_count": 167,
   "metadata": {},
   "outputs": [],
   "source": [
    "# occupancy boolean matrix normalization\n",
    "# each day only take 1 occupancy value\n",
    "for day in days:\n",
    "    if day < N_days:\n",
    "        occupancy_normalization = solver.Sum([\n",
    "            occupancy_matrix[day, o, o_next] for o in search_occupancy[day]\n",
    "            for o_next in search_occupancy[day + 1]\n",
    "        ])\n",
    "    else:\n",
    "        occupancy_normalization = solver.Sum([\n",
    "            occupancy_matrix[day, o] for o in search_occupancy[day]\n",
    "        ])\n",
    "    solver.Add(occupancy_normalization == 1)"
   ]
  },
  {
   "cell_type": "markdown",
   "metadata": {},
   "source": [
    "### constrain 4: link occupancy boolean matrix to occupancy count"
   ]
  },
  {
   "cell_type": "code",
   "execution_count": 168,
   "metadata": {},
   "outputs": [],
   "source": [
    "for day in days:\n",
    "    if day < N_days:\n",
    "        sum_from_occupancy_matrix = solver.Sum([\n",
    "            occupancy_matrix[day, o, o_next] * o for o in search_occupancy[day]\n",
    "            for o_next in search_occupancy[day + 1]\n",
    "        ])\n",
    "    else:\n",
    "        sum_from_occupancy_matrix = solver.Sum([\n",
    "            occupancy_matrix[day, o] * o for o in search_occupancy[day]\n",
    "        ])\n",
    "    solver.Add(occupancy_counts[day] == sum_from_occupancy_matrix)"
   ]
  },
  {
   "cell_type": "code",
   "execution_count": 169,
   "metadata": {},
   "outputs": [],
   "source": [
    "# next day occupancy consistency\n",
    "if True:\n",
    "    # Approach 1:\n",
    "    for day in days:\n",
    "        if day < N_days:\n",
    "            sum_from_next_occupancy_matrix = solver.Sum([\n",
    "                occupancy_matrix[day, o, o_next] * o_next for o in search_occupancy[day]\n",
    "                for o_next in search_occupancy[day + 1]\n",
    "            ])\n",
    "            solver.Add(occupancy_counts[day + 1] == sum_from_next_occupancy_matrix)\n",
    "else:\n",
    "    # Approach 2:\n",
    "    for day in days:\n",
    "        if day + 1 < N_days:\n",
    "            for o in search_occupancy[day+1]:\n",
    "                solver.Add(\n",
    "                    solver.Sum(\n",
    "                        [occupancy_matrix[day, o_other, o] for o_other in search_occupancy[day]]\n",
    "                    ) == solver.Sum(\n",
    "                        [occupancy_matrix[day + 1, o, o_other] for o_other in search_occupancy[day+2]]\n",
    "                    )\n",
    "                )\n",
    "    for o in search_occupancy[N_days]:\n",
    "        solver.Add(\n",
    "            solver.Sum(\n",
    "                [occupancy_matrix[N_days - 1, o_other, o] for o_other in search_occupancy[N_days - 1]]\n",
    "            ) == occupancy_matrix[N_days, o]\n",
    "        )"
   ]
  },
  {
   "cell_type": "markdown",
   "metadata": {},
   "source": [
    "## Objective"
   ]
  },
  {
   "cell_type": "code",
   "execution_count": 170,
   "metadata": {},
   "outputs": [],
   "source": [
    "# Objective - Preference cost only as approximation\n",
    "solver.Minimize(\n",
    "    solver.Sum([\n",
    "        assignment_matrix[family, c] * family_id_choice_to_pref_cost[family, c]\n",
    "        for family in families for c in range(N_choices)\n",
    "    ]) +\n",
    "    solver.Sum([\n",
    "        occupancy_matrix[day, o, o_next] * nd_ndp1_to_account_penality[o, o_next]\n",
    "        for day in days if day < N_days\n",
    "        for o in search_occupancy[day] for o_next in search_occupancy[day + 1]\n",
    "    ]) +\n",
    "    solver.Sum([\n",
    "        occupancy_matrix[N_days, o] * nd_ndp1_to_account_penality[o, o]\n",
    "        for o in search_occupancy[N_days]\n",
    "    ])\n",
    ")"
   ]
  },
  {
   "cell_type": "markdown",
   "metadata": {},
   "source": [
    "## Hint"
   ]
  },
  {
   "cell_type": "code",
   "execution_count": 171,
   "metadata": {},
   "outputs": [],
   "source": [
    "if use_hint:\n",
    "    solver.SetHint(\n",
    "        [assignment_matrix[family, c] for family in families for c in range(N_choices)] +\n",
    "        [\n",
    "            occupancy_matrix[day, o, o_next] \n",
    "            for day in days if day < N_days\n",
    "            for o in search_occupancy[day] for o_next in search_occupancy[day + 1]\n",
    "        ] +\n",
    "        [\n",
    "            occupancy_matrix[N_days, o] for o in search_occupancy[N_days]\n",
    "        ] +\n",
    "        [\n",
    "            occupancy_counts[day] for day in days\n",
    "        ] if occupancy_count_as_variables else []\n",
    "        ,\n",
    "        [\n",
    "            float(assigned_day[family] == family_pref[family, c]) \n",
    "            for family in families for c in range(N_choices)\n",
    "        ] +\n",
    "        [\n",
    "            float((occupancy[day] == o) and (occupancy[day + 1] == o_next))\n",
    "            for day in days if day < N_days\n",
    "            for o in search_occupancy[day] for o_next in search_occupancy[day + 1]\n",
    "        ] +\n",
    "        [\n",
    "            float(occupancy[N_days] == o) for o in search_occupancy[N_days]\n",
    "        ] +\n",
    "        [\n",
    "            float(occupancy[day]) for day in days\n",
    "        ] if occupancy_count_as_variables else []\n",
    "    )"
   ]
  },
  {
   "cell_type": "markdown",
   "metadata": {},
   "source": [
    "## Solve"
   ]
  },
  {
   "cell_type": "code",
   "execution_count": 172,
   "metadata": {},
   "outputs": [
    {
     "data": {
      "text/plain": [
       "27071"
      ]
     },
     "execution_count": 172,
     "metadata": {},
     "output_type": "execute_result"
    }
   ],
   "source": [
    "len(solver.variables())"
   ]
  },
  {
   "cell_type": "code",
   "execution_count": null,
   "metadata": {},
   "outputs": [],
   "source": [
    "%%time\n",
    "# Solve\n",
    "sol = solver.Solve()\n",
    "\n",
    "resdict = {0:'OPTIMAL', 1:'FEASIBLE', 2:'INFEASIBLE', 3:'UNBOUNDED', \n",
    "           4:'ABNORMAL', 5:'MODEL_INVALID', 6:'NOT_SOLVED'}\n",
    "print('Result: ', resdict[sol])\n",
    "print('Total cost = ', solver.Objective().Value())\n",
    "print(\"Time = \", solver.WallTime(), \" milliseconds\")"
   ]
  },
  {
   "cell_type": "code",
   "execution_count": null,
   "metadata": {},
   "outputs": [],
   "source": [
    "# 20: 45338.0 OPTIMAL\n",
    "# 40: 45338.0 OPTIMAL\n",
    "# 60: 45338.0 FEASIBLE\n",
    "#100: 45338.0 FEASIBLE\n",
    "#10h (2h): 43999.0 FEASIBLE"
   ]
  },
  {
   "cell_type": "markdown",
   "metadata": {},
   "source": [
    "## Solution"
   ]
  },
  {
   "cell_type": "code",
   "execution_count": null,
   "metadata": {},
   "outputs": [],
   "source": [
    "assignment_choices_sol = np.array([\n",
    "    [assignment_matrix[family, c].solution_value() for c in range(N_choices)]\n",
    "    for family in families\n",
    "]).argmax(axis=1)"
   ]
  },
  {
   "cell_type": "code",
   "execution_count": null,
   "metadata": {},
   "outputs": [],
   "source": [
    "assignment_choices_sol"
   ]
  },
  {
   "cell_type": "code",
   "execution_count": null,
   "metadata": {},
   "outputs": [],
   "source": [
    "assigned_day_new_raw = np.array([\n",
    "    family_pref[family, c] if c < N_family_pref else -1 \n",
    "    for family, c in enumerate(assignment_choices_sol)\n",
    "])"
   ]
  },
  {
   "cell_type": "code",
   "execution_count": null,
   "metadata": {},
   "outputs": [],
   "source": [
    "assigned_day_new_raw"
   ]
  },
  {
   "cell_type": "code",
   "execution_count": null,
   "metadata": {},
   "outputs": [],
   "source": [
    "if N_choices >= N_choices_ori:\n",
    "    unpreferred_day_counts_sol = {\n",
    "        size: [0]+[int(unpreferred_day_counts[day, size].solution_value()) for day in days]\n",
    "        for size in possible_family_sizes\n",
    "    }\n",
    "\n",
    "    print('Unpreferred families slots:')\n",
    "    {size: sum(counts) for size, counts in unpreferred_day_counts_sol.items()}"
   ]
  },
  {
   "cell_type": "code",
   "execution_count": null,
   "metadata": {},
   "outputs": [],
   "source": [
    "def distribute_unpreferred_day(assigned_day, unpreferred_day_counts_sol, n_people):\n",
    "    \"\"\" Distribute unpreferred day to each family who has -1 day assigned \"\"\"\n",
    "    assigned_day = assigned_day.copy()\n",
    "    unpreferred_days = {size: [] for size in possible_family_sizes}\n",
    "    for size in possible_family_sizes:\n",
    "        for day, quota in enumerate(unpreferred_day_counts_sol[size]):\n",
    "            unpreferred_days[size] = unpreferred_days[size] + [day] * quota\n",
    "    unpreferred_day_headers = {size: 0 for size in possible_family_sizes}\n",
    "    for family, (day, size) in enumerate(zip(assigned_day, n_people)):\n",
    "        if day == -1:\n",
    "            assigned_day[family] = unpreferred_days[size][unpreferred_day_headers[size]]\n",
    "            unpreferred_day_headers[size] += 1\n",
    "    return assigned_day"
   ]
  },
  {
   "cell_type": "code",
   "execution_count": null,
   "metadata": {},
   "outputs": [],
   "source": [
    "if N_choices >= N_choices_ori:\n",
    "    assigned_day_new = distribute_unpreferred_day(assigned_day_new_raw, unpreferred_day_counts_sol, n_people)\n",
    "else:\n",
    "    assigned_day_new = assigned_day_new_raw"
   ]
  },
  {
   "cell_type": "code",
   "execution_count": null,
   "metadata": {},
   "outputs": [],
   "source": [
    "print('N family unpreferred assigned:', (~(assigned_day_new == assigned_day_new_raw)).sum())"
   ]
  },
  {
   "cell_type": "code",
   "execution_count": null,
   "metadata": {},
   "outputs": [],
   "source": [
    "def assigned_day_to_family_on_day(assigned_day):\n",
    "    family_on_day = [set() for _ in range(N_days+1)] # 0 is empty set\n",
    "    for i, day in enumerate(assigned_day):\n",
    "        family_on_day[day].add(i)\n",
    "    return family_on_day\n",
    "\n",
    "def assigned_day_to_occupancy(assigned_day):\n",
    "    occupancy = np.zeros(N_days+2, dtype='int32') # 0 is 0\n",
    "    for i, n in enumerate(n_people):\n",
    "        occupancy[assigned_day[i]] += n\n",
    "    occupancy[0] = 125\n",
    "    occupancy[-1] = occupancy[-2]\n",
    "    return occupancy"
   ]
  },
  {
   "cell_type": "code",
   "execution_count": null,
   "metadata": {},
   "outputs": [],
   "source": [
    "family_on_day_new = assigned_day_to_family_on_day(assigned_day_new)\n",
    "occupancy_new = assigned_day_to_occupancy(assigned_day_new)"
   ]
  },
  {
   "cell_type": "code",
   "execution_count": null,
   "metadata": {},
   "outputs": [],
   "source": [
    "try:\n",
    "    is_valid = deep_check(assigned_day_new, family_on_day_new, occupancy_new)\n",
    "except:\n",
    "    is_valid = False\n",
    "print('Valid solution:', is_valid)\n",
    "print('Total score:    ', cal_total(assigned_day_new, occupancy_new))\n",
    "print('Preference cost:', cal_total_preference(assigned_day_new))\n",
    "print('Accounting cost:', cal_total_accounting(occupancy_new))"
   ]
  },
  {
   "cell_type": "markdown",
   "metadata": {},
   "source": [
    "## Output"
   ]
  },
  {
   "cell_type": "code",
   "execution_count": null,
   "metadata": {},
   "outputs": [],
   "source": [
    "dump_conf(assigned_day_new, path_dump_improved)"
   ]
  },
  {
   "cell_type": "markdown",
   "metadata": {},
   "source": [
    "## Debug"
   ]
  },
  {
   "cell_type": "code",
   "execution_count": null,
   "metadata": {},
   "outputs": [],
   "source": [
    "[\n",
    "    [assignment_matrix[family, c].solution_value() for c in range(N_choices)]\n",
    "    for family in range(10)\n",
    "]        "
   ]
  },
  {
   "cell_type": "code",
   "execution_count": null,
   "metadata": {},
   "outputs": [],
   "source": [
    "if N_choices >= N_choices_ori:\n",
    "    print([\n",
    "        [unpreferred_day_counts[day, size].solution_value() for size in possible_family_sizes]\n",
    "        for day in range(1, 10)\n",
    "    ])"
   ]
  },
  {
   "cell_type": "code",
   "execution_count": null,
   "metadata": {},
   "outputs": [],
   "source": []
  }
 ],
 "metadata": {
  "kernelspec": {
   "display_name": "Python 3",
   "language": "python",
   "name": "python3"
  },
  "language_info": {
   "codemirror_mode": {
    "name": "ipython",
    "version": 3
   },
   "file_extension": ".py",
   "mimetype": "text/x-python",
   "name": "python",
   "nbconvert_exporter": "python",
   "pygments_lexer": "ipython3",
   "version": "3.6.6"
  },
  "toc": {
   "base_numbering": 1,
   "nav_menu": {},
   "number_sections": true,
   "sideBar": true,
   "skip_h1_title": true,
   "title_cell": "Table of Contents",
   "title_sidebar": "Contents",
   "toc_cell": false,
   "toc_position": {
    "height": "calc(100% - 180px)",
    "left": "10px",
    "top": "150px",
    "width": "165px"
   },
   "toc_section_display": true,
   "toc_window_display": true
  }
 },
 "nbformat": 4,
 "nbformat_minor": 2
}
