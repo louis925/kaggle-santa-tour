{
 "cells": [
  {
   "cell_type": "markdown",
   "metadata": {},
   "source": [
    "**CPLEX installation guide:** Add following line to your `.bash_profile` (for macOS) after installing IBM ILOG CPLEX Optimization Studio locally using installer from IBM. (note the path will change if you are using different python or OS)\n",
    "\n",
    "```export PYTHONPATH=\"/Applications/CPLEX_Studio1210/cplex/python/3.6/x86-64_osx\"```"
   ]
  },
  {
   "cell_type": "code",
   "execution_count": 1,
   "metadata": {},
   "outputs": [],
   "source": [
    "import cplex"
   ]
  },
  {
   "cell_type": "code",
   "execution_count": 2,
   "metadata": {},
   "outputs": [
    {
     "data": {
      "text/plain": [
       "['/Applications/CPLEX_Studio1210/cplex/python/3.6/x86-64_osx/cplex']"
      ]
     },
     "execution_count": 2,
     "metadata": {},
     "output_type": "execute_result"
    }
   ],
   "source": [
    "cplex.__path__  # make sure the path is the one we pick above"
   ]
  },
  {
   "cell_type": "code",
   "execution_count": 3,
   "metadata": {},
   "outputs": [],
   "source": [
    "import numpy as np\n",
    "import pandas as pd\n",
    "import matplotlib.pyplot as plt\n",
    "\n",
    "from util_io import (\n",
    "    init, finalize, dump_conf, assigned_day_to_family_on_day, assigned_day_to_occupancy\n",
    ")\n",
    "from util_cost import (\n",
    "    cal_total, n_people, family_id_choice_to_pref_cost, cal_total_preference, cal_total_accounting,\n",
    "    nd_ndp1_to_account_penality\n",
    ")\n",
    "from util_cost import choices as family_pref\n",
    "from util_check import deep_check, check_valid_all"
   ]
  },
  {
   "cell_type": "code",
   "execution_count": 4,
   "metadata": {},
   "outputs": [],
   "source": [
    "# constants #\n",
    "N_families = 5000\n",
    "N_days = 100\n",
    "N_min_people = 125\n",
    "N_max_people = 300\n",
    "# constants #\n",
    "\n",
    "# params #\n",
    "# path_init_conf =     '../output/m15-improved.csv'\n",
    "path_occupancy_pairs = '../output/a03-occupancy-pairs.csv'\n",
    "path_dump_improved = '../output/m17-improved.csv' # lowest cost\n",
    "\n",
    "num_cpu_cores = 6\n",
    "#time_limit = -1 # unlimited\n",
    "time_limit = 8*60*60  # in s\n",
    "\n",
    "max_family_rank = 11  # maximum number of rank of the preference days for each family\n",
    "# occupancy_count_as_variables = True  # use occupancy_counts as variable (seem faster)"
   ]
  },
  {
   "cell_type": "code",
   "execution_count": 5,
   "metadata": {},
   "outputs": [],
   "source": [
    "families = range(N_families)\n",
    "days = range(1, N_days + 1)\n",
    "allowed_occupancy = range(N_min_people, N_max_people + 1)"
   ]
  },
  {
   "cell_type": "code",
   "execution_count": 6,
   "metadata": {},
   "outputs": [],
   "source": [
    "# assigned_day, family_on_day, occupancy = init(path_conf=path_init_conf)\n",
    "# print('Init config:')\n",
    "# try:\n",
    "#     is_valid = deep_check(assigned_day, family_on_day, occupancy)\n",
    "# except:\n",
    "#     is_valid = False\n",
    "# initial_score = cal_total(assigned_day, occupancy)\n",
    "# print('Valid solution: ', is_valid)\n",
    "# print('Total score:    ', initial_score)\n",
    "# print('Preference cost:', cal_total_preference(assigned_day))\n",
    "# print('Accounting cost:', cal_total_accounting(occupancy))"
   ]
  },
  {
   "cell_type": "code",
   "execution_count": 7,
   "metadata": {},
   "outputs": [],
   "source": [
    "# plt.figure(figsize=(12, 2))\n",
    "# plt.plot(occupancy); plt.xlim(1, N_days); plt.grid(); plt.show()"
   ]
  },
  {
   "cell_type": "code",
   "execution_count": 8,
   "metadata": {},
   "outputs": [],
   "source": [
    "# accounting_cost_per_day = [\n",
    "#     nd_ndp1_to_account_penality[occupancy[day], occupancy[day+1]].astype('float32')\n",
    "#     for day in days\n",
    "# ]"
   ]
  },
  {
   "cell_type": "code",
   "execution_count": 9,
   "metadata": {},
   "outputs": [],
   "source": [
    "# plt.figure(figsize=(12, 2))\n",
    "# plt.plot(accounting_cost_per_day); plt.grid(); plt.show()"
   ]
  },
  {
   "cell_type": "code",
   "execution_count": 10,
   "metadata": {},
   "outputs": [],
   "source": [
    "occupancy_pairs_init = pd.read_csv(path_occupancy_pairs)"
   ]
  },
  {
   "cell_type": "code",
   "execution_count": 11,
   "metadata": {},
   "outputs": [
    {
     "data": {
      "text/html": [
       "<div>\n",
       "<style scoped>\n",
       "    .dataframe tbody tr th:only-of-type {\n",
       "        vertical-align: middle;\n",
       "    }\n",
       "\n",
       "    .dataframe tbody tr th {\n",
       "        vertical-align: top;\n",
       "    }\n",
       "\n",
       "    .dataframe thead th {\n",
       "        text-align: right;\n",
       "    }\n",
       "</style>\n",
       "<table border=\"1\" class=\"dataframe\">\n",
       "  <thead>\n",
       "    <tr style=\"text-align: right;\">\n",
       "      <th></th>\n",
       "      <th>o</th>\n",
       "      <th>o_next</th>\n",
       "      <th>N</th>\n",
       "    </tr>\n",
       "  </thead>\n",
       "  <tbody>\n",
       "    <tr>\n",
       "      <th>0</th>\n",
       "      <td>125</td>\n",
       "      <td>125</td>\n",
       "      <td>49</td>\n",
       "    </tr>\n",
       "    <tr>\n",
       "      <th>1</th>\n",
       "      <td>125</td>\n",
       "      <td>126</td>\n",
       "      <td>0</td>\n",
       "    </tr>\n",
       "    <tr>\n",
       "      <th>2</th>\n",
       "      <td>125</td>\n",
       "      <td>127</td>\n",
       "      <td>0</td>\n",
       "    </tr>\n",
       "    <tr>\n",
       "      <th>3</th>\n",
       "      <td>125</td>\n",
       "      <td>128</td>\n",
       "      <td>0</td>\n",
       "    </tr>\n",
       "    <tr>\n",
       "      <th>4</th>\n",
       "      <td>125</td>\n",
       "      <td>129</td>\n",
       "      <td>0</td>\n",
       "    </tr>\n",
       "  </tbody>\n",
       "</table>\n",
       "</div>"
      ],
      "text/plain": [
       "     o  o_next   N\n",
       "0  125     125  49\n",
       "1  125     126   0\n",
       "2  125     127   0\n",
       "3  125     128   0\n",
       "4  125     129   0"
      ]
     },
     "execution_count": 11,
     "metadata": {},
     "output_type": "execute_result"
    }
   ],
   "source": [
    "occupancy_pairs_init.head()"
   ]
  },
  {
   "cell_type": "code",
   "execution_count": 12,
   "metadata": {},
   "outputs": [
    {
     "data": {
      "text/plain": [
       "array([[125, 125,  49],\n",
       "       [125, 126,   0],\n",
       "       [125, 127,   0]])"
      ]
     },
     "execution_count": 12,
     "metadata": {},
     "output_type": "execute_result"
    }
   ],
   "source": [
    "occupancy_pairs_init.values[:3]"
   ]
  },
  {
   "cell_type": "code",
   "execution_count": 13,
   "metadata": {},
   "outputs": [],
   "source": [
    "occupancy_pairs_counts_init = {(row[0], row[1]): row[2] for row in occupancy_pairs_init.values}"
   ]
  },
  {
   "cell_type": "code",
   "execution_count": 14,
   "metadata": {},
   "outputs": [],
   "source": [
    "occupancy_counts_init = {\n",
    "    o: sum([occupancy_pairs_counts_init[o, o_other] for o_other in allowed_occupancy])\n",
    "    for o in allowed_occupancy\n",
    "}"
   ]
  },
  {
   "cell_type": "code",
   "execution_count": 16,
   "metadata": {},
   "outputs": [
    {
     "data": {
      "text/plain": [
       "52"
      ]
     },
     "execution_count": 16,
     "metadata": {},
     "output_type": "execute_result"
    }
   ],
   "source": [
    "max(occupancy_counts_init.values())"
   ]
  },
  {
   "cell_type": "code",
   "execution_count": 15,
   "metadata": {},
   "outputs": [],
   "source": [
    "search_occupancy = {day: allowed_occupancy for day in days}  # not restricting day occupancy for now"
   ]
  },
  {
   "cell_type": "code",
   "execution_count": 17,
   "metadata": {},
   "outputs": [],
   "source": [
    "### Family not on choice 0\n",
    "# print({c: (assigned_day == family_pref[:, c]).sum() for c in range(10)})"
   ]
  },
  {
   "cell_type": "markdown",
   "metadata": {},
   "source": [
    "## CPLEX MIP"
   ]
  },
  {
   "cell_type": "code",
   "execution_count": 18,
   "metadata": {},
   "outputs": [],
   "source": [
    "from docplex.mp.model import Model"
   ]
  },
  {
   "cell_type": "code",
   "execution_count": 19,
   "metadata": {},
   "outputs": [],
   "source": [
    "solver = Model('')"
   ]
  },
  {
   "cell_type": "code",
   "execution_count": 20,
   "metadata": {},
   "outputs": [
    {
     "name": "stdout",
     "output_type": "stream",
     "text": [
      "Set num threads: 6\n",
      "Num treads: threads:int(6)\n",
      "Set time limit: None\n"
     ]
    }
   ],
   "source": [
    "if num_cpu_cores > 0:\n",
    "    solver.context.cplex_parameters.threads = num_cpu_cores\n",
    "    print('Set num threads:', num_cpu_cores)\n",
    "print('Num treads:', solver.context.cplex_parameters.threads)\n",
    "if time_limit > 0:\n",
    "    print('Set time limit:', solver.set_time_limit(time_limit))"
   ]
  },
  {
   "cell_type": "code",
   "execution_count": 21,
   "metadata": {},
   "outputs": [],
   "source": [
    "solver.parameters.mip.tolerances.mipgap = 0  # set mip gap to 0"
   ]
  },
  {
   "cell_type": "code",
   "execution_count": 22,
   "metadata": {},
   "outputs": [],
   "source": [
    "families = range(N_families)\n",
    "days = range(1, N_days + 1)"
   ]
  },
  {
   "cell_type": "code",
   "execution_count": 23,
   "metadata": {},
   "outputs": [
    {
     "name": "stdout",
     "output_type": "stream",
     "text": [
      "Limit family choice rank: 11 -> 11\n"
     ]
    }
   ],
   "source": [
    "# Possible choice for the family\n",
    "# last choice is any day that is not on the family's preferred days\n",
    "N_choices_ori = family_id_choice_to_pref_cost.shape[1]\n",
    "N_choices = min(N_choices_ori, max_family_rank)\n",
    "print('Limit family choice rank:', N_choices_ori, '->', N_choices)"
   ]
  },
  {
   "cell_type": "code",
   "execution_count": 24,
   "metadata": {},
   "outputs": [
    {
     "data": {
      "text/plain": [
       "array([[   0,   50,   86, ...,  544, 1440, 2236],\n",
       "       [   0,   50,   86, ...,  544, 1440, 2236],\n",
       "       [   0,   50,   77, ...,  508, 1205, 1802],\n",
       "       ...,\n",
       "       [   0,   50,  104, ...,  616, 1910, 3104],\n",
       "       [   0,   50,   95, ...,  580, 1675, 2670],\n",
       "       [   0,   50,   86, ...,  544, 1440, 2236]])"
      ]
     },
     "execution_count": 24,
     "metadata": {},
     "output_type": "execute_result"
    }
   ],
   "source": [
    "family_id_choice_to_pref_cost"
   ]
  },
  {
   "cell_type": "markdown",
   "metadata": {},
   "source": [
    "## Variables"
   ]
  },
  {
   "cell_type": "code",
   "execution_count": 25,
   "metadata": {},
   "outputs": [],
   "source": [
    "# Variables\n",
    "# assignment matrix[family, pref_rank]\n",
    "assignment_matrix = solver.binary_var_matrix(families, range(N_choices), 'x')"
   ]
  },
  {
   "cell_type": "code",
   "execution_count": 26,
   "metadata": {},
   "outputs": [
    {
     "data": {
      "text/plain": [
       "55000"
      ]
     },
     "execution_count": 26,
     "metadata": {},
     "output_type": "execute_result"
    }
   ],
   "source": [
    "len(assignment_matrix)"
   ]
  },
  {
   "cell_type": "code",
   "execution_count": 27,
   "metadata": {},
   "outputs": [],
   "source": [
    "possible_family_sizes = np.unique(n_people)"
   ]
  },
  {
   "cell_type": "code",
   "execution_count": 28,
   "metadata": {},
   "outputs": [],
   "source": [
    "# unpreferred_day_counts[day, size]\n",
    "ub = int(N_max_people / possible_family_sizes.min())\n",
    "unpreferred_day_counts = solver.integer_var_matrix(days, possible_family_sizes, lb=0, ub=ub, name='d')"
   ]
  },
  {
   "cell_type": "code",
   "execution_count": 29,
   "metadata": {
    "scrolled": true
   },
   "outputs": [
    {
     "data": {
      "text/plain": [
       "700"
      ]
     },
     "execution_count": 29,
     "metadata": {},
     "output_type": "execute_result"
    }
   ],
   "source": [
    "len(unpreferred_day_counts)"
   ]
  },
  {
   "cell_type": "code",
   "execution_count": 30,
   "metadata": {},
   "outputs": [
    {
     "data": {
      "text/plain": [
       "docplex.mp.Var(type=I,name='d_100_8',ub=150)"
      ]
     },
     "execution_count": 30,
     "metadata": {},
     "output_type": "execute_result"
    }
   ],
   "source": [
    "unpreferred_day_counts[100, 8]"
   ]
  },
  {
   "cell_type": "markdown",
   "metadata": {},
   "source": [
    "## Constraints"
   ]
  },
  {
   "cell_type": "markdown",
   "metadata": {},
   "source": [
    "### constraint 1: each family only take one day (choice)"
   ]
  },
  {
   "cell_type": "code",
   "execution_count": 31,
   "metadata": {},
   "outputs": [],
   "source": [
    "# Constraints\n",
    "# constraint 1: each family only take one day (choice)\n",
    "solver.add_constraints_(\n",
    "    [solver.sum([assignment_matrix[family, c] for c in range(N_choices)]) == 1\n",
    "     for family in families],\n",
    "    'family_ct'\n",
    ")"
   ]
  },
  {
   "cell_type": "markdown",
   "metadata": {},
   "source": [
    "### constraint 2: occupancy"
   ]
  },
  {
   "cell_type": "code",
   "execution_count": 32,
   "metadata": {},
   "outputs": [
    {
     "data": {
      "text/plain": [
       "10"
      ]
     },
     "execution_count": 32,
     "metadata": {},
     "output_type": "execute_result"
    }
   ],
   "source": [
    "N_family_pref = min(N_choices, N_choices_ori - 1)\n",
    "N_family_pref"
   ]
  },
  {
   "cell_type": "code",
   "execution_count": 33,
   "metadata": {},
   "outputs": [],
   "source": [
    "# day to dictionary of families who choose this day with value as preference rank\n",
    "days_family_prefered = [{} for day in range(N_days+1)]  # day = 0 should not be used\n",
    "\n",
    "for family, pref in enumerate(family_pref):\n",
    "    for rank, day in enumerate(pref):\n",
    "        if rank < N_family_pref:\n",
    "            days_family_prefered[day][family] = rank"
   ]
  },
  {
   "cell_type": "code",
   "execution_count": 34,
   "metadata": {},
   "outputs": [],
   "source": [
    "# occupancy count [intermediate variables]\n",
    "\n",
    "# if occupancy_count_as_variables:\n",
    "lbs = [min(search_occupancy[day]) for day in days]\n",
    "ubs = [max(search_occupancy[day]) for day in days]\n",
    "occupancy_counts = solver.integer_var_dict(days, lb=lbs, ub=ubs, name='oc')\n",
    "\n",
    "for day in days:\n",
    "    # find those family who like this day\n",
    "    family_prefered = days_family_prefered[day]\n",
    "    solver.add_constraint_(\n",
    "        occupancy_counts[day] == (\n",
    "            solver.sum(\n",
    "                [assignment_matrix[family, pref_rank] * n_people[family] \n",
    "                 for family, pref_rank in family_prefered.items()]\n",
    "            ) + (\n",
    "                solver.sum(\n",
    "                    [unpreferred_day_counts[day, size] * size for size in possible_family_sizes]\n",
    "                ) if N_choices >= N_choices_ori else 0\n",
    "            )\n",
    "        )\n",
    "    )\n",
    "# else:\n",
    "#     occupancy_counts = {}\n",
    "#     for day in days:\n",
    "#         # find those family who like this day\n",
    "#         family_prefered = days_family_prefered[day]\n",
    "#         occupancy_counts[day] = (\n",
    "#             solver.sum(\n",
    "#                 [assignment_matrix[family, pref_rank] * n_people[family] \n",
    "#                  for family, pref_rank in family_prefered.items()]\n",
    "#             ) + (\n",
    "#                 solver.sum(\n",
    "#                     [unpreferred_day_counts[day, size] * size for size in possible_family_sizes]\n",
    "#                 ) if N_choices >= N_choices_ori else 0\n",
    "#             )\n",
    "#         )"
   ]
  },
  {
   "cell_type": "code",
   "execution_count": 35,
   "metadata": {},
   "outputs": [],
   "source": [
    "# occupancy day counts boolean matrix\n",
    "occupancy_day_counts = solver.binary_var_matrix(days, allowed_occupancy, name='o')"
   ]
  },
  {
   "cell_type": "code",
   "execution_count": 38,
   "metadata": {},
   "outputs": [],
   "source": [
    "# normalization of occupancy day counts\n",
    "solver.add_constraints_([\n",
    "    solver.sum([occupancy_day_counts[day, o] for o in allowed_occupancy]) == 1 for day in days\n",
    "])"
   ]
  },
  {
   "cell_type": "code",
   "execution_count": 39,
   "metadata": {},
   "outputs": [],
   "source": [
    "occupancy_counts_from_matrix = {\n",
    "    day: solver.sum([occupancy_day_counts[day, o] * o for o in allowed_occupancy])\n",
    "    for day in days\n",
    "}"
   ]
  },
  {
   "cell_type": "code",
   "execution_count": 40,
   "metadata": {},
   "outputs": [],
   "source": [
    "# link occupancy_counts to occupancy_day_counts matrix\n",
    "solver.add_constraints_([occupancy_counts[day] == occupancy_counts_from_matrix[day] for day in days])"
   ]
  },
  {
   "cell_type": "code",
   "execution_count": 42,
   "metadata": {},
   "outputs": [],
   "source": [
    "# constraint: fixed number of days in a occupancy\n",
    "solver.add_constraints_([\n",
    "    solver.sum([occupancy_day_counts[day, o] for day in days]) == occupancy_counts_init[o]\n",
    "    for o in allowed_occupancy\n",
    "])"
   ]
  },
  {
   "cell_type": "markdown",
   "metadata": {},
   "source": [
    "### constraint 3: unpreferred day family count conservation for each family size"
   ]
  },
  {
   "cell_type": "code",
   "execution_count": 30,
   "metadata": {},
   "outputs": [],
   "source": [
    "# constraint 3: unpreferred day family count conservation for each family size"
   ]
  },
  {
   "cell_type": "code",
   "execution_count": 43,
   "metadata": {},
   "outputs": [],
   "source": [
    "family_size_to_family_ids = {\n",
    "    size: np.where(n_people == size)[0] for size in possible_family_sizes\n",
    "}"
   ]
  },
  {
   "cell_type": "code",
   "execution_count": 44,
   "metadata": {},
   "outputs": [],
   "source": [
    "solver.add_constraints_(\n",
    "    [\n",
    "        solver.sum([assignment_matrix[family, N_choices - 1]\n",
    "                   for family in family_size_to_family_ids[size]])\n",
    "        == solver.sum([unpreferred_day_counts[day, size] for day in days])\n",
    "        for size in possible_family_sizes\n",
    "    ],\n",
    "    ['unpreferred_day_counts[%i]' % size for size in possible_family_sizes]\n",
    ")"
   ]
  },
  {
   "cell_type": "markdown",
   "metadata": {},
   "source": [
    "## Objective"
   ]
  },
  {
   "cell_type": "code",
   "execution_count": 45,
   "metadata": {},
   "outputs": [],
   "source": [
    "# Objective - Preference cost only as approximation\n",
    "solver.minimize(\n",
    "    solver.sum([\n",
    "        assignment_matrix[family, c] * family_id_choice_to_pref_cost[family, c]\n",
    "        for family in families for c in range(N_choices)\n",
    "    ])\n",
    ")"
   ]
  },
  {
   "cell_type": "markdown",
   "metadata": {},
   "source": [
    "xx = solver.constraints()[0]\n",
    "\n",
    "[xx.GetCoefficient(assignment_matrix[1, c]) for c in range(N_choices)]\n",
    "\n",
    "xx.name()"
   ]
  },
  {
   "cell_type": "markdown",
   "metadata": {},
   "source": [
    "## Solve"
   ]
  },
  {
   "cell_type": "code",
   "execution_count": 46,
   "metadata": {},
   "outputs": [],
   "source": [
    "from docplex.mp.progress import TextProgressListener\n",
    "from docplex.mp.progress import ProgressClock\n",
    "solver.add_progress_listener(TextProgressListener(clock=ProgressClock.Objective, absdiff=200))"
   ]
  },
  {
   "cell_type": "code",
   "execution_count": 47,
   "metadata": {},
   "outputs": [
    {
     "name": "stdout",
     "output_type": "stream",
     "text": [
      "N of variables (binary, int): 73400 ( 72600 , 800 )\n",
      "N of constraints: 5483\n",
      "Time limit: 28800.0\n"
     ]
    }
   ],
   "source": [
    "print('N of variables (binary, int):', solver.number_of_variables, \n",
    "      '(', solver.number_of_binary_variables, ',', solver.number_of_integer_variables, ')')\n",
    "print('N of constraints:', solver.number_of_constraints)\n",
    "print('Time limit:', solver.get_time_limit())"
   ]
  },
  {
   "cell_type": "code",
   "execution_count": 48,
   "metadata": {},
   "outputs": [
    {
     "name": "stdout",
     "output_type": "stream",
     "text": [
      "CPU times: user 1.56 s, sys: 181 ms, total: 1.74 s\n",
      "Wall time: 1.25 s\n"
     ]
    }
   ],
   "source": [
    "%%time\n",
    "# Solve\n",
    "sol = solver.solve()"
   ]
  },
  {
   "cell_type": "code",
   "execution_count": 49,
   "metadata": {},
   "outputs": [
    {
     "name": "stdout",
     "output_type": "stream",
     "text": [
      "Solution status: JobSolveStatus.INFEASIBLE_SOLUTION\n"
     ]
    },
    {
     "ename": "AttributeError",
     "evalue": "'NoneType' object has no attribute 'objective_value'",
     "output_type": "error",
     "traceback": [
      "\u001b[0;31m---------------------------------------------------------------------------\u001b[0m",
      "\u001b[0;31mAttributeError\u001b[0m                            Traceback (most recent call last)",
      "\u001b[0;32m<ipython-input-49-d1a4c4adb46d>\u001b[0m in \u001b[0;36m<module>\u001b[0;34m()\u001b[0m\n\u001b[1;32m      1\u001b[0m \u001b[0mprint\u001b[0m\u001b[0;34m(\u001b[0m\u001b[0;34m'Solution status:'\u001b[0m\u001b[0;34m,\u001b[0m \u001b[0msolver\u001b[0m\u001b[0;34m.\u001b[0m\u001b[0mget_solve_status\u001b[0m\u001b[0;34m(\u001b[0m\u001b[0;34m)\u001b[0m\u001b[0;34m)\u001b[0m\u001b[0;34m\u001b[0m\u001b[0m\n\u001b[0;32m----> 2\u001b[0;31m \u001b[0mprint\u001b[0m\u001b[0;34m(\u001b[0m\u001b[0;34m'Total cost:'\u001b[0m\u001b[0;34m,\u001b[0m \u001b[0msol\u001b[0m\u001b[0;34m.\u001b[0m\u001b[0mobjective_value\u001b[0m\u001b[0;34m,\u001b[0m \u001b[0msol\u001b[0m\u001b[0;34m.\u001b[0m\u001b[0mget_objective_value\u001b[0m\u001b[0;34m(\u001b[0m\u001b[0;34m)\u001b[0m\u001b[0;34m)\u001b[0m\u001b[0;34m\u001b[0m\u001b[0m\n\u001b[0m\u001b[1;32m      3\u001b[0m \u001b[0mprint\u001b[0m\u001b[0;34m(\u001b[0m\u001b[0;34m\"Time:\"\u001b[0m\u001b[0;34m,\u001b[0m \u001b[0;34m'%.3f'\u001b[0m \u001b[0;34m%\u001b[0m \u001b[0msolver\u001b[0m\u001b[0;34m.\u001b[0m\u001b[0mget_solve_details\u001b[0m\u001b[0;34m(\u001b[0m\u001b[0;34m)\u001b[0m\u001b[0;34m.\u001b[0m\u001b[0mtime\u001b[0m\u001b[0;34m,\u001b[0m \u001b[0;34m\"s\"\u001b[0m\u001b[0;34m)\u001b[0m\u001b[0;34m\u001b[0m\u001b[0m\n",
      "\u001b[0;31mAttributeError\u001b[0m: 'NoneType' object has no attribute 'objective_value'"
     ]
    }
   ],
   "source": [
    "print('Solution status:', solver.get_solve_status())\n",
    "print('Total cost:', sol.objective_value, sol.get_objective_value())\n",
    "print(\"Time:\", '%.3f' % solver.get_solve_details().time, \"s\")"
   ]
  },
  {
   "cell_type": "code",
   "execution_count": 37,
   "metadata": {},
   "outputs": [],
   "source": [
    "# for k, v in sol.iter_var_values():\n",
    "#     print(k, v)"
   ]
  },
  {
   "cell_type": "code",
   "execution_count": 38,
   "metadata": {},
   "outputs": [],
   "source": [
    "# sol.get_value_dict(assignment_matrix, keep_zeros=False)"
   ]
  },
  {
   "cell_type": "code",
   "execution_count": 39,
   "metadata": {},
   "outputs": [],
   "source": [
    "# sol.get_value_dict(unpreferred_day_counts)"
   ]
  },
  {
   "cell_type": "markdown",
   "metadata": {},
   "source": [
    "## Get solution"
   ]
  },
  {
   "cell_type": "code",
   "execution_count": 40,
   "metadata": {},
   "outputs": [],
   "source": [
    "assigned_day_new = np.ones(assigned_day.shape, dtype='int32') * -1\n",
    "for family, choice in sol.get_value_dict(assignment_matrix, keep_zeros=False):\n",
    "    assigned_day_new[family] = family_pref[family, choice]"
   ]
  },
  {
   "cell_type": "code",
   "execution_count": 41,
   "metadata": {},
   "outputs": [
    {
     "name": "stdout",
     "output_type": "stream",
     "text": [
      "valid assigned_day: True\n"
     ]
    }
   ],
   "source": [
    "print('valid assigned_day:', (assigned_day_new >= 0).all())"
   ]
  },
  {
   "cell_type": "code",
   "execution_count": 42,
   "metadata": {},
   "outputs": [],
   "source": [
    "unpreferred_day_counts_sol_dict = sol.get_value_dict(unpreferred_day_counts)"
   ]
  },
  {
   "cell_type": "code",
   "execution_count": 43,
   "metadata": {},
   "outputs": [
    {
     "name": "stdout",
     "output_type": "stream",
     "text": [
      "Unpreferred families slots:\n"
     ]
    },
    {
     "data": {
      "text/plain": [
       "{2: 0, 3: 0, 4: 0, 5: 0, 6: 0, 7: 0, 8: 0}"
      ]
     },
     "execution_count": 43,
     "metadata": {},
     "output_type": "execute_result"
    }
   ],
   "source": [
    "# if N_choices >= N_choices_ori:\n",
    "unpreferred_day_counts_sol = {\n",
    "    size: [0]+[int(unpreferred_day_counts_sol_dict[day, size]) for day in days]\n",
    "    for size in possible_family_sizes\n",
    "}\n",
    "\n",
    "print('Unpreferred families slots:')\n",
    "{size: sum(counts) for size, counts in unpreferred_day_counts_sol.items()}"
   ]
  },
  {
   "cell_type": "code",
   "execution_count": 44,
   "metadata": {},
   "outputs": [
    {
     "name": "stdout",
     "output_type": "stream",
     "text": [
      "deep check: everything looks fine.\n"
     ]
    },
    {
     "data": {
      "text/plain": [
       "True"
      ]
     },
     "execution_count": 44,
     "metadata": {},
     "output_type": "execute_result"
    }
   ],
   "source": [
    "family_on_day_new = assigned_day_to_family_on_day(assigned_day_new)\n",
    "\n",
    "occupancy_new = assigned_day_to_occupancy(assigned_day_new)\n",
    "\n",
    "deep_check(assigned_day_new, family_on_day_new, occupancy_new)"
   ]
  },
  {
   "cell_type": "code",
   "execution_count": 45,
   "metadata": {},
   "outputs": [
    {
     "name": "stdout",
     "output_type": "stream",
     "text": [
      "Total score:     70969.46706563326\n",
      "Preference cost: 65651\n",
      "Accounting cost: 5318.467065633259\n"
     ]
    }
   ],
   "source": [
    "print('Total score:    ', cal_total(assigned_day_new, occupancy_new))\n",
    "print('Preference cost:', cal_total_preference(assigned_day_new))\n",
    "print('Accounting cost:', cal_total_accounting(occupancy_new))"
   ]
  },
  {
   "cell_type": "code",
   "execution_count": 46,
   "metadata": {},
   "outputs": [
    {
     "data": {
      "text/plain": [
       "array([125, 300, 286, 300, 300, 285, 261, 244, 245, 268, 293, 299, 298,\n",
       "       277, 256, 253, 268, 296, 284, 271, 244, 222, 229, 258, 282, 298,\n",
       "       289, 269, 254, 240, 247, 266, 270, 249, 218, 189, 162, 192, 227,\n",
       "       249, 234, 205, 176, 180, 205, 242, 259, 241, 215, 196, 174, 209,\n",
       "       240, 242, 221, 183, 153, 125, 225, 252, 235, 201, 162, 125, 125,\n",
       "       125, 244, 214, 176, 131, 125, 125, 125, 231, 206, 175, 131, 125,\n",
       "       125, 125, 228, 209, 177, 132, 125, 125, 125, 255, 234, 199, 161,\n",
       "       125, 125, 125, 232, 206, 173, 126, 125, 125, 125, 125], dtype=int32)"
      ]
     },
     "execution_count": 46,
     "metadata": {},
     "output_type": "execute_result"
    }
   ],
   "source": [
    "occupancy_new"
   ]
  },
  {
   "cell_type": "markdown",
   "metadata": {},
   "source": [
    "## Output solution"
   ]
  },
  {
   "cell_type": "code",
   "execution_count": 44,
   "metadata": {},
   "outputs": [],
   "source": [
    "dump_conf(assigned_day_new, path_dump_improved)"
   ]
  },
  {
   "cell_type": "markdown",
   "metadata": {},
   "source": [
    "## Debug"
   ]
  },
  {
   "cell_type": "code",
   "execution_count": 45,
   "metadata": {},
   "outputs": [],
   "source": [
    "# [\n",
    "#     [assignment_matrix[family, c].solution_value() for c in range(N_choices)]\n",
    "#     for family in range(10)\n",
    "# ]        "
   ]
  },
  {
   "cell_type": "code",
   "execution_count": 46,
   "metadata": {},
   "outputs": [],
   "source": [
    "# [\n",
    "#     [unpreferred_day_counts[day, size].solution_value() for size in possible_family_sizes]\n",
    "#     for day in range(1, 10)\n",
    "# ]        "
   ]
  },
  {
   "cell_type": "code",
   "execution_count": null,
   "metadata": {},
   "outputs": [],
   "source": []
  }
 ],
 "metadata": {
  "kernelspec": {
   "display_name": "Python 3",
   "language": "python",
   "name": "python3"
  },
  "language_info": {
   "codemirror_mode": {
    "name": "ipython",
    "version": 3
   },
   "file_extension": ".py",
   "mimetype": "text/x-python",
   "name": "python",
   "nbconvert_exporter": "python",
   "pygments_lexer": "ipython3",
   "version": "3.6.6"
  },
  "toc": {
   "base_numbering": 1,
   "nav_menu": {},
   "number_sections": true,
   "sideBar": true,
   "skip_h1_title": true,
   "title_cell": "Table of Contents",
   "title_sidebar": "Contents",
   "toc_cell": false,
   "toc_position": {
    "height": "calc(100% - 180px)",
    "left": "10px",
    "top": "150px",
    "width": "165px"
   },
   "toc_section_display": true,
   "toc_window_display": false
  }
 },
 "nbformat": 4,
 "nbformat_minor": 2
}
