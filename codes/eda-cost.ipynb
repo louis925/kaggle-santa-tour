{
 "cells": [
  {
   "cell_type": "code",
   "execution_count": 1,
   "metadata": {},
   "outputs": [],
   "source": [
    "import numpy as np\n",
    "import pandas as pd"
   ]
  },
  {
   "cell_type": "markdown",
   "metadata": {},
   "source": [
    "## Fixed preference cost"
   ]
  },
  {
   "cell_type": "code",
   "execution_count": 2,
   "metadata": {},
   "outputs": [
    {
     "name": "stdout",
     "output_type": "stream",
     "text": [
      "11 [  0  50  50 100 200 200 300 300 400 500 500]\n"
     ]
    }
   ],
   "source": [
    "fixed_family_cost = np.array([0, 50, 50, 100, 200, 200, 300, 300, 400, 500, 500])\n",
    "print(len(fixed_family_cost), fixed_family_cost)"
   ]
  },
  {
   "cell_type": "code",
   "execution_count": 3,
   "metadata": {},
   "outputs": [
    {
     "name": "stdout",
     "output_type": "stream",
     "text": [
      "11 [  0   0   9   9   9  18  18  36  36 235 434]\n"
     ]
    }
   ],
   "source": [
    "fixed_person_cost = np.array([0, 0, 9, 9, 9, 18, 18, 36, 36, 36+199, 36+398])\n",
    "print(len(fixed_person_cost), fixed_person_cost)"
   ]
  },
  {
   "cell_type": "code",
   "execution_count": 4,
   "metadata": {},
   "outputs": [
    {
     "name": "stdout",
     "output_type": "stream",
     "text": [
      "(9, 11)\n"
     ]
    },
    {
     "data": {
      "text/plain": [
       "array([[   0,   50,   50,  100,  200,  200,  300,  300,  400,  500,  500],\n",
       "       [   0,   50,   59,  109,  209,  218,  318,  336,  436,  735,  934],\n",
       "       [   0,   50,   68,  118,  218,  236,  336,  372,  472,  970, 1368],\n",
       "       [   0,   50,   77,  127,  227,  254,  354,  408,  508, 1205, 1802],\n",
       "       [   0,   50,   86,  136,  236,  272,  372,  444,  544, 1440, 2236],\n",
       "       [   0,   50,   95,  145,  245,  290,  390,  480,  580, 1675, 2670],\n",
       "       [   0,   50,  104,  154,  254,  308,  408,  516,  616, 1910, 3104],\n",
       "       [   0,   50,  113,  163,  263,  326,  426,  552,  652, 2145, 3538],\n",
       "       [   0,   50,  122,  172,  272,  344,  444,  588,  688, 2380, 3972]])"
      ]
     },
     "execution_count": 4,
     "metadata": {},
     "output_type": "execute_result"
    }
   ],
   "source": [
    "# array of preference cost per family\n",
    "# preference_cost_per_family[n_people, i_choice]\n",
    "preference_cost_per_family = (\n",
    "    fixed_family_cost.reshape(1, -1) +\n",
    "    np.arange(0, 9).reshape(-1, 1) * fixed_person_cost.reshape(1, -1)\n",
    ")\n",
    "print(preference_cost_per_family.shape)\n",
    "preference_cost_per_family"
   ]
  },
  {
   "cell_type": "markdown",
   "metadata": {},
   "source": [
    "### Fmaily data\n",
    "Family choice preference cost"
   ]
  },
  {
   "cell_type": "code",
   "execution_count": 5,
   "metadata": {},
   "outputs": [],
   "source": [
    "family_data = pd.read_csv('../input/family_data.csv')"
   ]
  },
  {
   "cell_type": "code",
   "execution_count": 6,
   "metadata": {},
   "outputs": [],
   "source": [
    "n_people = family_data['n_people'].values"
   ]
  },
  {
   "cell_type": "code",
   "execution_count": 7,
   "metadata": {},
   "outputs": [],
   "source": [
    "choices = family_data.loc[:, ['choice_'+str(i) for i in range(10)]].values"
   ]
  },
  {
   "cell_type": "code",
   "execution_count": 8,
   "metadata": {},
   "outputs": [
    {
     "data": {
      "text/html": [
       "<div>\n",
       "<style scoped>\n",
       "    .dataframe tbody tr th:only-of-type {\n",
       "        vertical-align: middle;\n",
       "    }\n",
       "\n",
       "    .dataframe tbody tr th {\n",
       "        vertical-align: top;\n",
       "    }\n",
       "\n",
       "    .dataframe thead th {\n",
       "        text-align: right;\n",
       "    }\n",
       "</style>\n",
       "<table border=\"1\" class=\"dataframe\">\n",
       "  <thead>\n",
       "    <tr style=\"text-align: right;\">\n",
       "      <th></th>\n",
       "      <th>family_id</th>\n",
       "      <th>choice_0</th>\n",
       "      <th>choice_1</th>\n",
       "      <th>choice_2</th>\n",
       "      <th>choice_3</th>\n",
       "      <th>choice_4</th>\n",
       "      <th>choice_5</th>\n",
       "      <th>choice_6</th>\n",
       "      <th>choice_7</th>\n",
       "      <th>choice_8</th>\n",
       "      <th>choice_9</th>\n",
       "      <th>n_people</th>\n",
       "    </tr>\n",
       "  </thead>\n",
       "  <tbody>\n",
       "    <tr>\n",
       "      <th>0</th>\n",
       "      <td>0</td>\n",
       "      <td>52</td>\n",
       "      <td>38</td>\n",
       "      <td>12</td>\n",
       "      <td>82</td>\n",
       "      <td>33</td>\n",
       "      <td>75</td>\n",
       "      <td>64</td>\n",
       "      <td>76</td>\n",
       "      <td>10</td>\n",
       "      <td>28</td>\n",
       "      <td>4</td>\n",
       "    </tr>\n",
       "    <tr>\n",
       "      <th>1</th>\n",
       "      <td>1</td>\n",
       "      <td>26</td>\n",
       "      <td>4</td>\n",
       "      <td>82</td>\n",
       "      <td>5</td>\n",
       "      <td>11</td>\n",
       "      <td>47</td>\n",
       "      <td>38</td>\n",
       "      <td>6</td>\n",
       "      <td>66</td>\n",
       "      <td>61</td>\n",
       "      <td>4</td>\n",
       "    </tr>\n",
       "    <tr>\n",
       "      <th>2</th>\n",
       "      <td>2</td>\n",
       "      <td>100</td>\n",
       "      <td>54</td>\n",
       "      <td>25</td>\n",
       "      <td>12</td>\n",
       "      <td>27</td>\n",
       "      <td>82</td>\n",
       "      <td>10</td>\n",
       "      <td>89</td>\n",
       "      <td>80</td>\n",
       "      <td>33</td>\n",
       "      <td>3</td>\n",
       "    </tr>\n",
       "    <tr>\n",
       "      <th>3</th>\n",
       "      <td>3</td>\n",
       "      <td>2</td>\n",
       "      <td>95</td>\n",
       "      <td>1</td>\n",
       "      <td>96</td>\n",
       "      <td>32</td>\n",
       "      <td>6</td>\n",
       "      <td>40</td>\n",
       "      <td>31</td>\n",
       "      <td>9</td>\n",
       "      <td>59</td>\n",
       "      <td>2</td>\n",
       "    </tr>\n",
       "    <tr>\n",
       "      <th>4</th>\n",
       "      <td>4</td>\n",
       "      <td>53</td>\n",
       "      <td>1</td>\n",
       "      <td>47</td>\n",
       "      <td>93</td>\n",
       "      <td>26</td>\n",
       "      <td>3</td>\n",
       "      <td>46</td>\n",
       "      <td>16</td>\n",
       "      <td>42</td>\n",
       "      <td>39</td>\n",
       "      <td>4</td>\n",
       "    </tr>\n",
       "  </tbody>\n",
       "</table>\n",
       "</div>"
      ],
      "text/plain": [
       "   family_id  choice_0  choice_1  choice_2  choice_3  choice_4  choice_5  \\\n",
       "0          0        52        38        12        82        33        75   \n",
       "1          1        26         4        82         5        11        47   \n",
       "2          2       100        54        25        12        27        82   \n",
       "3          3         2        95         1        96        32         6   \n",
       "4          4        53         1        47        93        26         3   \n",
       "\n",
       "   choice_6  choice_7  choice_8  choice_9  n_people  \n",
       "0        64        76        10        28         4  \n",
       "1        38         6        66        61         4  \n",
       "2        10        89        80        33         3  \n",
       "3        40        31         9        59         2  \n",
       "4        46        16        42        39         4  "
      ]
     },
     "execution_count": 8,
     "metadata": {},
     "output_type": "execute_result"
    }
   ],
   "source": [
    "family_data.head()"
   ]
  },
  {
   "cell_type": "code",
   "execution_count": 9,
   "metadata": {},
   "outputs": [
    {
     "name": "stdout",
     "output_type": "stream",
     "text": [
      "5000 [4 4 3 ... 6 5 4]\n"
     ]
    }
   ],
   "source": [
    "print(len(n_people), n_people)"
   ]
  },
  {
   "cell_type": "code",
   "execution_count": 10,
   "metadata": {},
   "outputs": [
    {
     "name": "stdout",
     "output_type": "stream",
     "text": [
      "(5000, 10) [[ 52  38  12 ...  76  10  28]\n",
      " [ 26   4  82 ...   6  66  61]\n",
      " [100  54  25 ...  89  80  33]\n",
      " ...\n",
      " [ 32  66  54 ...  81   3   7]\n",
      " [ 67  92   4 ...  12  26  70]\n",
      " [ 13  11  25 ...  39  18  47]]\n"
     ]
    }
   ],
   "source": [
    "print(choices.shape, choices)"
   ]
  },
  {
   "cell_type": "markdown",
   "metadata": {},
   "source": [
    "### family id, choice to cost"
   ]
  },
  {
   "cell_type": "code",
   "execution_count": 11,
   "metadata": {},
   "outputs": [],
   "source": [
    "# table from [family_id, choice] to preference cost\n",
    "family_id_choice_to_pref_cost = (\n",
    "    fixed_family_cost.reshape(1, -1) +\n",
    "    n_people.reshape(-1, 1) * fixed_person_cost.reshape(1, -1)\n",
    ")"
   ]
  },
  {
   "cell_type": "code",
   "execution_count": 12,
   "metadata": {},
   "outputs": [
    {
     "data": {
      "text/plain": [
       "array([[   0,   50,   86, ...,  544, 1440, 2236],\n",
       "       [   0,   50,   86, ...,  544, 1440, 2236],\n",
       "       [   0,   50,   77, ...,  508, 1205, 1802],\n",
       "       ...,\n",
       "       [   0,   50,  104, ...,  616, 1910, 3104],\n",
       "       [   0,   50,   95, ...,  580, 1675, 2670],\n",
       "       [   0,   50,   86, ...,  544, 1440, 2236]])"
      ]
     },
     "execution_count": 12,
     "metadata": {},
     "output_type": "execute_result"
    }
   ],
   "source": [
    "family_id_choice_to_pref_cost"
   ]
  },
  {
   "cell_type": "code",
   "execution_count": 13,
   "metadata": {},
   "outputs": [
    {
     "data": {
      "text/plain": [
       "array([[ 52,  38,  12, ...,  76,  10,  28],\n",
       "       [ 26,   4,  82, ...,   6,  66,  61],\n",
       "       [100,  54,  25, ...,  89,  80,  33],\n",
       "       ...,\n",
       "       [ 32,  66,  54, ...,  81,   3,   7],\n",
       "       [ 67,  92,   4, ...,  12,  26,  70],\n",
       "       [ 13,  11,  25, ...,  39,  18,  47]])"
      ]
     },
     "execution_count": 13,
     "metadata": {},
     "output_type": "execute_result"
    }
   ],
   "source": [
    "choices"
   ]
  },
  {
   "cell_type": "code",
   "execution_count": 14,
   "metadata": {},
   "outputs": [
    {
     "data": {
      "text/plain": [
       "array([[2236, 2236, 2236, ..., 2236, 2236, 2236],\n",
       "       [2236, 2236, 2236, ..., 2236, 2236, 2236],\n",
       "       [1802, 1802, 1802, ..., 1802, 1802, 1802],\n",
       "       ...,\n",
       "       [3104, 3104, 3104, ..., 3104, 3104, 3104],\n",
       "       [2670, 2670, 2670, ..., 2670, 2670, 2670],\n",
       "       [2236, 2236, 2236, ..., 2236, 2236, 2236]])"
      ]
     },
     "execution_count": 14,
     "metadata": {},
     "output_type": "execute_result"
    }
   ],
   "source": [
    "np.repeat(family_id_choice_to_pref_cost[:, [-1]], 101, axis=1)"
   ]
  },
  {
   "cell_type": "code",
   "execution_count": 15,
   "metadata": {},
   "outputs": [
    {
     "data": {
      "text/plain": [
       "array([   0,   50,   77,  127,  227,  254,  354,  408,  508, 1205])"
      ]
     },
     "execution_count": 15,
     "metadata": {},
     "output_type": "execute_result"
    }
   ],
   "source": [
    "family_id_choice_to_pref_cost[2, :-1]"
   ]
  },
  {
   "cell_type": "markdown",
   "metadata": {},
   "source": [
    "### family id, days to cost"
   ]
  },
  {
   "cell_type": "code",
   "execution_count": 16,
   "metadata": {},
   "outputs": [],
   "source": [
    "# table from [family_id, days] to preference cost\n",
    "family_id_days_to_pref_cost = np.repeat(family_id_choice_to_pref_cost[:, [-1]], 101, axis=1)\n",
    "for f in range(len(family_id_days_to_pref_cost)):\n",
    "    family_id_days_to_pref_cost[f, choices[f]] = family_id_choice_to_pref_cost[f, :-1]\n",
    "\n",
    "# the zero day is not legal, put a huge number here to avoid bug\n",
    "family_id_days_to_pref_cost[:, 0] = 99999"
   ]
  },
  {
   "cell_type": "code",
   "execution_count": 17,
   "metadata": {},
   "outputs": [
    {
     "data": {
      "text/plain": [
       "array([[99999,  2236,  2236, ...,  2236,  2236,  2236],\n",
       "       [99999,  2236,  2236, ...,  2236,  2236,  2236],\n",
       "       [99999,  1802,  1802, ...,  1802,  1802,     0],\n",
       "       ...,\n",
       "       [99999,  3104,  3104, ...,  3104,  3104,  3104],\n",
       "       [99999,   390,  2670, ...,  2670,  2670,  2670],\n",
       "       [99999,  2236,  2236, ...,  2236,  2236,  2236]])"
      ]
     },
     "execution_count": 17,
     "metadata": {},
     "output_type": "execute_result"
    }
   ],
   "source": [
    "family_id_days_to_pref_cost"
   ]
  },
  {
   "cell_type": "code",
   "execution_count": 18,
   "metadata": {},
   "outputs": [
    {
     "data": {
      "text/plain": [
       "(5000, 101)"
      ]
     },
     "execution_count": 18,
     "metadata": {},
     "output_type": "execute_result"
    }
   ],
   "source": [
    "family_id_days_to_pref_cost.shape"
   ]
  },
  {
   "cell_type": "code",
   "execution_count": 19,
   "metadata": {},
   "outputs": [
    {
     "data": {
      "text/plain": [
       "family_id    2019\n",
       "choice_0       94\n",
       "choice_1       22\n",
       "choice_2       13\n",
       "choice_3       81\n",
       "choice_4       88\n",
       "choice_5       43\n",
       "choice_6       16\n",
       "choice_7       25\n",
       "choice_8       27\n",
       "choice_9       95\n",
       "n_people        6\n",
       "Name: 2019, dtype: int64"
      ]
     },
     "execution_count": 19,
     "metadata": {},
     "output_type": "execute_result"
    }
   ],
   "source": [
    "family_data.loc[2019]"
   ]
  },
  {
   "cell_type": "code",
   "execution_count": 20,
   "metadata": {},
   "outputs": [
    {
     "name": "stdout",
     "output_type": "stream",
     "text": [
      "0 0\n",
      "1910 1910\n"
     ]
    }
   ],
   "source": [
    "print(family_id_days_to_pref_cost[2019, 94], preference_cost_per_family[6, 0])\n",
    "print(family_id_days_to_pref_cost[2019, 95], preference_cost_per_family[6, 9])"
   ]
  },
  {
   "cell_type": "markdown",
   "metadata": {},
   "source": [
    "## Evaluate preference cost"
   ]
  },
  {
   "cell_type": "code",
   "execution_count": 21,
   "metadata": {},
   "outputs": [
    {
     "data": {
      "text/plain": [
       "array([ 3,  6,  8, 11])"
      ]
     },
     "execution_count": 21,
     "metadata": {},
     "output_type": "execute_result"
    }
   ],
   "source": [
    "np.array([[1,2,3], [4,5,6], [7,8,9], [10,11,12]])[np.arange(4), np.array([2,2,1,1])]"
   ]
  },
  {
   "cell_type": "code",
   "execution_count": 22,
   "metadata": {},
   "outputs": [
    {
     "data": {
      "text/plain": [
       "5000"
      ]
     },
     "execution_count": 22,
     "metadata": {},
     "output_type": "execute_result"
    }
   ],
   "source": [
    "len(family_id_days_to_pref_cost)"
   ]
  },
  {
   "cell_type": "code",
   "execution_count": 23,
   "metadata": {},
   "outputs": [],
   "source": [
    "def cal_total_preference(assigned_day):\n",
    "    return np.sum(family_id_days_to_pref_cost[np.arange(5000), assigned_day])"
   ]
  },
  {
   "cell_type": "code",
   "execution_count": 24,
   "metadata": {},
   "outputs": [],
   "source": [
    "sample_submission = pd.read_csv('../input/sample_submission.csv')"
   ]
  },
  {
   "cell_type": "code",
   "execution_count": 25,
   "metadata": {},
   "outputs": [],
   "source": [
    "assigned_day = sample_submission['assigned_day']"
   ]
  },
  {
   "cell_type": "code",
   "execution_count": 26,
   "metadata": {},
   "outputs": [
    {
     "data": {
      "text/plain": [
       "10639591"
      ]
     },
     "execution_count": 26,
     "metadata": {},
     "output_type": "execute_result"
    }
   ],
   "source": [
    "cal_total_preference(assigned_day)"
   ]
  },
  {
   "cell_type": "markdown",
   "metadata": {},
   "source": [
    "## Family on day cost"
   ]
  },
  {
   "cell_type": "code",
   "execution_count": 27,
   "metadata": {},
   "outputs": [
    {
     "data": {
      "text/html": [
       "<div>\n",
       "<style scoped>\n",
       "    .dataframe tbody tr th:only-of-type {\n",
       "        vertical-align: middle;\n",
       "    }\n",
       "\n",
       "    .dataframe tbody tr th {\n",
       "        vertical-align: top;\n",
       "    }\n",
       "\n",
       "    .dataframe thead th {\n",
       "        text-align: right;\n",
       "    }\n",
       "</style>\n",
       "<table border=\"1\" class=\"dataframe\">\n",
       "  <thead>\n",
       "    <tr style=\"text-align: right;\">\n",
       "      <th></th>\n",
       "      <th>family_id</th>\n",
       "      <th>choice_0</th>\n",
       "      <th>choice_1</th>\n",
       "      <th>choice_2</th>\n",
       "      <th>choice_3</th>\n",
       "      <th>choice_4</th>\n",
       "      <th>choice_5</th>\n",
       "      <th>choice_6</th>\n",
       "      <th>choice_7</th>\n",
       "      <th>choice_8</th>\n",
       "      <th>choice_9</th>\n",
       "      <th>n_people</th>\n",
       "    </tr>\n",
       "  </thead>\n",
       "  <tbody>\n",
       "    <tr>\n",
       "      <th>0</th>\n",
       "      <td>0</td>\n",
       "      <td>52</td>\n",
       "      <td>38</td>\n",
       "      <td>12</td>\n",
       "      <td>82</td>\n",
       "      <td>33</td>\n",
       "      <td>75</td>\n",
       "      <td>64</td>\n",
       "      <td>76</td>\n",
       "      <td>10</td>\n",
       "      <td>28</td>\n",
       "      <td>4</td>\n",
       "    </tr>\n",
       "    <tr>\n",
       "      <th>1</th>\n",
       "      <td>1</td>\n",
       "      <td>26</td>\n",
       "      <td>4</td>\n",
       "      <td>82</td>\n",
       "      <td>5</td>\n",
       "      <td>11</td>\n",
       "      <td>47</td>\n",
       "      <td>38</td>\n",
       "      <td>6</td>\n",
       "      <td>66</td>\n",
       "      <td>61</td>\n",
       "      <td>4</td>\n",
       "    </tr>\n",
       "    <tr>\n",
       "      <th>2</th>\n",
       "      <td>2</td>\n",
       "      <td>100</td>\n",
       "      <td>54</td>\n",
       "      <td>25</td>\n",
       "      <td>12</td>\n",
       "      <td>27</td>\n",
       "      <td>82</td>\n",
       "      <td>10</td>\n",
       "      <td>89</td>\n",
       "      <td>80</td>\n",
       "      <td>33</td>\n",
       "      <td>3</td>\n",
       "    </tr>\n",
       "    <tr>\n",
       "      <th>3</th>\n",
       "      <td>3</td>\n",
       "      <td>2</td>\n",
       "      <td>95</td>\n",
       "      <td>1</td>\n",
       "      <td>96</td>\n",
       "      <td>32</td>\n",
       "      <td>6</td>\n",
       "      <td>40</td>\n",
       "      <td>31</td>\n",
       "      <td>9</td>\n",
       "      <td>59</td>\n",
       "      <td>2</td>\n",
       "    </tr>\n",
       "    <tr>\n",
       "      <th>4</th>\n",
       "      <td>4</td>\n",
       "      <td>53</td>\n",
       "      <td>1</td>\n",
       "      <td>47</td>\n",
       "      <td>93</td>\n",
       "      <td>26</td>\n",
       "      <td>3</td>\n",
       "      <td>46</td>\n",
       "      <td>16</td>\n",
       "      <td>42</td>\n",
       "      <td>39</td>\n",
       "      <td>4</td>\n",
       "    </tr>\n",
       "    <tr>\n",
       "      <th>...</th>\n",
       "      <td>...</td>\n",
       "      <td>...</td>\n",
       "      <td>...</td>\n",
       "      <td>...</td>\n",
       "      <td>...</td>\n",
       "      <td>...</td>\n",
       "      <td>...</td>\n",
       "      <td>...</td>\n",
       "      <td>...</td>\n",
       "      <td>...</td>\n",
       "      <td>...</td>\n",
       "      <td>...</td>\n",
       "    </tr>\n",
       "    <tr>\n",
       "      <th>4995</th>\n",
       "      <td>4995</td>\n",
       "      <td>16</td>\n",
       "      <td>1</td>\n",
       "      <td>66</td>\n",
       "      <td>33</td>\n",
       "      <td>18</td>\n",
       "      <td>70</td>\n",
       "      <td>56</td>\n",
       "      <td>46</td>\n",
       "      <td>86</td>\n",
       "      <td>60</td>\n",
       "      <td>4</td>\n",
       "    </tr>\n",
       "    <tr>\n",
       "      <th>4996</th>\n",
       "      <td>4996</td>\n",
       "      <td>88</td>\n",
       "      <td>66</td>\n",
       "      <td>20</td>\n",
       "      <td>17</td>\n",
       "      <td>26</td>\n",
       "      <td>54</td>\n",
       "      <td>81</td>\n",
       "      <td>91</td>\n",
       "      <td>59</td>\n",
       "      <td>48</td>\n",
       "      <td>2</td>\n",
       "    </tr>\n",
       "    <tr>\n",
       "      <th>4997</th>\n",
       "      <td>4997</td>\n",
       "      <td>32</td>\n",
       "      <td>66</td>\n",
       "      <td>54</td>\n",
       "      <td>17</td>\n",
       "      <td>27</td>\n",
       "      <td>21</td>\n",
       "      <td>74</td>\n",
       "      <td>81</td>\n",
       "      <td>3</td>\n",
       "      <td>7</td>\n",
       "      <td>6</td>\n",
       "    </tr>\n",
       "    <tr>\n",
       "      <th>4998</th>\n",
       "      <td>4998</td>\n",
       "      <td>67</td>\n",
       "      <td>92</td>\n",
       "      <td>4</td>\n",
       "      <td>17</td>\n",
       "      <td>53</td>\n",
       "      <td>77</td>\n",
       "      <td>1</td>\n",
       "      <td>12</td>\n",
       "      <td>26</td>\n",
       "      <td>70</td>\n",
       "      <td>5</td>\n",
       "    </tr>\n",
       "    <tr>\n",
       "      <th>4999</th>\n",
       "      <td>4999</td>\n",
       "      <td>13</td>\n",
       "      <td>11</td>\n",
       "      <td>25</td>\n",
       "      <td>80</td>\n",
       "      <td>88</td>\n",
       "      <td>40</td>\n",
       "      <td>96</td>\n",
       "      <td>39</td>\n",
       "      <td>18</td>\n",
       "      <td>47</td>\n",
       "      <td>4</td>\n",
       "    </tr>\n",
       "  </tbody>\n",
       "</table>\n",
       "<p>5000 rows × 12 columns</p>\n",
       "</div>"
      ],
      "text/plain": [
       "      family_id  choice_0  choice_1  choice_2  choice_3  choice_4  choice_5  \\\n",
       "0             0        52        38        12        82        33        75   \n",
       "1             1        26         4        82         5        11        47   \n",
       "2             2       100        54        25        12        27        82   \n",
       "3             3         2        95         1        96        32         6   \n",
       "4             4        53         1        47        93        26         3   \n",
       "...         ...       ...       ...       ...       ...       ...       ...   \n",
       "4995       4995        16         1        66        33        18        70   \n",
       "4996       4996        88        66        20        17        26        54   \n",
       "4997       4997        32        66        54        17        27        21   \n",
       "4998       4998        67        92         4        17        53        77   \n",
       "4999       4999        13        11        25        80        88        40   \n",
       "\n",
       "      choice_6  choice_7  choice_8  choice_9  n_people  \n",
       "0           64        76        10        28         4  \n",
       "1           38         6        66        61         4  \n",
       "2           10        89        80        33         3  \n",
       "3           40        31         9        59         2  \n",
       "4           46        16        42        39         4  \n",
       "...        ...       ...       ...       ...       ...  \n",
       "4995        56        46        86        60         4  \n",
       "4996        81        91        59        48         2  \n",
       "4997        74        81         3         7         6  \n",
       "4998         1        12        26        70         5  \n",
       "4999        96        39        18        47         4  \n",
       "\n",
       "[5000 rows x 12 columns]"
      ]
     },
     "execution_count": 27,
     "metadata": {},
     "output_type": "execute_result"
    }
   ],
   "source": [
    "family_data"
   ]
  },
  {
   "cell_type": "code",
   "execution_count": 28,
   "metadata": {},
   "outputs": [],
   "source": [
    "# get a test case\n",
    "family_data['assigned_day'] = sample_submission['assigned_day']"
   ]
  },
  {
   "cell_type": "code",
   "execution_count": 29,
   "metadata": {},
   "outputs": [
    {
     "data": {
      "text/html": [
       "<div>\n",
       "<style scoped>\n",
       "    .dataframe tbody tr th:only-of-type {\n",
       "        vertical-align: middle;\n",
       "    }\n",
       "\n",
       "    .dataframe tbody tr th {\n",
       "        vertical-align: top;\n",
       "    }\n",
       "\n",
       "    .dataframe thead th {\n",
       "        text-align: right;\n",
       "    }\n",
       "</style>\n",
       "<table border=\"1\" class=\"dataframe\">\n",
       "  <thead>\n",
       "    <tr style=\"text-align: right;\">\n",
       "      <th></th>\n",
       "      <th>family_id</th>\n",
       "      <th>choice_0</th>\n",
       "      <th>choice_1</th>\n",
       "      <th>choice_2</th>\n",
       "      <th>choice_3</th>\n",
       "      <th>choice_4</th>\n",
       "      <th>choice_5</th>\n",
       "      <th>choice_6</th>\n",
       "      <th>choice_7</th>\n",
       "      <th>choice_8</th>\n",
       "      <th>choice_9</th>\n",
       "      <th>n_people</th>\n",
       "      <th>assigned_day</th>\n",
       "    </tr>\n",
       "  </thead>\n",
       "  <tbody>\n",
       "    <tr>\n",
       "      <th>0</th>\n",
       "      <td>0</td>\n",
       "      <td>52</td>\n",
       "      <td>38</td>\n",
       "      <td>12</td>\n",
       "      <td>82</td>\n",
       "      <td>33</td>\n",
       "      <td>75</td>\n",
       "      <td>64</td>\n",
       "      <td>76</td>\n",
       "      <td>10</td>\n",
       "      <td>28</td>\n",
       "      <td>4</td>\n",
       "      <td>100</td>\n",
       "    </tr>\n",
       "    <tr>\n",
       "      <th>1</th>\n",
       "      <td>1</td>\n",
       "      <td>26</td>\n",
       "      <td>4</td>\n",
       "      <td>82</td>\n",
       "      <td>5</td>\n",
       "      <td>11</td>\n",
       "      <td>47</td>\n",
       "      <td>38</td>\n",
       "      <td>6</td>\n",
       "      <td>66</td>\n",
       "      <td>61</td>\n",
       "      <td>4</td>\n",
       "      <td>99</td>\n",
       "    </tr>\n",
       "    <tr>\n",
       "      <th>2</th>\n",
       "      <td>2</td>\n",
       "      <td>100</td>\n",
       "      <td>54</td>\n",
       "      <td>25</td>\n",
       "      <td>12</td>\n",
       "      <td>27</td>\n",
       "      <td>82</td>\n",
       "      <td>10</td>\n",
       "      <td>89</td>\n",
       "      <td>80</td>\n",
       "      <td>33</td>\n",
       "      <td>3</td>\n",
       "      <td>98</td>\n",
       "    </tr>\n",
       "    <tr>\n",
       "      <th>3</th>\n",
       "      <td>3</td>\n",
       "      <td>2</td>\n",
       "      <td>95</td>\n",
       "      <td>1</td>\n",
       "      <td>96</td>\n",
       "      <td>32</td>\n",
       "      <td>6</td>\n",
       "      <td>40</td>\n",
       "      <td>31</td>\n",
       "      <td>9</td>\n",
       "      <td>59</td>\n",
       "      <td>2</td>\n",
       "      <td>97</td>\n",
       "    </tr>\n",
       "    <tr>\n",
       "      <th>4</th>\n",
       "      <td>4</td>\n",
       "      <td>53</td>\n",
       "      <td>1</td>\n",
       "      <td>47</td>\n",
       "      <td>93</td>\n",
       "      <td>26</td>\n",
       "      <td>3</td>\n",
       "      <td>46</td>\n",
       "      <td>16</td>\n",
       "      <td>42</td>\n",
       "      <td>39</td>\n",
       "      <td>4</td>\n",
       "      <td>96</td>\n",
       "    </tr>\n",
       "  </tbody>\n",
       "</table>\n",
       "</div>"
      ],
      "text/plain": [
       "   family_id  choice_0  choice_1  choice_2  choice_3  choice_4  choice_5  \\\n",
       "0          0        52        38        12        82        33        75   \n",
       "1          1        26         4        82         5        11        47   \n",
       "2          2       100        54        25        12        27        82   \n",
       "3          3         2        95         1        96        32         6   \n",
       "4          4        53         1        47        93        26         3   \n",
       "\n",
       "   choice_6  choice_7  choice_8  choice_9  n_people  assigned_day  \n",
       "0        64        76        10        28         4           100  \n",
       "1        38         6        66        61         4            99  \n",
       "2        10        89        80        33         3            98  \n",
       "3        40        31         9        59         2            97  \n",
       "4        46        16        42        39         4            96  "
      ]
     },
     "execution_count": 29,
     "metadata": {},
     "output_type": "execute_result"
    }
   ],
   "source": [
    "family_data.head()"
   ]
  },
  {
   "cell_type": "code",
   "execution_count": 30,
   "metadata": {},
   "outputs": [],
   "source": [
    "occupancy = (\n",
    "    np.concatenate([[0], family_data.groupby('assigned_day')['n_people'].sum().values, [-1]])\n",
    ")\n",
    "occupancy[-1] = occupancy[-2]"
   ]
  },
  {
   "cell_type": "code",
   "execution_count": 31,
   "metadata": {},
   "outputs": [
    {
     "data": {
      "text/plain": [
       "(102,)"
      ]
     },
     "execution_count": 31,
     "metadata": {},
     "output_type": "execute_result"
    }
   ],
   "source": [
    "occupancy.shape"
   ]
  },
  {
   "cell_type": "code",
   "execution_count": 32,
   "metadata": {},
   "outputs": [
    {
     "data": {
      "text/plain": [
       "array([  0, 203, 230, 206, 217, 221, 198, 207, 214, 207, 237, 216, 192,\n",
       "       205, 210, 206, 200, 212, 188, 201, 216, 209, 214, 198, 209, 207,\n",
       "       217, 201, 228, 206, 211, 225, 233, 199, 204, 203, 212, 196, 207,\n",
       "       214, 201, 220, 209, 208, 224, 203, 226, 207, 205, 199, 214, 212,\n",
       "       199, 213, 213, 210, 201, 198, 215, 195, 211, 227, 205, 222, 219,\n",
       "       204, 203, 189, 197, 207, 210, 218, 223, 203, 213, 199, 208, 211,\n",
       "       217, 226, 204, 232, 211, 209, 214, 211, 203, 204, 212, 220, 211,\n",
       "       237, 207, 197, 210, 203, 233, 204, 209, 203, 206, 206])"
      ]
     },
     "execution_count": 32,
     "metadata": {},
     "output_type": "execute_result"
    }
   ],
   "source": [
    "occupancy"
   ]
  },
  {
   "cell_type": "code",
   "execution_count": 33,
   "metadata": {},
   "outputs": [
    {
     "data": {
      "text/plain": [
       "array([27, 24, 11,  4, 23,  9,  7,  7, 30, 21, 24, 13,  5,  4,  6, 12, 24,\n",
       "       13, 15,  7,  5, 16, 11,  2, 10, 16, 27, 22,  5, 14,  8, 34,  5,  1,\n",
       "        9, 16, 11,  7, 13, 19, 11,  1, 16, 21, 23, 19,  2,  6, 15,  2, 13,\n",
       "       14,  0,  3,  9,  3, 17, 20, 16, 16, 22, 17,  3, 15,  1, 14,  8, 10,\n",
       "        3,  8,  5, 20, 10, 14,  9,  3,  6,  9, 22, 28, 21,  2,  5,  3,  8,\n",
       "        1,  8,  8,  9, 26, 30, 10, 13,  7, 30, 29,  5,  6,  3,  0])"
      ]
     },
     "execution_count": 33,
     "metadata": {},
     "output_type": "execute_result"
    }
   ],
   "source": [
    "np.abs(np.concatenate([np.diff(occupancy[1:-1]), [0]]))"
   ]
  },
  {
   "cell_type": "code",
   "execution_count": 34,
   "metadata": {},
   "outputs": [],
   "source": [
    "def cal_total_accounting(occupancy):\n",
    "    assert len(occupancy) == 102\n",
    "    occupancy = occupancy[1:-1]\n",
    "    return np.sum(\n",
    "        (occupancy - 125) / 400 * \n",
    "        occupancy ** (\n",
    "            0.5 + np.abs(np.concatenate([np.diff(occupancy), [0]])) / 50\n",
    "        )\n",
    "    )"
   ]
  },
  {
   "cell_type": "code",
   "execution_count": 35,
   "metadata": {},
   "outputs": [
    {
     "data": {
      "text/plain": [
       "1907.4031350226594"
      ]
     },
     "execution_count": 35,
     "metadata": {},
     "output_type": "execute_result"
    }
   ],
   "source": [
    "cal_total_accounting(occupancy)"
   ]
  },
  {
   "cell_type": "code",
   "execution_count": 36,
   "metadata": {},
   "outputs": [],
   "source": [
    "def cal_total(assigned_day, occupancy):\n",
    "    return cal_total_preference(assigned_day) + cal_total_accounting(occupancy)"
   ]
  },
  {
   "cell_type": "code",
   "execution_count": 37,
   "metadata": {},
   "outputs": [
    {
     "data": {
      "text/plain": [
       "10641498.403135022"
      ]
     },
     "execution_count": 37,
     "metadata": {},
     "output_type": "execute_result"
    }
   ],
   "source": [
    "cal_total(assigned_day, occupancy)"
   ]
  },
  {
   "cell_type": "markdown",
   "metadata": {},
   "source": [
    "## Difference of Exchange Cost"
   ]
  },
  {
   "cell_type": "markdown",
   "metadata": {},
   "source": [
    "### Precompute accounting cost"
   ]
  },
  {
   "cell_type": "code",
   "execution_count": 38,
   "metadata": {},
   "outputs": [
    {
     "data": {
      "text/plain": [
       "90601"
      ]
     },
     "execution_count": 38,
     "metadata": {},
     "output_type": "execute_result"
    }
   ],
   "source": [
    "301*301"
   ]
  },
  {
   "cell_type": "code",
   "execution_count": 39,
   "metadata": {},
   "outputs": [],
   "source": [
    "# precomputed accounting penalty\n",
    "# table from (nd, nd+1) to accounting penalty of the d day\n",
    "# where nd is the occupancy of the d day\n",
    "nd_ndp1_to_account_penality = np.array([\n",
    "    [\n",
    "        (nd - 125) / 400 * nd ** (0.5 + abs(nd - ndp1) / 50)\n",
    "        for ndp1 in range(301)\n",
    "    ] \n",
    "    for nd in range(301)\n",
    "])"
   ]
  },
  {
   "cell_type": "code",
   "execution_count": 40,
   "metadata": {},
   "outputs": [
    {
     "data": {
      "text/plain": [
       "array([[-0.00000000e+00, -0.00000000e+00, -0.00000000e+00, ...,\n",
       "        -0.00000000e+00, -0.00000000e+00, -0.00000000e+00],\n",
       "       [-3.10000000e-01, -3.10000000e-01, -3.10000000e-01, ...,\n",
       "        -3.10000000e-01, -3.10000000e-01, -3.10000000e-01],\n",
       "       [-4.47096549e-01, -4.40941239e-01, -4.34870670e-01, ...,\n",
       "        -2.63304143e+01, -2.66979732e+01, -2.70706630e+01],\n",
       "       ...,\n",
       "       [ 4.16316072e+15,  3.71482922e+15,  3.31477861e+15, ...,\n",
       "         7.46610759e+00,  8.36716954e+00,  9.37697794e+00],\n",
       "       [ 4.79555148e+15,  4.27883100e+15,  3.81778713e+15, ...,\n",
       "         8.43020770e+00,  7.52185316e+00,  8.43020770e+00],\n",
       "       [ 5.52415954e+15,  4.92860244e+15,  4.39725208e+15, ...,\n",
       "         9.51970597e+00,  8.49339085e+00,  7.57772228e+00]])"
      ]
     },
     "execution_count": 40,
     "metadata": {},
     "output_type": "execute_result"
    }
   ],
   "source": [
    "nd_ndp1_to_account_penality"
   ]
  },
  {
   "cell_type": "code",
   "execution_count": 41,
   "metadata": {},
   "outputs": [],
   "source": [
    "import seaborn as sns\n",
    "import matplotlib.pylab as plt"
   ]
  },
  {
   "cell_type": "code",
   "execution_count": 42,
   "metadata": {},
   "outputs": [
    {
     "data": {
      "text/plain": [
       "array([[0.00000000e+00, 0.00000000e+00, 0.00000000e+00, ...,\n",
       "        0.00000000e+00, 0.00000000e+00, 0.00000000e+00],\n",
       "       [3.09123977e-02, 2.80624304e-02, 3.09123977e-02, ...,\n",
       "        4.71411265e+05, 5.19286901e+05, 5.72024695e+05],\n",
       "       [6.83949464e-02, 6.20794612e-02, 5.63471383e-02, ...,\n",
       "        8.82837130e+05, 9.72650165e+05, 1.07160008e+06],\n",
       "       ...,\n",
       "       [2.71570454e+09, 2.42324984e+09, 2.16228964e+09, ...,\n",
       "        7.46610759e+00, 8.36716954e+00, 9.37697794e+00],\n",
       "       [3.10213423e+09, 2.76787940e+09, 2.46964050e+09, ...,\n",
       "        8.43020770e+00, 7.52185316e+00, 8.43020770e+00],\n",
       "       [3.54375000e+09, 3.16169994e+09, 2.82083852e+09, ...,\n",
       "        9.51970597e+00, 8.49339085e+00, 7.57772228e+00]])"
      ]
     },
     "execution_count": 42,
     "metadata": {},
     "output_type": "execute_result"
    }
   ],
   "source": [
    "nd_ndp1_to_account_penality[125:, 125:]"
   ]
  },
  {
   "cell_type": "code",
   "execution_count": 43,
   "metadata": {},
   "outputs": [
    {
     "data": {
      "text/plain": [
       "dtype('float64')"
      ]
     },
     "execution_count": 43,
     "metadata": {},
     "output_type": "execute_result"
    }
   ],
   "source": [
    "nd_ndp1_to_account_penality.dtype"
   ]
  },
  {
   "cell_type": "code",
   "execution_count": 44,
   "metadata": {},
   "outputs": [
    {
     "data": {
      "image/png": "[encoded data removed]",
      "text/plain": [
       "<Figure size 576x504 with 2 Axes>"
      ]
     },
     "metadata": {
      "needs_background": "light"
     },
     "output_type": "display_data"
    }
   ],
   "source": [
    "# account penalty for two days with Nd and Nd+1 occupancy\n",
    "plt.figure(figsize=(8, 7))\n",
    "ax = sns.heatmap(np.log10(nd_ndp1_to_account_penality[125:, 125:]+1))\n",
    "plt.show()"
   ]
  },
  {
   "cell_type": "markdown",
   "metadata": {},
   "source": [
    "### Single move"
   ]
  },
  {
   "cell_type": "code",
   "execution_count": 45,
   "metadata": {},
   "outputs": [
    {
     "data": {
      "text/plain": [
       "array([  0, 203, 230, 206, 217, 221, 198, 207, 214, 207, 237, 216, 192,\n",
       "       205, 210, 206, 200, 212, 188, 201, 216, 209, 214, 198, 209, 207,\n",
       "       217, 201, 228, 206, 211, 225, 233, 199, 204, 203, 212, 196, 207,\n",
       "       214, 201, 220, 209, 208, 224, 203, 226, 207, 205, 199, 214, 212,\n",
       "       199, 213, 213, 210, 201, 198, 215, 195, 211, 227, 205, 222, 219,\n",
       "       204, 203, 189, 197, 207, 210, 218, 223, 203, 213, 199, 208, 211,\n",
       "       217, 226, 204, 232, 211, 209, 214, 211, 203, 204, 212, 220, 211,\n",
       "       237, 207, 197, 210, 203, 233, 204, 209, 203, 206, 206])"
      ]
     },
     "execution_count": 45,
     "metadata": {},
     "output_type": "execute_result"
    }
   ],
   "source": [
    "occupancy"
   ]
  },
  {
   "cell_type": "code",
   "execution_count": 46,
   "metadata": {},
   "outputs": [],
   "source": [
    "day0 = 3; day1 = 100"
   ]
  },
  {
   "cell_type": "code",
   "execution_count": 47,
   "metadata": {},
   "outputs": [
    {
     "name": "stdout",
     "output_type": "stream",
     "text": [
      "206 217\n",
      "206 206\n"
     ]
    }
   ],
   "source": [
    "print(occupancy[day0], occupancy[day0+1])\n",
    "print(occupancy[day1], occupancy[day1+1])"
   ]
  },
  {
   "cell_type": "code",
   "execution_count": 48,
   "metadata": {},
   "outputs": [],
   "source": [
    "day0 = 3; day1 = np.array([4, 100])"
   ]
  },
  {
   "cell_type": "code",
   "execution_count": 49,
   "metadata": {},
   "outputs": [
    {
     "name": "stdout",
     "output_type": "stream",
     "text": [
      "206 217\n",
      "[217 206] [221 206]\n"
     ]
    }
   ],
   "source": [
    "print(occupancy[day0], occupancy[day0+1])\n",
    "print(occupancy[day1], occupancy[day1+1])"
   ]
  },
  {
   "cell_type": "code",
   "execution_count": 50,
   "metadata": {},
   "outputs": [
    {
     "data": {
      "text/plain": [
       "9.384462996790385"
      ]
     },
     "execution_count": 50,
     "metadata": {},
     "output_type": "execute_result"
    }
   ],
   "source": [
    "nd_ndp1_to_account_penality[occupancy[day0], occupancy[day0+1]]"
   ]
  },
  {
   "cell_type": "code",
   "execution_count": 51,
   "metadata": {},
   "outputs": [
    {
     "data": {
      "text/plain": [
       "array([5.21044099, 2.90642177])"
      ]
     },
     "execution_count": 51,
     "metadata": {},
     "output_type": "execute_result"
    }
   ],
   "source": [
    "nd_ndp1_to_account_penality[occupancy[day1], occupancy[day1+1]]"
   ]
  },
  {
   "cell_type": "code",
   "execution_count": 52,
   "metadata": {},
   "outputs": [],
   "source": [
    "occ_day0 = occupancy[day0]\n",
    "occ_day0p1 = occupancy[day0+1]\n",
    "occ_day1 = occupancy[day1]\n",
    "occ_day1p1 = occupancy[day1+1]"
   ]
  },
  {
   "cell_type": "code",
   "execution_count": 53,
   "metadata": {},
   "outputs": [
    {
     "data": {
      "text/plain": [
       "array([14.59490399, 12.29088477])"
      ]
     },
     "execution_count": 53,
     "metadata": {},
     "output_type": "execute_result"
    }
   ],
   "source": [
    "nd_ndp1_to_account_penality[occ_day0, occ_day0p1] + nd_ndp1_to_account_penality[occ_day1, occ_day1p1]"
   ]
  },
  {
   "cell_type": "code",
   "execution_count": 54,
   "metadata": {},
   "outputs": [],
   "source": [
    "n = 4  # family size"
   ]
  },
  {
   "cell_type": "code",
   "execution_count": 55,
   "metadata": {},
   "outputs": [
    {
     "data": {
      "text/plain": [
       "array([2.42262873, 5.88209792])"
      ]
     },
     "execution_count": 55,
     "metadata": {},
     "output_type": "execute_result"
    }
   ],
   "source": [
    "(\n",
    "    nd_ndp1_to_account_penality[occ_day0 - n, occ_day0p1] -\n",
    "    nd_ndp1_to_account_penality[occ_day0, occ_day0p1] + \n",
    "    nd_ndp1_to_account_penality[occ_day1 + n, occ_day1p1] - \n",
    "    nd_ndp1_to_account_penality[occ_day1, occ_day1p1]\n",
    ")"
   ]
  },
  {
   "cell_type": "code",
   "execution_count": 56,
   "metadata": {},
   "outputs": [],
   "source": [
    "def cal_diff_1_accounting_c(occupancy, day0, day1, n):\n",
    "    \"\"\" Difference in the accounting penalty for moving a family of size n from day0 to day1 \n",
    "        given the current occupancy at day0.\n",
    "        (Incorrect when |day0 - day1| = 1)\n",
    "    \"\"\"\n",
    "    occ_day0m1 = occupancy[day0 - 1]\n",
    "    occ_day0 = occupancy[day0]\n",
    "    occ_day0p1 = occupancy[day0 + 1]\n",
    "    occ_day1m1 = occupancy[day1 - 1]\n",
    "    occ_day1 = occupancy[day1]\n",
    "    occ_day1p1 = occupancy[day1 + 1]\n",
    "\n",
    "    diff = 0.\n",
    "    # difference in day 0 accounting penalty\n",
    "    if day0 != 1:\n",
    "        diff += (\n",
    "            nd_ndp1_to_account_penality[occ_day0m1, occ_day0 - n] -            \n",
    "            nd_ndp1_to_account_penality[occ_day0m1, occ_day0]\n",
    "        )\n",
    "    if day0 != 100:\n",
    "        diff += (\n",
    "            nd_ndp1_to_account_penality[occ_day0 - n, occ_day0p1] -\n",
    "            nd_ndp1_to_account_penality[occ_day0, occ_day0p1]\n",
    "        )\n",
    "    else:\n",
    "        diff += (\n",
    "            nd_ndp1_to_account_penality[occ_day0 - n, occ_day0 - n] -\n",
    "            nd_ndp1_to_account_penality[occ_day0, occ_day0]\n",
    "        )\n",
    "    # difference in day 1 accounting penalty\n",
    "    if day1 != 1:\n",
    "        diff += (\n",
    "            nd_ndp1_to_account_penality[occ_day1m1, occ_day1 + n] -            \n",
    "            nd_ndp1_to_account_penality[occ_day1m1, occ_day1]\n",
    "        )\n",
    "    if day1 != 100:\n",
    "        diff += (\n",
    "            nd_ndp1_to_account_penality[occ_day1 + n, occ_day1p1] -\n",
    "            nd_ndp1_to_account_penality[occ_day1, occ_day1p1]\n",
    "        )\n",
    "    else:\n",
    "        diff += (\n",
    "            nd_ndp1_to_account_penality[occ_day1 + n, occ_day1 + n] -\n",
    "            nd_ndp1_to_account_penality[occ_day1, occ_day1]\n",
    "        )\n",
    "    return diff"
   ]
  },
  {
   "cell_type": "code",
   "execution_count": 57,
   "metadata": {},
   "outputs": [],
   "source": [
    "def cal_diff_1_accounting_b(occupancy, day0, day1, n):\n",
    "    \"\"\" Incorrect version\n",
    "        Difference in the accounting penalty for moving a family of size n from day0 to day1 \n",
    "        given the current occupancy at day0.\n",
    "    \"\"\"\n",
    "    # if dayi = 0, then dayi - 1\n",
    "    occ_day0m1 = occupancy[day0 - 1]\n",
    "    occ_day0 = occupancy[day0]\n",
    "    occ_day0p1 = occupancy[day0 + 1]\n",
    "    occ_day1m1 = occupancy[day1 - 1]\n",
    "    occ_day1 = occupancy[day1]\n",
    "    occ_day1p1 = occupancy[day1 + 1]\n",
    "    return (\n",
    "        # difference in day 0 accounting penalty\n",
    "        (\n",
    "            nd_ndp1_to_account_penality[occ_day0m1, occ_day0 - n] +\n",
    "            nd_ndp1_to_account_penality[occ_day0 - n, occ_day0p1]\n",
    "        ) -\n",
    "        (\n",
    "            nd_ndp1_to_account_penality[occ_day0m1, occ_day0] +\n",
    "            nd_ndp1_to_account_penality[occ_day0, occ_day0p1]\n",
    "        ) +\n",
    "        # difference in day 1 accounting penalty\n",
    "        (\n",
    "            nd_ndp1_to_account_penality[occ_day1m1, occ_day1 + n] +\n",
    "            nd_ndp1_to_account_penality[occ_day1 + n, occ_day1p1]\n",
    "        ) - \n",
    "        (\n",
    "            nd_ndp1_to_account_penality[occ_day1m1, occ_day1] +\n",
    "            nd_ndp1_to_account_penality[occ_day1, occ_day1p1]\n",
    "        )\n",
    "    )"
   ]
  },
  {
   "cell_type": "code",
   "execution_count": 58,
   "metadata": {},
   "outputs": [],
   "source": [
    "def cal_diff_1_accounting(occupancy, day0, day1, n):\n",
    "    \"\"\" Difference in the accounting penalty for moving a family of size n from day0 to day1 \n",
    "        given the current occupancy at day0.\n",
    "    \"\"\"\n",
    "    # set of days that might affect their accounting penalties\n",
    "    day_set = set([day0 - 1, day0, day1 - 1, day1])\n",
    "    \n",
    "    diff = 0.\n",
    "    \n",
    "    for day in day_set:\n",
    "        if day == 100:\n",
    "            diff -= nd_ndp1_to_account_penality[occupancy[day], occupancy[day]]\n",
    "        elif day != 0:\n",
    "            diff -= nd_ndp1_to_account_penality[occupancy[day], occupancy[day+1]]\n",
    "\n",
    "    occupancy[day0] -= n\n",
    "    occupancy[day1] += n\n",
    "    \n",
    "    for day in day_set:\n",
    "        if day == 100:\n",
    "            diff += nd_ndp1_to_account_penality[occupancy[day], occupancy[day]]\n",
    "        elif day != 0:\n",
    "            diff += nd_ndp1_to_account_penality[occupancy[day], occupancy[day+1]]\n",
    "\n",
    "    occupancy[day0] += n\n",
    "    occupancy[day1] -= n\n",
    "    return diff"
   ]
  },
  {
   "cell_type": "code",
   "execution_count": 59,
   "metadata": {},
   "outputs": [
    {
     "data": {
      "text/plain": [
       "53.544854468471506"
      ]
     },
     "execution_count": 59,
     "metadata": {},
     "output_type": "execute_result"
    }
   ],
   "source": [
    "cal_diff_1_accounting(occupancy, 3, 4, 5)"
   ]
  },
  {
   "cell_type": "code",
   "execution_count": 60,
   "metadata": {},
   "outputs": [
    {
     "data": {
      "text/plain": [
       "49.864554903796915"
      ]
     },
     "execution_count": 60,
     "metadata": {},
     "output_type": "execute_result"
    }
   ],
   "source": [
    "cal_diff_1_accounting_b(occupancy, 3, 4, 5)"
   ]
  },
  {
   "cell_type": "code",
   "execution_count": 61,
   "metadata": {},
   "outputs": [
    {
     "data": {
      "text/plain": [
       "49.864554903796915"
      ]
     },
     "execution_count": 61,
     "metadata": {},
     "output_type": "execute_result"
    }
   ],
   "source": [
    "cal_diff_1_accounting_c(occupancy, 3, 4, 5)"
   ]
  },
  {
   "cell_type": "code",
   "execution_count": 62,
   "metadata": {},
   "outputs": [
    {
     "data": {
      "text/plain": [
       "24.07056928305616"
      ]
     },
     "execution_count": 62,
     "metadata": {},
     "output_type": "execute_result"
    }
   ],
   "source": [
    "cal_diff_1_accounting(occupancy, 1, 25, 5)"
   ]
  },
  {
   "cell_type": "code",
   "execution_count": 63,
   "metadata": {},
   "outputs": [
    {
     "data": {
      "text/plain": [
       "24.070569283056162"
      ]
     },
     "execution_count": 63,
     "metadata": {},
     "output_type": "execute_result"
    }
   ],
   "source": [
    "cal_diff_1_accounting_b(occupancy, 1, 25, 5)"
   ]
  },
  {
   "cell_type": "code",
   "execution_count": 64,
   "metadata": {},
   "outputs": [
    {
     "data": {
      "text/plain": [
       "24.07056928305616"
      ]
     },
     "execution_count": 64,
     "metadata": {},
     "output_type": "execute_result"
    }
   ],
   "source": [
    "cal_diff_1_accounting_c(occupancy, 1, 25, 5)"
   ]
  },
  {
   "cell_type": "code",
   "execution_count": 65,
   "metadata": {},
   "outputs": [
    {
     "data": {
      "text/plain": [
       "29.70110656637929"
      ]
     },
     "execution_count": 65,
     "metadata": {},
     "output_type": "execute_result"
    }
   ],
   "source": [
    "cal_diff_1_accounting(occupancy, 1, 100, 5)"
   ]
  },
  {
   "cell_type": "code",
   "execution_count": 66,
   "metadata": {},
   "outputs": [
    {
     "data": {
      "text/plain": [
       "31.91149754946615"
      ]
     },
     "execution_count": 66,
     "metadata": {},
     "output_type": "execute_result"
    }
   ],
   "source": [
    "cal_diff_1_accounting_b(occupancy, 1, 100, 5)"
   ]
  },
  {
   "cell_type": "code",
   "execution_count": 67,
   "metadata": {},
   "outputs": [
    {
     "data": {
      "text/plain": [
       "29.70110656637929"
      ]
     },
     "execution_count": 67,
     "metadata": {},
     "output_type": "execute_result"
    }
   ],
   "source": [
    "cal_diff_1_accounting_c(occupancy, 1, 100, 5)"
   ]
  },
  {
   "cell_type": "code",
   "execution_count": 87,
   "metadata": {},
   "outputs": [],
   "source": [
    "def cal_diff_1(family_id, occupancy, day0, day1):\n",
    "    \"\"\" Difference in the toal cost for moving the family family_id from day0 to day1 \n",
    "        given the current occupancy at day0.\n",
    "        Note: family_id, day0, or day1 don't support vertorization\n",
    "    \"\"\"\n",
    "    return (\n",
    "        family_id_days_to_pref_cost[family_id, day1] - family_id_days_to_pref_cost[family_id, day0]\n",
    "        + cal_diff_1_accounting(occupancy, day0, day1, n_people[family_id])\n",
    "    )"
   ]
  },
  {
   "cell_type": "code",
   "execution_count": 65,
   "metadata": {
    "scrolled": true
   },
   "outputs": [
    {
     "data": {
      "text/plain": [
       "97"
      ]
     },
     "execution_count": 65,
     "metadata": {},
     "output_type": "execute_result"
    }
   ],
   "source": [
    "assigned_day[3]"
   ]
  },
  {
   "cell_type": "code",
   "execution_count": 66,
   "metadata": {},
   "outputs": [
    {
     "data": {
      "text/plain": [
       "array([ 2, 95,  1, 96, 32,  6, 40, 31,  9, 59])"
      ]
     },
     "execution_count": 66,
     "metadata": {},
     "output_type": "execute_result"
    }
   ],
   "source": [
    "choices[3]"
   ]
  },
  {
   "cell_type": "code",
   "execution_count": 67,
   "metadata": {},
   "outputs": [
    {
     "data": {
      "text/plain": [
       "2"
      ]
     },
     "execution_count": 67,
     "metadata": {},
     "output_type": "execute_result"
    }
   ],
   "source": [
    "n_people[3]"
   ]
  },
  {
   "cell_type": "code",
   "execution_count": 68,
   "metadata": {},
   "outputs": [
    {
     "data": {
      "text/plain": [
       "970"
      ]
     },
     "execution_count": 68,
     "metadata": {},
     "output_type": "execute_result"
    }
   ],
   "source": [
    "family_id_days_to_pref_cost[3, 59]"
   ]
  },
  {
   "cell_type": "code",
   "execution_count": 110,
   "metadata": {},
   "outputs": [
    {
     "data": {
      "text/plain": [
       "-1182.264346233859"
      ]
     },
     "execution_count": 110,
     "metadata": {},
     "output_type": "execute_result"
    }
   ],
   "source": [
    "cal_single_diff(3, occupancy, 97, 96)"
   ]
  },
  {
   "cell_type": "markdown",
   "metadata": {},
   "source": [
    "#### Debug - Total accounting penalty using the table"
   ]
  },
  {
   "cell_type": "code",
   "execution_count": 70,
   "metadata": {},
   "outputs": [
    {
     "data": {
      "text/plain": [
       "1907.4031350226594"
      ]
     },
     "execution_count": 70,
     "metadata": {},
     "output_type": "execute_result"
    }
   ],
   "source": [
    "np.sum(nd_ndp1_to_account_penality[occupancy[1:-1], occupancy[2:]])"
   ]
  },
  {
   "cell_type": "code",
   "execution_count": 71,
   "metadata": {},
   "outputs": [
    {
     "data": {
      "text/plain": [
       "1907.4031350226594"
      ]
     },
     "execution_count": 71,
     "metadata": {},
     "output_type": "execute_result"
    }
   ],
   "source": [
    "cal_total_accounting(occupancy)"
   ]
  },
  {
   "cell_type": "code",
   "execution_count": 72,
   "metadata": {},
   "outputs": [],
   "source": [
    "def cal_family_on_day(assigned_day):\n",
    "    N_days = 100\n",
    "    # family_on_day\n",
    "    family_on_day = [set() for _ in range(N_days+1)] # 0 is empty set\n",
    "    for i, day in enumerate(assigned_day):\n",
    "        family_on_day[day].add(i)\n",
    "    return family_on_day"
   ]
  },
  {
   "cell_type": "code",
   "execution_count": 73,
   "metadata": {},
   "outputs": [],
   "source": [
    "family_on_day = cal_family_on_day(assigned_day)"
   ]
  },
  {
   "cell_type": "markdown",
   "metadata": {},
   "source": [
    "### Unit test"
   ]
  },
  {
   "cell_type": "code",
   "execution_count": 74,
   "metadata": {},
   "outputs": [],
   "source": [
    "from util_events import move_family"
   ]
  },
  {
   "cell_type": "code",
   "execution_count": 75,
   "metadata": {},
   "outputs": [],
   "source": [
    "from util_io import read_conf"
   ]
  },
  {
   "cell_type": "code",
   "execution_count": 89,
   "metadata": {
    "scrolled": false
   },
   "outputs": [
    {
     "name": "stdout",
     "output_type": "stream",
     "text": [
      "Read config completed.\n"
     ]
    }
   ],
   "source": [
    "assigned_day, family_on_day, occupancy = read_conf('../input/sample_submission.csv')"
   ]
  },
  {
   "cell_type": "code",
   "execution_count": 90,
   "metadata": {},
   "outputs": [],
   "source": [
    "assigned_day_o, occupancy_o, family_on_day_o = assigned_day.copy(), occupancy.copy(), family_on_day.copy()"
   ]
  },
  {
   "cell_type": "code",
   "execution_count": 91,
   "metadata": {},
   "outputs": [
    {
     "data": {
      "text/plain": [
       "10641498.403135022"
      ]
     },
     "execution_count": 91,
     "metadata": {},
     "output_type": "execute_result"
    }
   ],
   "source": [
    "cal_total(assigned_day_o, occupancy_o)"
   ]
  },
  {
   "cell_type": "code",
   "execution_count": 92,
   "metadata": {},
   "outputs": [
    {
     "data": {
      "text/plain": [
       "899"
      ]
     },
     "execution_count": 92,
     "metadata": {},
     "output_type": "execute_result"
    }
   ],
   "source": [
    "list(family_on_day[1])[0]"
   ]
  },
  {
   "cell_type": "code",
   "execution_count": 93,
   "metadata": {},
   "outputs": [],
   "source": [
    "ifamily = 899 # 3"
   ]
  },
  {
   "cell_type": "code",
   "execution_count": 94,
   "metadata": {},
   "outputs": [
    {
     "data": {
      "text/plain": [
       "1"
      ]
     },
     "execution_count": 94,
     "metadata": {},
     "output_type": "execute_result"
    }
   ],
   "source": [
    "day0 = assigned_day[ifamily]\n",
    "day0"
   ]
  },
  {
   "cell_type": "code",
   "execution_count": 95,
   "metadata": {},
   "outputs": [
    {
     "data": {
      "text/plain": [
       "array([81, 67, 11, 82, 12,  6, 26, 89, 25, 28])"
      ]
     },
     "execution_count": 95,
     "metadata": {},
     "output_type": "execute_result"
    }
   ],
   "source": [
    "choices[ifamily]"
   ]
  },
  {
   "cell_type": "code",
   "execution_count": 96,
   "metadata": {},
   "outputs": [
    {
     "data": {
      "text/plain": [
       "100"
      ]
     },
     "execution_count": 96,
     "metadata": {},
     "output_type": "execute_result"
    }
   ],
   "source": [
    "day1 = 100 # choices[ifamily][2]\n",
    "day1"
   ]
  },
  {
   "cell_type": "code",
   "execution_count": 97,
   "metadata": {},
   "outputs": [
    {
     "data": {
      "text/plain": [
       "22.72275768640914"
      ]
     },
     "execution_count": 97,
     "metadata": {},
     "output_type": "execute_result"
    }
   ],
   "source": [
    "cal_single_diff(ifamily, occupancy, day0, day1)"
   ]
  },
  {
   "cell_type": "code",
   "execution_count": 98,
   "metadata": {},
   "outputs": [],
   "source": [
    "move_family(ifamily, n_people[ifamily], day0, day1, assigned_day, family_on_day, occupancy)"
   ]
  },
  {
   "cell_type": "code",
   "execution_count": 99,
   "metadata": {},
   "outputs": [
    {
     "data": {
      "text/plain": [
       "22.722757687792182"
      ]
     },
     "execution_count": 99,
     "metadata": {},
     "output_type": "execute_result"
    }
   ],
   "source": [
    "cal_total(assigned_day, occupancy) - cal_total(assigned_day_o, occupancy_o)"
   ]
  },
  {
   "cell_type": "code",
   "execution_count": 100,
   "metadata": {},
   "outputs": [
    {
     "data": {
      "text/plain": [
       "array([125, 199, 210, 210], dtype=int32)"
      ]
     },
     "execution_count": 100,
     "metadata": {},
     "output_type": "execute_result"
    }
   ],
   "source": [
    "occupancy[[0,1,100,101]]"
   ]
  },
  {
   "cell_type": "markdown",
   "metadata": {},
   "source": [
    "### Vectorize"
   ]
  },
  {
   "cell_type": "code",
   "execution_count": 90,
   "metadata": {},
   "outputs": [],
   "source": [
    "def cal_diff_1_accounting_vec_c(occupancy, day0, day1, n):\n",
    "    \"\"\" (Incorrect version)\n",
    "        Difference in the accounting penalty for moving a family of size n from day0 to day1 \n",
    "        given the current occupancy at day0.\n",
    "    \"\"\"\n",
    "    occ_day0m1 = occupancy[day0 - 1]\n",
    "    occ_day0 = occupancy[day0]\n",
    "    occ_day0p1 = occupancy[day0 + 1]\n",
    "    occ_day1m1 = occupancy[day1 - 1]\n",
    "    occ_day1 = occupancy[day1]\n",
    "    occ_day1p1 = occupancy[day1 + 1]\n",
    "\n",
    "    return (\n",
    "        # difference in day 0 accounting penalty\n",
    "        (\n",
    "            nd_ndp1_to_account_penality[occ_day0m1, occ_day0 - n] -            \n",
    "            nd_ndp1_to_account_penality[occ_day0m1, occ_day0]\n",
    "        ) * (day0 != 1) +\n",
    "        np.where(\n",
    "            day0 != 100,\n",
    "            (\n",
    "                nd_ndp1_to_account_penality[occ_day0 - n, occ_day0p1] -\n",
    "                nd_ndp1_to_account_penality[occ_day0, occ_day0p1]\n",
    "            ),\n",
    "            (\n",
    "                nd_ndp1_to_account_penality[occ_day0 - n, occ_day0 - n] -\n",
    "                nd_ndp1_to_account_penality[occ_day0, occ_day0]\n",
    "            )\n",
    "        ) +\n",
    "        # difference in day 1 accounting penalty\n",
    "        (\n",
    "            nd_ndp1_to_account_penality[occ_day1m1, occ_day1 + n] -            \n",
    "            nd_ndp1_to_account_penality[occ_day1m1, occ_day1]\n",
    "        ) * (day1 != 1) +\n",
    "        np.where(\n",
    "            day1 != 100,\n",
    "            (\n",
    "                nd_ndp1_to_account_penality[occ_day1 + n, occ_day1p1] -\n",
    "                nd_ndp1_to_account_penality[occ_day1, occ_day1p1]\n",
    "            ),\n",
    "            (\n",
    "                nd_ndp1_to_account_penality[occ_day1 + n, occ_day1 + n] -\n",
    "                nd_ndp1_to_account_penality[occ_day1, occ_day1]\n",
    "            )\n",
    "        )\n",
    "    )"
   ]
  },
  {
   "cell_type": "code",
   "execution_count": 74,
   "metadata": {},
   "outputs": [],
   "source": [
    "def cal_diff_1_accounting_vec(occupancy, day0, day1, n):\n",
    "    \"\"\" Difference in the accounting penalty for moving a family of size n from day0 to day1 \n",
    "        given the current occupancy at day0.\n",
    "    \"\"\"\n",
    "    return np.array([cal_diff_1_accounting(occupancy, day0, d, n) for d in day1])"
   ]
  },
  {
   "cell_type": "code",
   "execution_count": 71,
   "metadata": {},
   "outputs": [
    {
     "data": {
      "text/plain": [
       "53.544854468471506"
      ]
     },
     "execution_count": 71,
     "metadata": {},
     "output_type": "execute_result"
    }
   ],
   "source": [
    "cal_diff_1_accounting(occupancy, 3, 4, 5)"
   ]
  },
  {
   "cell_type": "code",
   "execution_count": 75,
   "metadata": {},
   "outputs": [
    {
     "data": {
      "text/plain": [
       "array([53.54485447])"
      ]
     },
     "execution_count": 75,
     "metadata": {},
     "output_type": "execute_result"
    }
   ],
   "source": [
    "cal_diff_1_accounting_vec(occupancy, 3, [4], 5)"
   ]
  },
  {
   "cell_type": "code",
   "execution_count": 72,
   "metadata": {},
   "outputs": [
    {
     "data": {
      "text/plain": [
       "49.864554903796915"
      ]
     },
     "execution_count": 72,
     "metadata": {},
     "output_type": "execute_result"
    }
   ],
   "source": [
    "cal_diff_1_accounting_vec_c(occupancy, 3, 4, 5)"
   ]
  },
  {
   "cell_type": "code",
   "execution_count": 126,
   "metadata": {},
   "outputs": [
    {
     "data": {
      "text/plain": [
       "34.41808470504391"
      ]
     },
     "execution_count": 126,
     "metadata": {},
     "output_type": "execute_result"
    }
   ],
   "source": [
    "cal_diff_1_accounting(occupancy, 1, 25, 5)"
   ]
  },
  {
   "cell_type": "code",
   "execution_count": 127,
   "metadata": {},
   "outputs": [
    {
     "data": {
      "text/plain": [
       "34.41808470504391"
      ]
     },
     "execution_count": 127,
     "metadata": {},
     "output_type": "execute_result"
    }
   ],
   "source": [
    "cal_diff_1_accounting_vec(occupancy, 1, 25, 5)"
   ]
  },
  {
   "cell_type": "code",
   "execution_count": 128,
   "metadata": {},
   "outputs": [
    {
     "data": {
      "text/plain": [
       "41.471008805703306"
      ]
     },
     "execution_count": 128,
     "metadata": {},
     "output_type": "execute_result"
    }
   ],
   "source": [
    "cal_diff_1_accounting(occupancy, 1, 100, 5)"
   ]
  },
  {
   "cell_type": "code",
   "execution_count": 129,
   "metadata": {},
   "outputs": [
    {
     "data": {
      "text/plain": [
       "41.471008805703306"
      ]
     },
     "execution_count": 129,
     "metadata": {},
     "output_type": "execute_result"
    }
   ],
   "source": [
    "cal_diff_1_accounting_vec(occupancy, 1, 100, 5)"
   ]
  },
  {
   "cell_type": "code",
   "execution_count": 76,
   "metadata": {},
   "outputs": [
    {
     "name": "stdout",
     "output_type": "stream",
     "text": [
      "[-25.528861707265765, -26.761807068563268, 0.6410874900291628]\n"
     ]
    }
   ],
   "source": [
    "print([cal_diff_1_accounting(occupancy, x, 3, 5) for x in np.array([4, 100, 1])])"
   ]
  },
  {
   "cell_type": "code",
   "execution_count": 82,
   "metadata": {},
   "outputs": [],
   "source": [
    "#cal_diff_1_accounting_vec(occupancy, np.array([4, 100, 1]), 3, 5)"
   ]
  },
  {
   "cell_type": "code",
   "execution_count": 78,
   "metadata": {},
   "outputs": [
    {
     "name": "stdout",
     "output_type": "stream",
     "text": [
      "[53.544854468471506, 47.342101007792806, 26.819844578884343]\n"
     ]
    }
   ],
   "source": [
    "print([cal_diff_1_accounting(occupancy, 3, x, 5) for x in np.array([4, 100, 1])])"
   ]
  },
  {
   "cell_type": "code",
   "execution_count": 79,
   "metadata": {},
   "outputs": [
    {
     "data": {
      "text/plain": [
       "array([53.54485447, 47.34210101, 26.81984458])"
      ]
     },
     "execution_count": 79,
     "metadata": {},
     "output_type": "execute_result"
    }
   ],
   "source": [
    "cal_diff_1_accounting_vec(occupancy, 3, np.array([4, 100, 1]), 5)"
   ]
  },
  {
   "cell_type": "code",
   "execution_count": 80,
   "metadata": {},
   "outputs": [
    {
     "name": "stdout",
     "output_type": "stream",
     "text": [
      "[16.786448107698256, 27.139123081919248, 39.05375057535652, 53.544854468471506]\n"
     ]
    }
   ],
   "source": [
    "print([cal_diff_1_accounting(occupancy, 3, 4, x) for x in np.array([2,3,4,5])])"
   ]
  },
  {
   "cell_type": "code",
   "execution_count": 83,
   "metadata": {},
   "outputs": [],
   "source": [
    "#cal_diff_1_accounting_vec(occupancy, 3, 4, np.array([2,3,4,5]))"
   ]
  },
  {
   "cell_type": "code",
   "execution_count": 84,
   "metadata": {},
   "outputs": [],
   "source": [
    "def cal_diff_1_vec(family_id, occupancy, day0, day1):\n",
    "    \"\"\" Difference in the toal cost for moving the family family_id from day0 to day1 \n",
    "        given the current occupancy at day0.\n",
    "        Note: only day1 support vertorization  \n",
    "    \"\"\"\n",
    "    return (\n",
    "        family_id_days_to_pref_cost[family_id, day1] - family_id_days_to_pref_cost[family_id, day0]\n",
    "        + cal_diff_1_accounting_vec(occupancy, day0, day1, n_people[family_id])\n",
    "    )"
   ]
  },
  {
   "cell_type": "code",
   "execution_count": 146,
   "metadata": {
    "scrolled": true
   },
   "outputs": [
    {
     "data": {
      "text/plain": [
       "array([  68,    0, 1368])"
      ]
     },
     "execution_count": 146,
     "metadata": {},
     "output_type": "execute_result"
    }
   ],
   "source": [
    "family_id_days_to_pref_cost[3, [1,2,3]]"
   ]
  },
  {
   "cell_type": "code",
   "execution_count": 85,
   "metadata": {},
   "outputs": [
    {
     "data": {
      "text/plain": [
       "array([-1283.30163938, -1316.69993139,    12.50793924,    25.64824765])"
      ]
     },
     "execution_count": 85,
     "metadata": {},
     "output_type": "execute_result"
    }
   ],
   "source": [
    "cal_diff_1_vec(3, occupancy, 97, np.array([1, 2, 3, 100]))"
   ]
  },
  {
   "cell_type": "code",
   "execution_count": 88,
   "metadata": {},
   "outputs": [
    {
     "name": "stdout",
     "output_type": "stream",
     "text": [
      "[-1283.3016393839462, -1316.6999313946365, 12.507939241063339, 25.648247652016874]\n"
     ]
    }
   ],
   "source": [
    "print([cal_diff_1(3, occupancy, 97, x) for x in np.array([1, 2, 3, 100])])"
   ]
  },
  {
   "cell_type": "code",
   "execution_count": 89,
   "metadata": {},
   "outputs": [
    {
     "data": {
      "text/plain": [
       "array([-1283.30163938])"
      ]
     },
     "execution_count": 89,
     "metadata": {},
     "output_type": "execute_result"
    }
   ],
   "source": [
    "cal_diff_1_vec(3, occupancy, 97, np.array([1,]))"
   ]
  },
  {
   "cell_type": "markdown",
   "metadata": {},
   "source": [
    "### Multiple moves"
   ]
  },
  {
   "cell_type": "markdown",
   "metadata": {},
   "source": [
    "#### Accounting"
   ]
  },
  {
   "cell_type": "code",
   "execution_count": 92,
   "metadata": {},
   "outputs": [],
   "source": [
    "def cal_diff_n_accounting(occupancy, day0s, day1s, family_sizes):\n",
    "    \"\"\" Difference in the accounting penalty for moving a list of families \n",
    "        (each with sizes family_sizes) from day0s to day1s correspondingly\n",
    "        given the occupancy before move.\n",
    "        occupancy [np.array]: occupancy array before move\n",
    "        days0s [np.array]: day0 of each family\n",
    "        days1s [np.array]: day1 of each family\n",
    "        family_sizes [np.array]: family sizes of each family\n",
    "    \"\"\"\n",
    "    # set of days that might affect their accounting penalties\n",
    "    day_set = set(day0s - 1) | set(day0s) | set(day1s - 1) | set(day1s)\n",
    "    \n",
    "    diff = 0.\n",
    "    \n",
    "    for day in day_set:\n",
    "        if day == 100:\n",
    "            diff -= nd_ndp1_to_account_penality[occupancy[day], occupancy[day]]\n",
    "        elif day != 0:\n",
    "            diff -= nd_ndp1_to_account_penality[occupancy[day], occupancy[day+1]]\n",
    "    \n",
    "    for day0, day1, n in zip(day0s, day1s, family_sizes):\n",
    "        occupancy[day0] -= n\n",
    "        occupancy[day1] += n\n",
    "    \n",
    "    for day in day_set:\n",
    "        if day == 100:\n",
    "            diff += nd_ndp1_to_account_penality[occupancy[day], occupancy[day]]\n",
    "        elif day != 0:\n",
    "            diff += nd_ndp1_to_account_penality[occupancy[day], occupancy[day+1]]\n",
    "\n",
    "    for day0, day1, n in zip(day0s, day1s, family_sizes):\n",
    "        occupancy[day0] += n\n",
    "        occupancy[day1] -= n\n",
    "    return diff"
   ]
  },
  {
   "cell_type": "code",
   "execution_count": 94,
   "metadata": {},
   "outputs": [
    {
     "name": "stdout",
     "output_type": "stream",
     "text": [
      "[-25.528861707265765, -26.761807068563268, 0.6410874900291628]\n",
      "[-25.528861707265765, -26.761807068563268, 0.6410874900291628]\n"
     ]
    }
   ],
   "source": [
    "print([cal_diff_1_accounting(occupancy, x, 3, 5) for x in np.array([4, 100, 1])])\n",
    "print([cal_diff_n_accounting(occupancy, np.array([x]), np.array([3]), np.array([5])) for x in np.array([4, 100, 1])])"
   ]
  },
  {
   "cell_type": "code",
   "execution_count": 96,
   "metadata": {},
   "outputs": [
    {
     "name": "stdout",
     "output_type": "stream",
     "text": [
      "6.36 µs ± 198 ns per loop (mean ± std. dev. of 7 runs, 100000 loops each)\n"
     ]
    }
   ],
   "source": [
    "%timeit cal_diff_1_accounting(occupancy, 100, 3, 5)"
   ]
  },
  {
   "cell_type": "code",
   "execution_count": 97,
   "metadata": {},
   "outputs": [
    {
     "name": "stdout",
     "output_type": "stream",
     "text": [
      "18.4 µs ± 776 ns per loop (mean ± std. dev. of 7 runs, 10000 loops each)\n"
     ]
    }
   ],
   "source": [
    "%timeit cal_diff_n_accounting(occupancy, np.array([100]), np.array([3]), np.array([5]))"
   ]
  },
  {
   "cell_type": "code",
   "execution_count": 100,
   "metadata": {},
   "outputs": [
    {
     "data": {
      "text/plain": [
       "-1.670626553311421"
      ]
     },
     "execution_count": 100,
     "metadata": {},
     "output_type": "execute_result"
    }
   ],
   "source": [
    "cal_diff_n_accounting(occupancy, np.array([100, 20]), np.array([20, 100]), np.array([5, 6]))"
   ]
  },
  {
   "cell_type": "code",
   "execution_count": 101,
   "metadata": {},
   "outputs": [
    {
     "data": {
      "text/plain": [
       "1.9680442633509738"
      ]
     },
     "execution_count": 101,
     "metadata": {},
     "output_type": "execute_result"
    }
   ],
   "source": [
    "cal_diff_n_accounting(occupancy, np.array([100, 20]), np.array([20, 100]), np.array([5, 4]))"
   ]
  },
  {
   "cell_type": "code",
   "execution_count": 102,
   "metadata": {},
   "outputs": [
    {
     "data": {
      "text/plain": [
       "-1.7763568394002505e-15"
      ]
     },
     "execution_count": 102,
     "metadata": {},
     "output_type": "execute_result"
    }
   ],
   "source": [
    "cal_diff_n_accounting(occupancy, np.array([100, 20]), np.array([20, 100]), np.array([5, 5]))"
   ]
  },
  {
   "cell_type": "code",
   "execution_count": 103,
   "metadata": {},
   "outputs": [
    {
     "data": {
      "text/plain": [
       "-2.6645352591003757e-15"
      ]
     },
     "execution_count": 103,
     "metadata": {},
     "output_type": "execute_result"
    }
   ],
   "source": [
    "cal_diff_n_accounting(occupancy, np.array([100, 1]), np.array([1, 100]), np.array([5, 5]))"
   ]
  },
  {
   "cell_type": "code",
   "execution_count": 104,
   "metadata": {},
   "outputs": [
    {
     "data": {
      "text/plain": [
       "-8.43769498715119e-15"
      ]
     },
     "execution_count": 104,
     "metadata": {},
     "output_type": "execute_result"
    }
   ],
   "source": [
    "cal_diff_n_accounting(occupancy, np.array([100, 3, 1]), np.array([1, 3, 100]), np.array([5, 2, 5]))"
   ]
  },
  {
   "cell_type": "markdown",
   "metadata": {},
   "source": [
    "#### Total cost diff"
   ]
  },
  {
   "cell_type": "code",
   "execution_count": 108,
   "metadata": {},
   "outputs": [
    {
     "data": {
      "text/plain": [
       "array([2236, 1802,  336])"
      ]
     },
     "execution_count": 108,
     "metadata": {},
     "output_type": "execute_result"
    }
   ],
   "source": [
    "family_id_days_to_pref_cost[[1, 2, 3,], [20, 30, 40]]"
   ]
  },
  {
   "cell_type": "code",
   "execution_count": 109,
   "metadata": {},
   "outputs": [],
   "source": [
    "def cal_diff_n(family_ids, occupancy, day0s, day1s, family_sizes):\n",
    "    \"\"\" Difference in the total cost for moving family_ids \n",
    "        (each with sizes family_sizes) from day0s to day1s correspondingly\n",
    "        given the occupancy before move.\n",
    "        Note: don't support vertorization\n",
    "        family_ids [np.array or list]\n",
    "        occupancy [np.array]: occupancy array before move\n",
    "        days0s [np.array]: day0 of each family\n",
    "        days1s [np.array]: day1 of each family\n",
    "        family_sizes [np.array]: family sizes of each family\n",
    "    \"\"\"\n",
    "    return (\n",
    "        family_id_days_to_pref_cost[family_ids, day1s].sum()\n",
    "        - family_id_days_to_pref_cost[family_ids, day0s].sum()\n",
    "        + cal_diff_n_accounting(occupancy, day0s, day1s, family_sizes)\n",
    "    )"
   ]
  },
  {
   "cell_type": "code",
   "execution_count": 116,
   "metadata": {},
   "outputs": [
    {
     "name": "stdout",
     "output_type": "stream",
     "text": [
      "[-1283.3016393839462, -1316.6999313946365, 12.507939241063339, 25.648247652016874]\n",
      "[-1283.3016393839462, -1316.6999313946365, 12.507939241063339, 25.648247652016874]\n"
     ]
    }
   ],
   "source": [
    "print([cal_diff_1(3, occupancy, 97, x) for x in np.array([1, 2, 3, 100])])\n",
    "print([cal_diff_n([3], occupancy, np.array([97]), np.array([x]), n_people[[3]]) for x in np.array([1, 2, 3, 100])])"
   ]
  },
  {
   "cell_type": "code",
   "execution_count": 119,
   "metadata": {},
   "outputs": [
    {
     "data": {
      "text/plain": [
       "{1: 8, 2: 4}"
      ]
     },
     "execution_count": 119,
     "metadata": {},
     "output_type": "execute_result"
    }
   ],
   "source": [
    "a = {1: 3, 2: 4}\n",
    "a[1] += 5\n",
    "a"
   ]
  },
  {
   "cell_type": "markdown",
   "metadata": {},
   "source": [
    "## Cyclical temperature"
   ]
  },
  {
   "cell_type": "code",
   "execution_count": 163,
   "metadata": {},
   "outputs": [
    {
     "data": {
      "text/plain": [
       "[40,\n",
       " 35,\n",
       " 30,\n",
       " 25,\n",
       " 20,\n",
       " 15,\n",
       " 10,\n",
       " 5,\n",
       " 10,\n",
       " 15,\n",
       " 20,\n",
       " 25,\n",
       " 30,\n",
       " 35,\n",
       " 40,\n",
       " 35,\n",
       " 30,\n",
       " 25,\n",
       " 20,\n",
       " 15,\n",
       " 10,\n",
       " 5,\n",
       " 10,\n",
       " 15,\n",
       " 20,\n",
       " 25,\n",
       " 30,\n",
       " 35]"
      ]
     },
     "execution_count": 163,
     "metadata": {},
     "output_type": "execute_result"
    }
   ],
   "source": [
    "temp_upper = 40\n",
    "temp_lower = 5\n",
    "temp_diff = 5\n",
    "temp_cycles = 2\n",
    "(list(range(temp_upper, temp_lower, -temp_diff)) + list(range(temp_lower, temp_upper, temp_diff))) * temp_cycles"
   ]
  },
  {
   "cell_type": "code",
   "execution_count": null,
   "metadata": {},
   "outputs": [],
   "source": []
  }
 ],
 "metadata": {
  "kernelspec": {
   "display_name": "Python 3",
   "language": "python",
   "name": "python3"
  },
  "language_info": {
   "codemirror_mode": {
    "name": "ipython",
    "version": 3
   },
   "file_extension": ".py",
   "mimetype": "text/x-python",
   "name": "python",
   "nbconvert_exporter": "python",
   "pygments_lexer": "ipython3",
   "version": "3.6.6"
  },
  "toc": {
   "base_numbering": 1,
   "nav_menu": {},
   "number_sections": true,
   "sideBar": true,
   "skip_h1_title": true,
   "title_cell": "Table of Contents",
   "title_sidebar": "Contents",
   "toc_cell": false,
   "toc_position": {
    "height": "calc(100% - 180px)",
    "left": "10px",
    "top": "150px",
    "width": "201.594px"
   },
   "toc_section_display": true,
   "toc_window_display": true
  }
 },
 "nbformat": 4,
 "nbformat_minor": 2
}
